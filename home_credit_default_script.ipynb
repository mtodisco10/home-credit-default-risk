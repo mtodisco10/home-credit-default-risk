{
 "cells": [
  {
   "cell_type": "code",
   "execution_count": 1,
   "metadata": {},
   "outputs": [],
   "source": [
    "import pandas as pd\n",
    "import numpy as np\n",
    "import seaborn as sns\n",
    "import matplotlib.pyplot as plt\n",
    "%matplotlib inline\n",
    "from sklearn.ensemble import RandomForestClassifier\n",
    "from sklearn.model_selection import train_test_split"
   ]
  },
  {
   "cell_type": "code",
   "execution_count": 2,
   "metadata": {},
   "outputs": [],
   "source": [
    "#Read in Data\n",
    "train = pd.read_csv('dataFiles/application_train.csv')\n",
    "test = pd.read_csv('dataFiles/application_test.csv')\n",
    "bureau_data = pd.read_csv('dataFiles/bureau.csv')\n",
    "prev_app_data = pd.read_csv('dataFiles/previous_application.csv')"
   ]
  },
  {
   "cell_type": "code",
   "execution_count": 3,
   "metadata": {},
   "outputs": [],
   "source": [
    "train_subset = train[['SK_ID_CURR', 'TARGET', 'AMT_INCOME_TOTAL', 'AMT_CREDIT', 'AMT_ANNUITY']]"
   ]
  },
  {
   "cell_type": "code",
   "execution_count": 4,
   "metadata": {},
   "outputs": [],
   "source": [
    "annuity_avg = np.mean(train_subset.AMT_ANNUITY)"
   ]
  },
  {
   "cell_type": "code",
   "execution_count": 5,
   "metadata": {},
   "outputs": [
    {
     "name": "stderr",
     "output_type": "stream",
     "text": [
      "/Users/MikeTodisco/anaconda2/lib/python2.7/site-packages/pandas/core/generic.py:3643: SettingWithCopyWarning: \n",
      "A value is trying to be set on a copy of a slice from a DataFrame.\n",
      "Try using .loc[row_indexer,col_indexer] = value instead\n",
      "\n",
      "See the caveats in the documentation: http://pandas.pydata.org/pandas-docs/stable/indexing.html#indexing-view-versus-copy\n",
      "  self[name] = value\n"
     ]
    }
   ],
   "source": [
    "train_subset.AMT_ANNUITY = train_subset.AMT_ANNUITY.fillna(annuity_avg)"
   ]
  },
  {
   "cell_type": "code",
   "execution_count": 6,
   "metadata": {},
   "outputs": [],
   "source": [
    "X, y = train_subset.drop(['SK_ID_CURR','TARGET'], axis = 1), train_subset.TARGET"
   ]
  },
  {
   "cell_type": "code",
   "execution_count": 7,
   "metadata": {},
   "outputs": [],
   "source": [
    "model = RandomForestClassifier()"
   ]
  },
  {
   "cell_type": "code",
   "execution_count": 8,
   "metadata": {},
   "outputs": [
    {
     "data": {
      "text/plain": [
       "RandomForestClassifier(bootstrap=True, class_weight=None, criterion='gini',\n",
       "            max_depth=None, max_features='auto', max_leaf_nodes=None,\n",
       "            min_impurity_decrease=0.0, min_impurity_split=None,\n",
       "            min_samples_leaf=1, min_samples_split=2,\n",
       "            min_weight_fraction_leaf=0.0, n_estimators=10, n_jobs=1,\n",
       "            oob_score=False, random_state=None, verbose=0,\n",
       "            warm_start=False)"
      ]
     },
     "execution_count": 8,
     "metadata": {},
     "output_type": "execute_result"
    }
   ],
   "source": [
    "model"
   ]
  },
  {
   "cell_type": "code",
   "execution_count": 9,
   "metadata": {},
   "outputs": [
    {
     "data": {
      "text/plain": [
       "RandomForestClassifier(bootstrap=True, class_weight=None, criterion='gini',\n",
       "            max_depth=None, max_features='auto', max_leaf_nodes=None,\n",
       "            min_impurity_decrease=0.0, min_impurity_split=None,\n",
       "            min_samples_leaf=1, min_samples_split=2,\n",
       "            min_weight_fraction_leaf=0.0, n_estimators=10, n_jobs=1,\n",
       "            oob_score=False, random_state=None, verbose=0,\n",
       "            warm_start=False)"
      ]
     },
     "execution_count": 9,
     "metadata": {},
     "output_type": "execute_result"
    }
   ],
   "source": [
    "model.fit(X, y)"
   ]
  },
  {
   "cell_type": "code",
   "execution_count": 10,
   "metadata": {},
   "outputs": [],
   "source": [
    "test_subset = test[['SK_ID_CURR', 'AMT_INCOME_TOTAL', 'AMT_CREDIT', 'AMT_ANNUITY']]"
   ]
  },
  {
   "cell_type": "code",
   "execution_count": 11,
   "metadata": {},
   "outputs": [],
   "source": [
    "test_subset.AMT_ANNUITY = test_subset.AMT_ANNUITY.fillna(np.mean(test_subset.AMT_ANNUITY))"
   ]
  },
  {
   "cell_type": "code",
   "execution_count": 12,
   "metadata": {},
   "outputs": [],
   "source": [
    "test_X = test_subset.drop('SK_ID_CURR', axis = 1)"
   ]
  },
  {
   "cell_type": "code",
   "execution_count": 13,
   "metadata": {},
   "outputs": [],
   "source": [
    "test_y = pd.DataFrame(model.predict_proba(test_X))"
   ]
  },
  {
   "cell_type": "code",
   "execution_count": 14,
   "metadata": {},
   "outputs": [],
   "source": [
    "submission_df = pd.concat([test.SK_ID_CURR, test_y], axis=1).drop(0, axis = 1)"
   ]
  },
  {
   "cell_type": "code",
   "execution_count": 15,
   "metadata": {},
   "outputs": [],
   "source": [
    "submission_df.columns = ['SK_ID_CURR', 'Target']"
   ]
  },
  {
   "cell_type": "code",
   "execution_count": 16,
   "metadata": {},
   "outputs": [],
   "source": [
    "submission_df.to_csv('first_submission.csv', index = False)"
   ]
  },
  {
   "cell_type": "code",
   "execution_count": 17,
   "metadata": {},
   "outputs": [],
   "source": [
    "############################## All Numeric Non-Null Columns"
   ]
  },
  {
   "cell_type": "code",
   "execution_count": 18,
   "metadata": {},
   "outputs": [],
   "source": [
    "numeric_train = train.select_dtypes(exclude='object')"
   ]
  },
  {
   "cell_type": "code",
   "execution_count": 19,
   "metadata": {},
   "outputs": [],
   "source": [
    "numeric_train_subset = numeric_train.dropna(axis = 1)"
   ]
  },
  {
   "cell_type": "code",
   "execution_count": 20,
   "metadata": {},
   "outputs": [],
   "source": [
    "X, y = numeric_train_subset.drop(['SK_ID_CURR','TARGET'], axis = 1), numeric_train_subset.TARGET"
   ]
  },
  {
   "cell_type": "code",
   "execution_count": 21,
   "metadata": {},
   "outputs": [
    {
     "data": {
      "text/plain": [
       "RandomForestClassifier(bootstrap=True, class_weight=None, criterion='gini',\n",
       "            max_depth=None, max_features='auto', max_leaf_nodes=None,\n",
       "            min_impurity_decrease=0.0, min_impurity_split=None,\n",
       "            min_samples_leaf=1, min_samples_split=2,\n",
       "            min_weight_fraction_leaf=0.0, n_estimators=10, n_jobs=1,\n",
       "            oob_score=False, random_state=None, verbose=0,\n",
       "            warm_start=False)"
      ]
     },
     "execution_count": 21,
     "metadata": {},
     "output_type": "execute_result"
    }
   ],
   "source": [
    "model.fit(X, y)"
   ]
  },
  {
   "cell_type": "code",
   "execution_count": 22,
   "metadata": {},
   "outputs": [],
   "source": [
    "test_X2 = test[X.columns]"
   ]
  },
  {
   "cell_type": "code",
   "execution_count": 23,
   "metadata": {},
   "outputs": [],
   "source": [
    "test_y2 = pd.DataFrame(model.predict_proba(test_X2))"
   ]
  },
  {
   "cell_type": "code",
   "execution_count": 24,
   "metadata": {},
   "outputs": [],
   "source": [
    "submission_df2 = pd.concat([test.SK_ID_CURR, test_y2], axis=1).drop(0, axis = 1)"
   ]
  },
  {
   "cell_type": "code",
   "execution_count": 25,
   "metadata": {},
   "outputs": [],
   "source": [
    "submission_df2.columns = ['SK_ID_CURR', 'Target']"
   ]
  },
  {
   "cell_type": "code",
   "execution_count": 26,
   "metadata": {},
   "outputs": [],
   "source": [
    "submission_df2.to_csv('2nd_submission.csv', index = False)"
   ]
  },
  {
   "cell_type": "code",
   "execution_count": 27,
   "metadata": {},
   "outputs": [],
   "source": [
    "##### catboost"
   ]
  },
  {
   "cell_type": "code",
   "execution_count": 28,
   "metadata": {},
   "outputs": [],
   "source": [
    "from catboost import CatBoostClassifier"
   ]
  },
  {
   "cell_type": "code",
   "execution_count": 29,
   "metadata": {},
   "outputs": [],
   "source": [
    "cat_model = CatBoostClassifier(iterations=100,\n",
    "    learning_rate=0.1)"
   ]
  },
  {
   "cell_type": "code",
   "execution_count": 30,
   "metadata": {},
   "outputs": [
    {
     "name": "stdout",
     "output_type": "stream",
     "text": [
      "0:\tlearn: 0.5945277\ttotal: 238ms\tremaining: 23.6s\n",
      "1:\tlearn: 0.5196972\ttotal: 412ms\tremaining: 20.2s\n",
      "2:\tlearn: 0.4621204\ttotal: 626ms\tremaining: 20.2s\n",
      "3:\tlearn: 0.4191080\ttotal: 816ms\tremaining: 19.6s\n",
      "4:\tlearn: 0.3858453\ttotal: 1.03s\tremaining: 19.5s\n",
      "5:\tlearn: 0.3607293\ttotal: 1.22s\tremaining: 19.1s\n",
      "6:\tlearn: 0.3410788\ttotal: 1.42s\tremaining: 18.8s\n",
      "7:\tlearn: 0.3263074\ttotal: 1.59s\tremaining: 18.3s\n",
      "8:\tlearn: 0.3146036\ttotal: 1.81s\tremaining: 18.3s\n",
      "9:\tlearn: 0.3054697\ttotal: 1.99s\tremaining: 17.9s\n",
      "10:\tlearn: 0.2982259\ttotal: 2.2s\tremaining: 17.8s\n",
      "11:\tlearn: 0.2926161\ttotal: 2.37s\tremaining: 17.4s\n",
      "12:\tlearn: 0.2881357\ttotal: 2.58s\tremaining: 17.3s\n",
      "13:\tlearn: 0.2846350\ttotal: 2.76s\tremaining: 17s\n",
      "14:\tlearn: 0.2818526\ttotal: 2.97s\tremaining: 16.9s\n",
      "15:\tlearn: 0.2796237\ttotal: 3.15s\tremaining: 16.6s\n",
      "16:\tlearn: 0.2777417\ttotal: 3.36s\tremaining: 16.4s\n",
      "17:\tlearn: 0.2762495\ttotal: 3.54s\tremaining: 16.1s\n",
      "18:\tlearn: 0.2750969\ttotal: 3.74s\tremaining: 16s\n",
      "19:\tlearn: 0.2741230\ttotal: 3.93s\tremaining: 15.7s\n",
      "20:\tlearn: 0.2733470\ttotal: 4.13s\tremaining: 15.5s\n",
      "21:\tlearn: 0.2727249\ttotal: 4.32s\tremaining: 15.3s\n",
      "22:\tlearn: 0.2721958\ttotal: 4.53s\tremaining: 15.2s\n",
      "23:\tlearn: 0.2717640\ttotal: 4.71s\tremaining: 14.9s\n",
      "24:\tlearn: 0.2713870\ttotal: 4.91s\tremaining: 14.7s\n",
      "25:\tlearn: 0.2710799\ttotal: 5.09s\tremaining: 14.5s\n",
      "26:\tlearn: 0.2707907\ttotal: 5.32s\tremaining: 14.4s\n",
      "27:\tlearn: 0.2705742\ttotal: 5.5s\tremaining: 14.1s\n",
      "28:\tlearn: 0.2703555\ttotal: 5.77s\tremaining: 14.1s\n",
      "29:\tlearn: 0.2701923\ttotal: 5.96s\tremaining: 13.9s\n",
      "30:\tlearn: 0.2700438\ttotal: 6.16s\tremaining: 13.7s\n",
      "31:\tlearn: 0.2698909\ttotal: 6.34s\tremaining: 13.5s\n",
      "32:\tlearn: 0.2697806\ttotal: 6.55s\tremaining: 13.3s\n",
      "33:\tlearn: 0.2696861\ttotal: 6.73s\tremaining: 13.1s\n",
      "34:\tlearn: 0.2695865\ttotal: 6.94s\tremaining: 12.9s\n",
      "35:\tlearn: 0.2694953\ttotal: 7.13s\tremaining: 12.7s\n",
      "36:\tlearn: 0.2694088\ttotal: 7.36s\tremaining: 12.5s\n",
      "37:\tlearn: 0.2693117\ttotal: 7.55s\tremaining: 12.3s\n",
      "38:\tlearn: 0.2692404\ttotal: 7.75s\tremaining: 12.1s\n",
      "39:\tlearn: 0.2691816\ttotal: 7.93s\tremaining: 11.9s\n",
      "40:\tlearn: 0.2691201\ttotal: 8.13s\tremaining: 11.7s\n",
      "41:\tlearn: 0.2690569\ttotal: 8.32s\tremaining: 11.5s\n",
      "42:\tlearn: 0.2689755\ttotal: 8.53s\tremaining: 11.3s\n",
      "43:\tlearn: 0.2689184\ttotal: 8.71s\tremaining: 11.1s\n",
      "44:\tlearn: 0.2688683\ttotal: 8.93s\tremaining: 10.9s\n",
      "45:\tlearn: 0.2688291\ttotal: 9.12s\tremaining: 10.7s\n",
      "46:\tlearn: 0.2687795\ttotal: 9.32s\tremaining: 10.5s\n",
      "47:\tlearn: 0.2687228\ttotal: 9.5s\tremaining: 10.3s\n",
      "48:\tlearn: 0.2686817\ttotal: 9.71s\tremaining: 10.1s\n",
      "49:\tlearn: 0.2686419\ttotal: 9.89s\tremaining: 9.89s\n",
      "50:\tlearn: 0.2686133\ttotal: 10.1s\tremaining: 9.7s\n",
      "51:\tlearn: 0.2685701\ttotal: 10.3s\tremaining: 9.5s\n",
      "52:\tlearn: 0.2685370\ttotal: 10.5s\tremaining: 9.33s\n",
      "53:\tlearn: 0.2685012\ttotal: 10.7s\tremaining: 9.13s\n",
      "54:\tlearn: 0.2684608\ttotal: 11s\tremaining: 9s\n",
      "55:\tlearn: 0.2684277\ttotal: 11.3s\tremaining: 8.87s\n",
      "56:\tlearn: 0.2684029\ttotal: 11.6s\tremaining: 8.74s\n",
      "57:\tlearn: 0.2683787\ttotal: 11.9s\tremaining: 8.61s\n",
      "58:\tlearn: 0.2683576\ttotal: 12.2s\tremaining: 8.47s\n",
      "59:\tlearn: 0.2683191\ttotal: 12.4s\tremaining: 8.27s\n",
      "60:\tlearn: 0.2682885\ttotal: 12.6s\tremaining: 8.07s\n",
      "61:\tlearn: 0.2682594\ttotal: 12.9s\tremaining: 7.92s\n",
      "62:\tlearn: 0.2682423\ttotal: 13.1s\tremaining: 7.71s\n",
      "63:\tlearn: 0.2682188\ttotal: 13.4s\tremaining: 7.53s\n",
      "64:\tlearn: 0.2681918\ttotal: 13.6s\tremaining: 7.34s\n",
      "65:\tlearn: 0.2681666\ttotal: 13.9s\tremaining: 7.14s\n",
      "66:\tlearn: 0.2681215\ttotal: 14.1s\tremaining: 6.95s\n",
      "67:\tlearn: 0.2680689\ttotal: 14.3s\tremaining: 6.75s\n",
      "68:\tlearn: 0.2680495\ttotal: 14.6s\tremaining: 6.54s\n",
      "69:\tlearn: 0.2679910\ttotal: 14.8s\tremaining: 6.32s\n",
      "70:\tlearn: 0.2679586\ttotal: 15s\tremaining: 6.11s\n",
      "71:\tlearn: 0.2679193\ttotal: 15.2s\tremaining: 5.89s\n",
      "72:\tlearn: 0.2678932\ttotal: 15.4s\tremaining: 5.68s\n",
      "73:\tlearn: 0.2678670\ttotal: 15.6s\tremaining: 5.47s\n",
      "74:\tlearn: 0.2678513\ttotal: 15.8s\tremaining: 5.26s\n",
      "75:\tlearn: 0.2678188\ttotal: 16s\tremaining: 5.05s\n",
      "76:\tlearn: 0.2677734\ttotal: 16.2s\tremaining: 4.83s\n",
      "77:\tlearn: 0.2677222\ttotal: 16.4s\tremaining: 4.62s\n",
      "78:\tlearn: 0.2676945\ttotal: 16.6s\tremaining: 4.41s\n",
      "79:\tlearn: 0.2676726\ttotal: 16.8s\tremaining: 4.21s\n",
      "80:\tlearn: 0.2676459\ttotal: 17.1s\tremaining: 4.01s\n",
      "81:\tlearn: 0.2676218\ttotal: 17.4s\tremaining: 3.82s\n",
      "82:\tlearn: 0.2675977\ttotal: 17.7s\tremaining: 3.63s\n",
      "83:\tlearn: 0.2675770\ttotal: 17.9s\tremaining: 3.41s\n",
      "84:\tlearn: 0.2675544\ttotal: 18.1s\tremaining: 3.2s\n",
      "85:\tlearn: 0.2675344\ttotal: 18.4s\tremaining: 3s\n",
      "86:\tlearn: 0.2675114\ttotal: 18.6s\tremaining: 2.78s\n",
      "87:\tlearn: 0.2674710\ttotal: 18.8s\tremaining: 2.57s\n",
      "88:\tlearn: 0.2674491\ttotal: 19s\tremaining: 2.35s\n",
      "89:\tlearn: 0.2674192\ttotal: 19.3s\tremaining: 2.14s\n",
      "90:\tlearn: 0.2674027\ttotal: 19.5s\tremaining: 1.92s\n",
      "91:\tlearn: 0.2673783\ttotal: 19.7s\tremaining: 1.71s\n",
      "92:\tlearn: 0.2673585\ttotal: 19.8s\tremaining: 1.49s\n",
      "93:\tlearn: 0.2673401\ttotal: 20.1s\tremaining: 1.28s\n",
      "94:\tlearn: 0.2672900\ttotal: 20.2s\tremaining: 1.06s\n",
      "95:\tlearn: 0.2672537\ttotal: 20.4s\tremaining: 852ms\n",
      "96:\tlearn: 0.2672264\ttotal: 20.6s\tremaining: 638ms\n",
      "97:\tlearn: 0.2672018\ttotal: 20.8s\tremaining: 425ms\n",
      "98:\tlearn: 0.2671826\ttotal: 21s\tremaining: 212ms\n",
      "99:\tlearn: 0.2671430\ttotal: 21.2s\tremaining: 0us\n"
     ]
    },
    {
     "data": {
      "text/plain": [
       "<catboost.core._CatBoostBase at 0x10509e550>"
      ]
     },
     "execution_count": 30,
     "metadata": {},
     "output_type": "execute_result"
    }
   ],
   "source": [
    "cat_model.fit(X, y)"
   ]
  },
  {
   "cell_type": "code",
   "execution_count": 31,
   "metadata": {},
   "outputs": [],
   "source": [
    "test_y_cat = pd.DataFrame(cat_model.predict_proba(test_X2))\n",
    "submission_cat = pd.concat([test.SK_ID_CURR, test_y_cat], axis=1).drop(0, axis = 1)\n",
    "submission_cat.columns = ['SK_ID_CURR', 'Target']\n",
    "submission_cat.to_csv('submission_cat.csv', index = False)"
   ]
  },
  {
   "cell_type": "code",
   "execution_count": 32,
   "metadata": {},
   "outputs": [],
   "source": [
    "##### EDA"
   ]
  },
  {
   "cell_type": "code",
   "execution_count": 33,
   "metadata": {},
   "outputs": [],
   "source": [
    "import matplotlib.pyplot as plt"
   ]
  },
  {
   "cell_type": "code",
   "execution_count": 34,
   "metadata": {},
   "outputs": [],
   "source": [
    "train_subset = train_subset.loc[train_subset.AMT_INCOME_TOTAL <= 100000000]"
   ]
  },
  {
   "cell_type": "code",
   "execution_count": 35,
   "metadata": {},
   "outputs": [
    {
     "data": {
      "text/html": [
       "<div>\n",
       "<style scoped>\n",
       "    .dataframe tbody tr th:only-of-type {\n",
       "        vertical-align: middle;\n",
       "    }\n",
       "\n",
       "    .dataframe tbody tr th {\n",
       "        vertical-align: top;\n",
       "    }\n",
       "\n",
       "    .dataframe thead th {\n",
       "        text-align: right;\n",
       "    }\n",
       "</style>\n",
       "<table border=\"1\" class=\"dataframe\">\n",
       "  <thead>\n",
       "    <tr style=\"text-align: right;\">\n",
       "      <th></th>\n",
       "      <th>SK_ID_CURR</th>\n",
       "      <th>CNT_CHILDREN</th>\n",
       "      <th>AMT_INCOME_TOTAL</th>\n",
       "      <th>AMT_CREDIT</th>\n",
       "      <th>AMT_ANNUITY</th>\n",
       "      <th>AMT_GOODS_PRICE</th>\n",
       "      <th>REGION_POPULATION_RELATIVE</th>\n",
       "      <th>DAYS_BIRTH</th>\n",
       "      <th>DAYS_EMPLOYED</th>\n",
       "      <th>DAYS_REGISTRATION</th>\n",
       "      <th>...</th>\n",
       "      <th>FLAG_DOCUMENT_18</th>\n",
       "      <th>FLAG_DOCUMENT_19</th>\n",
       "      <th>FLAG_DOCUMENT_20</th>\n",
       "      <th>FLAG_DOCUMENT_21</th>\n",
       "      <th>AMT_REQ_CREDIT_BUREAU_HOUR</th>\n",
       "      <th>AMT_REQ_CREDIT_BUREAU_DAY</th>\n",
       "      <th>AMT_REQ_CREDIT_BUREAU_WEEK</th>\n",
       "      <th>AMT_REQ_CREDIT_BUREAU_MON</th>\n",
       "      <th>AMT_REQ_CREDIT_BUREAU_QRT</th>\n",
       "      <th>AMT_REQ_CREDIT_BUREAU_YEAR</th>\n",
       "    </tr>\n",
       "    <tr>\n",
       "      <th>TARGET</th>\n",
       "      <th></th>\n",
       "      <th></th>\n",
       "      <th></th>\n",
       "      <th></th>\n",
       "      <th></th>\n",
       "      <th></th>\n",
       "      <th></th>\n",
       "      <th></th>\n",
       "      <th></th>\n",
       "      <th></th>\n",
       "      <th></th>\n",
       "      <th></th>\n",
       "      <th></th>\n",
       "      <th></th>\n",
       "      <th></th>\n",
       "      <th></th>\n",
       "      <th></th>\n",
       "      <th></th>\n",
       "      <th></th>\n",
       "      <th></th>\n",
       "      <th></th>\n",
       "    </tr>\n",
       "  </thead>\n",
       "  <tbody>\n",
       "    <tr>\n",
       "      <th>0</th>\n",
       "      <td>278362.5</td>\n",
       "      <td>0.0</td>\n",
       "      <td>148500.0</td>\n",
       "      <td>517788.0</td>\n",
       "      <td>24876.0</td>\n",
       "      <td>450000.0</td>\n",
       "      <td>0.018850</td>\n",
       "      <td>-15877.0</td>\n",
       "      <td>-1235.0</td>\n",
       "      <td>-4544.0</td>\n",
       "      <td>...</td>\n",
       "      <td>0.0</td>\n",
       "      <td>0.0</td>\n",
       "      <td>0.0</td>\n",
       "      <td>0.0</td>\n",
       "      <td>0.0</td>\n",
       "      <td>0.0</td>\n",
       "      <td>0.0</td>\n",
       "      <td>0.0</td>\n",
       "      <td>0.0</td>\n",
       "      <td>1.0</td>\n",
       "    </tr>\n",
       "    <tr>\n",
       "      <th>1</th>\n",
       "      <td>276291.0</td>\n",
       "      <td>0.0</td>\n",
       "      <td>135000.0</td>\n",
       "      <td>497520.0</td>\n",
       "      <td>25263.0</td>\n",
       "      <td>450000.0</td>\n",
       "      <td>0.018634</td>\n",
       "      <td>-14282.0</td>\n",
       "      <td>-1034.0</td>\n",
       "      <td>-4056.0</td>\n",
       "      <td>...</td>\n",
       "      <td>0.0</td>\n",
       "      <td>0.0</td>\n",
       "      <td>0.0</td>\n",
       "      <td>0.0</td>\n",
       "      <td>0.0</td>\n",
       "      <td>0.0</td>\n",
       "      <td>0.0</td>\n",
       "      <td>0.0</td>\n",
       "      <td>0.0</td>\n",
       "      <td>2.0</td>\n",
       "    </tr>\n",
       "  </tbody>\n",
       "</table>\n",
       "<p>2 rows × 105 columns</p>\n",
       "</div>"
      ],
      "text/plain": [
       "        SK_ID_CURR  CNT_CHILDREN  AMT_INCOME_TOTAL  AMT_CREDIT  AMT_ANNUITY  \\\n",
       "TARGET                                                                        \n",
       "0         278362.5           0.0          148500.0    517788.0      24876.0   \n",
       "1         276291.0           0.0          135000.0    497520.0      25263.0   \n",
       "\n",
       "        AMT_GOODS_PRICE  REGION_POPULATION_RELATIVE  DAYS_BIRTH  \\\n",
       "TARGET                                                            \n",
       "0              450000.0                    0.018850    -15877.0   \n",
       "1              450000.0                    0.018634    -14282.0   \n",
       "\n",
       "        DAYS_EMPLOYED  DAYS_REGISTRATION             ...              \\\n",
       "TARGET                                               ...               \n",
       "0             -1235.0            -4544.0             ...               \n",
       "1             -1034.0            -4056.0             ...               \n",
       "\n",
       "        FLAG_DOCUMENT_18  FLAG_DOCUMENT_19  FLAG_DOCUMENT_20  \\\n",
       "TARGET                                                         \n",
       "0                    0.0               0.0               0.0   \n",
       "1                    0.0               0.0               0.0   \n",
       "\n",
       "        FLAG_DOCUMENT_21  AMT_REQ_CREDIT_BUREAU_HOUR  \\\n",
       "TARGET                                                 \n",
       "0                    0.0                         0.0   \n",
       "1                    0.0                         0.0   \n",
       "\n",
       "        AMT_REQ_CREDIT_BUREAU_DAY  AMT_REQ_CREDIT_BUREAU_WEEK  \\\n",
       "TARGET                                                          \n",
       "0                             0.0                         0.0   \n",
       "1                             0.0                         0.0   \n",
       "\n",
       "        AMT_REQ_CREDIT_BUREAU_MON  AMT_REQ_CREDIT_BUREAU_QRT  \\\n",
       "TARGET                                                         \n",
       "0                             0.0                        0.0   \n",
       "1                             0.0                        0.0   \n",
       "\n",
       "        AMT_REQ_CREDIT_BUREAU_YEAR  \n",
       "TARGET                              \n",
       "0                              1.0  \n",
       "1                              2.0  \n",
       "\n",
       "[2 rows x 105 columns]"
      ]
     },
     "execution_count": 35,
     "metadata": {},
     "output_type": "execute_result"
    }
   ],
   "source": [
    "numeric_train.groupby('TARGET').median()"
   ]
  },
  {
   "cell_type": "code",
   "execution_count": 36,
   "metadata": {},
   "outputs": [
    {
     "data": {
      "text/plain": [
       "0    307486\n",
       "1        25\n",
       "Name: FLAG_DOCUMENT_4, dtype: int64"
      ]
     },
     "execution_count": 36,
     "metadata": {},
     "output_type": "execute_result"
    }
   ],
   "source": [
    "numeric_train.FLAG_DOCUMENT_4.value_counts()"
   ]
  },
  {
   "cell_type": "code",
   "execution_count": 37,
   "metadata": {},
   "outputs": [],
   "source": [
    "from sklearn.metrics import confusion_matrix"
   ]
  },
  {
   "cell_type": "code",
   "execution_count": 38,
   "metadata": {},
   "outputs": [
    {
     "data": {
      "text/plain": [
       "array([[282661,  24825],\n",
       "       [    25,      0]])"
      ]
     },
     "execution_count": 38,
     "metadata": {},
     "output_type": "execute_result"
    }
   ],
   "source": [
    "confusion_matrix(numeric_train.FLAG_DOCUMENT_4, numeric_train.TARGET)"
   ]
  },
  {
   "cell_type": "code",
   "execution_count": 39,
   "metadata": {},
   "outputs": [
    {
     "data": {
      "text/plain": [
       "0    307486\n",
       "1        25\n",
       "Name: FLAG_DOCUMENT_4, dtype: int64"
      ]
     },
     "execution_count": 39,
     "metadata": {},
     "output_type": "execute_result"
    }
   ],
   "source": [
    "numeric_train.FLAG_DOCUMENT_4.value_counts()"
   ]
  },
  {
   "cell_type": "code",
   "execution_count": 40,
   "metadata": {},
   "outputs": [
    {
     "data": {
      "text/plain": [
       "0    282686\n",
       "1     24825\n",
       "Name: TARGET, dtype: int64"
      ]
     },
     "execution_count": 40,
     "metadata": {},
     "output_type": "execute_result"
    }
   ],
   "source": [
    "numeric_train.TARGET.value_counts()"
   ]
  },
  {
   "cell_type": "code",
   "execution_count": 41,
   "metadata": {},
   "outputs": [],
   "source": [
    "##### Exploring Bureau Data"
   ]
  },
  {
   "cell_type": "code",
   "execution_count": 42,
   "metadata": {},
   "outputs": [
    {
     "data": {
      "text/html": [
       "<div>\n",
       "<style scoped>\n",
       "    .dataframe tbody tr th:only-of-type {\n",
       "        vertical-align: middle;\n",
       "    }\n",
       "\n",
       "    .dataframe tbody tr th {\n",
       "        vertical-align: top;\n",
       "    }\n",
       "\n",
       "    .dataframe thead th {\n",
       "        text-align: right;\n",
       "    }\n",
       "</style>\n",
       "<table border=\"1\" class=\"dataframe\">\n",
       "  <thead>\n",
       "    <tr style=\"text-align: right;\">\n",
       "      <th></th>\n",
       "      <th>SK_ID_CURR</th>\n",
       "      <th>SK_ID_BUREAU</th>\n",
       "      <th>CREDIT_ACTIVE</th>\n",
       "      <th>CREDIT_CURRENCY</th>\n",
       "      <th>DAYS_CREDIT</th>\n",
       "      <th>CREDIT_DAY_OVERDUE</th>\n",
       "      <th>DAYS_CREDIT_ENDDATE</th>\n",
       "      <th>DAYS_ENDDATE_FACT</th>\n",
       "      <th>AMT_CREDIT_MAX_OVERDUE</th>\n",
       "      <th>CNT_CREDIT_PROLONG</th>\n",
       "      <th>AMT_CREDIT_SUM</th>\n",
       "      <th>AMT_CREDIT_SUM_DEBT</th>\n",
       "      <th>AMT_CREDIT_SUM_LIMIT</th>\n",
       "      <th>AMT_CREDIT_SUM_OVERDUE</th>\n",
       "      <th>CREDIT_TYPE</th>\n",
       "      <th>DAYS_CREDIT_UPDATE</th>\n",
       "      <th>AMT_ANNUITY</th>\n",
       "    </tr>\n",
       "  </thead>\n",
       "  <tbody>\n",
       "    <tr>\n",
       "      <th>0</th>\n",
       "      <td>215354</td>\n",
       "      <td>5714462</td>\n",
       "      <td>Closed</td>\n",
       "      <td>currency 1</td>\n",
       "      <td>-497</td>\n",
       "      <td>0</td>\n",
       "      <td>-153.0</td>\n",
       "      <td>-153.0</td>\n",
       "      <td>NaN</td>\n",
       "      <td>0</td>\n",
       "      <td>91323.0</td>\n",
       "      <td>0.0</td>\n",
       "      <td>NaN</td>\n",
       "      <td>0.0</td>\n",
       "      <td>Consumer credit</td>\n",
       "      <td>-131</td>\n",
       "      <td>NaN</td>\n",
       "    </tr>\n",
       "    <tr>\n",
       "      <th>1</th>\n",
       "      <td>215354</td>\n",
       "      <td>5714463</td>\n",
       "      <td>Active</td>\n",
       "      <td>currency 1</td>\n",
       "      <td>-208</td>\n",
       "      <td>0</td>\n",
       "      <td>1075.0</td>\n",
       "      <td>NaN</td>\n",
       "      <td>NaN</td>\n",
       "      <td>0</td>\n",
       "      <td>225000.0</td>\n",
       "      <td>171342.0</td>\n",
       "      <td>NaN</td>\n",
       "      <td>0.0</td>\n",
       "      <td>Credit card</td>\n",
       "      <td>-20</td>\n",
       "      <td>NaN</td>\n",
       "    </tr>\n",
       "    <tr>\n",
       "      <th>2</th>\n",
       "      <td>215354</td>\n",
       "      <td>5714464</td>\n",
       "      <td>Active</td>\n",
       "      <td>currency 1</td>\n",
       "      <td>-203</td>\n",
       "      <td>0</td>\n",
       "      <td>528.0</td>\n",
       "      <td>NaN</td>\n",
       "      <td>NaN</td>\n",
       "      <td>0</td>\n",
       "      <td>464323.5</td>\n",
       "      <td>NaN</td>\n",
       "      <td>NaN</td>\n",
       "      <td>0.0</td>\n",
       "      <td>Consumer credit</td>\n",
       "      <td>-16</td>\n",
       "      <td>NaN</td>\n",
       "    </tr>\n",
       "    <tr>\n",
       "      <th>3</th>\n",
       "      <td>215354</td>\n",
       "      <td>5714465</td>\n",
       "      <td>Active</td>\n",
       "      <td>currency 1</td>\n",
       "      <td>-203</td>\n",
       "      <td>0</td>\n",
       "      <td>NaN</td>\n",
       "      <td>NaN</td>\n",
       "      <td>NaN</td>\n",
       "      <td>0</td>\n",
       "      <td>90000.0</td>\n",
       "      <td>NaN</td>\n",
       "      <td>NaN</td>\n",
       "      <td>0.0</td>\n",
       "      <td>Credit card</td>\n",
       "      <td>-16</td>\n",
       "      <td>NaN</td>\n",
       "    </tr>\n",
       "    <tr>\n",
       "      <th>4</th>\n",
       "      <td>215354</td>\n",
       "      <td>5714466</td>\n",
       "      <td>Active</td>\n",
       "      <td>currency 1</td>\n",
       "      <td>-629</td>\n",
       "      <td>0</td>\n",
       "      <td>1197.0</td>\n",
       "      <td>NaN</td>\n",
       "      <td>77674.5</td>\n",
       "      <td>0</td>\n",
       "      <td>2700000.0</td>\n",
       "      <td>NaN</td>\n",
       "      <td>NaN</td>\n",
       "      <td>0.0</td>\n",
       "      <td>Consumer credit</td>\n",
       "      <td>-21</td>\n",
       "      <td>NaN</td>\n",
       "    </tr>\n",
       "  </tbody>\n",
       "</table>\n",
       "</div>"
      ],
      "text/plain": [
       "   SK_ID_CURR  SK_ID_BUREAU CREDIT_ACTIVE CREDIT_CURRENCY  DAYS_CREDIT  \\\n",
       "0      215354       5714462        Closed      currency 1         -497   \n",
       "1      215354       5714463        Active      currency 1         -208   \n",
       "2      215354       5714464        Active      currency 1         -203   \n",
       "3      215354       5714465        Active      currency 1         -203   \n",
       "4      215354       5714466        Active      currency 1         -629   \n",
       "\n",
       "   CREDIT_DAY_OVERDUE  DAYS_CREDIT_ENDDATE  DAYS_ENDDATE_FACT  \\\n",
       "0                   0               -153.0             -153.0   \n",
       "1                   0               1075.0                NaN   \n",
       "2                   0                528.0                NaN   \n",
       "3                   0                  NaN                NaN   \n",
       "4                   0               1197.0                NaN   \n",
       "\n",
       "   AMT_CREDIT_MAX_OVERDUE  CNT_CREDIT_PROLONG  AMT_CREDIT_SUM  \\\n",
       "0                     NaN                   0         91323.0   \n",
       "1                     NaN                   0        225000.0   \n",
       "2                     NaN                   0        464323.5   \n",
       "3                     NaN                   0         90000.0   \n",
       "4                 77674.5                   0       2700000.0   \n",
       "\n",
       "   AMT_CREDIT_SUM_DEBT  AMT_CREDIT_SUM_LIMIT  AMT_CREDIT_SUM_OVERDUE  \\\n",
       "0                  0.0                   NaN                     0.0   \n",
       "1             171342.0                   NaN                     0.0   \n",
       "2                  NaN                   NaN                     0.0   \n",
       "3                  NaN                   NaN                     0.0   \n",
       "4                  NaN                   NaN                     0.0   \n",
       "\n",
       "       CREDIT_TYPE  DAYS_CREDIT_UPDATE  AMT_ANNUITY  \n",
       "0  Consumer credit                -131          NaN  \n",
       "1      Credit card                 -20          NaN  \n",
       "2  Consumer credit                 -16          NaN  \n",
       "3      Credit card                 -16          NaN  \n",
       "4  Consumer credit                 -21          NaN  "
      ]
     },
     "execution_count": 42,
     "metadata": {},
     "output_type": "execute_result"
    }
   ],
   "source": [
    "bureau_data.head()"
   ]
  },
  {
   "cell_type": "code",
   "execution_count": 43,
   "metadata": {},
   "outputs": [],
   "source": [
    "bureau_data_grouped = bureau_data.groupby('SK_ID_CURR', as_index=False).agg({'SK_ID_BUREAU': 'count', 'AMT_CREDIT_MAX_OVERDUE':sum,\\\n",
    "                                                      'AMT_CREDIT_SUM_OVERDUE': sum})"
   ]
  },
  {
   "cell_type": "code",
   "execution_count": 44,
   "metadata": {},
   "outputs": [],
   "source": [
    "# Joining Bureau Grouped Data with Train Data\n",
    "\n",
    "merged_data = train.merge(bureau_data_grouped, how = 'left', left_on = 'SK_ID_CURR', right_on = 'SK_ID_CURR')"
   ]
  },
  {
   "cell_type": "code",
   "execution_count": 45,
   "metadata": {},
   "outputs": [],
   "source": [
    "merged_data = merged_data[['SK_ID_CURR','TARGET','NAME_CONTRACT_TYPE','CODE_GENDER','FLAG_OWN_CAR','FLAG_OWN_REALTY','CNT_CHILDREN','AMT_INCOME_TOTAL','AMT_CREDIT','AMT_ANNUITY','AMT_GOODS_PRICE','NAME_TYPE_SUITE',\\\n",
    "            'NAME_INCOME_TYPE','NAME_EDUCATION_TYPE','NAME_FAMILY_STATUS','NAME_HOUSING_TYPE','REGION_POPULATION_RELATIVE','DAYS_BIRTH','DAYS_EMPLOYED','DAYS_REGISTRATION','DAYS_ID_PUBLISH',\\\n",
    "            'OWN_CAR_AGE','FLAG_MOBIL','FLAG_EMP_PHONE','FLAG_WORK_PHONE','FLAG_CONT_MOBILE','FLAG_PHONE','FLAG_EMAIL','CNT_FAM_MEMBERS','REGION_RATING_CLIENT','REGION_RATING_CLIENT_W_CITY',\\\n",
    "            'WEEKDAY_APPR_PROCESS_START','EMERGENCYSTATE_MODE','FLAG_DOCUMENT_2','FLAG_DOCUMENT_3','FLAG_DOCUMENT_4','FLAG_DOCUMENT_5','FLAG_DOCUMENT_6','FLAG_DOCUMENT_7','FLAG_DOCUMENT_8',\\\n",
    "            'FLAG_DOCUMENT_9','FLAG_DOCUMENT_10','FLAG_DOCUMENT_11','FLAG_DOCUMENT_12','FLAG_DOCUMENT_13','FLAG_DOCUMENT_14','FLAG_DOCUMENT_15','FLAG_DOCUMENT_16','FLAG_DOCUMENT_17','FLAG_DOCUMENT_18',\\\n",
    "            'FLAG_DOCUMENT_21','FLAG_DOCUMENT_20','FLAG_DOCUMENT_21','AMT_CREDIT_MAX_OVERDUE','AMT_CREDIT_SUM_OVERDUE']]\n"
   ]
  },
  {
   "cell_type": "code",
   "execution_count": 46,
   "metadata": {},
   "outputs": [],
   "source": [
    "merged_data_dummies = pd.get_dummies(merged_data)"
   ]
  },
  {
   "cell_type": "code",
   "execution_count": 47,
   "metadata": {},
   "outputs": [],
   "source": [
    "def fill_missing_avg(df, col):\n",
    "    df[col] = df[col].fillna(np.mean(df[col]))"
   ]
  },
  {
   "cell_type": "code",
   "execution_count": 48,
   "metadata": {},
   "outputs": [],
   "source": [
    "fill_missing_avg(merged_data_dummies, 'AMT_ANNUITY')\n",
    "fill_missing_avg(merged_data_dummies, 'AMT_GOODS_PRICE')\n",
    "fill_missing_avg(merged_data_dummies, 'OWN_CAR_AGE')\n",
    "fill_missing_avg(merged_data_dummies, 'CNT_FAM_MEMBERS')\n",
    "fill_missing_avg(merged_data_dummies, 'AMT_CREDIT_MAX_OVERDUE')\n",
    "fill_missing_avg(merged_data_dummies, 'AMT_CREDIT_MAX_OVERDUE')\n",
    "fill_missing_avg(merged_data_dummies, 'AMT_CREDIT_SUM_OVERDUE')"
   ]
  },
  {
   "cell_type": "code",
   "execution_count": 49,
   "metadata": {},
   "outputs": [],
   "source": [
    "X, y = merged_data_dummies.drop(['SK_ID_CURR','TARGET','CODE_GENDER_XNA','NAME_FAMILY_STATUS_Unknown', 'NAME_INCOME_TYPE_Maternity leave'], axis = 1), merged_data_dummies.TARGET"
   ]
  },
  {
   "cell_type": "code",
   "execution_count": 50,
   "metadata": {},
   "outputs": [
    {
     "name": "stdout",
     "output_type": "stream",
     "text": [
      "0:\tlearn: 0.5939008\ttotal: 323ms\tremaining: 31.9s\n",
      "1:\tlearn: 0.5178417\ttotal: 660ms\tremaining: 32.3s\n",
      "2:\tlearn: 0.4602223\ttotal: 975ms\tremaining: 31.5s\n",
      "3:\tlearn: 0.4170903\ttotal: 1.28s\tremaining: 30.8s\n",
      "4:\tlearn: 0.3836631\ttotal: 1.62s\tremaining: 30.8s\n",
      "5:\tlearn: 0.3581166\ttotal: 1.94s\tremaining: 30.5s\n",
      "6:\tlearn: 0.3385851\ttotal: 2.27s\tremaining: 30.2s\n",
      "7:\tlearn: 0.3230295\ttotal: 2.6s\tremaining: 29.9s\n",
      "8:\tlearn: 0.3109420\ttotal: 2.91s\tremaining: 29.4s\n",
      "9:\tlearn: 0.3017065\ttotal: 3.23s\tremaining: 29s\n",
      "10:\tlearn: 0.2946315\ttotal: 3.54s\tremaining: 28.7s\n",
      "11:\tlearn: 0.2889119\ttotal: 3.91s\tremaining: 28.7s\n",
      "12:\tlearn: 0.2842613\ttotal: 4.29s\tremaining: 28.7s\n",
      "13:\tlearn: 0.2805721\ttotal: 4.61s\tremaining: 28.3s\n",
      "14:\tlearn: 0.2776368\ttotal: 4.93s\tremaining: 27.9s\n",
      "15:\tlearn: 0.2753686\ttotal: 5.25s\tremaining: 27.6s\n",
      "16:\tlearn: 0.2734282\ttotal: 5.6s\tremaining: 27.3s\n",
      "17:\tlearn: 0.2718833\ttotal: 6.15s\tremaining: 28s\n",
      "18:\tlearn: 0.2706104\ttotal: 6.61s\tremaining: 28.2s\n",
      "19:\tlearn: 0.2694794\ttotal: 6.93s\tremaining: 27.7s\n",
      "20:\tlearn: 0.2685490\ttotal: 7.38s\tremaining: 27.8s\n",
      "21:\tlearn: 0.2678321\ttotal: 7.7s\tremaining: 27.3s\n",
      "22:\tlearn: 0.2671341\ttotal: 8.04s\tremaining: 26.9s\n",
      "23:\tlearn: 0.2665654\ttotal: 8.35s\tremaining: 26.4s\n",
      "24:\tlearn: 0.2660640\ttotal: 8.67s\tremaining: 26s\n",
      "25:\tlearn: 0.2656571\ttotal: 8.99s\tremaining: 25.6s\n",
      "26:\tlearn: 0.2653540\ttotal: 9.29s\tremaining: 25.1s\n",
      "27:\tlearn: 0.2650606\ttotal: 9.64s\tremaining: 24.8s\n",
      "28:\tlearn: 0.2648275\ttotal: 9.95s\tremaining: 24.4s\n",
      "29:\tlearn: 0.2645767\ttotal: 10.3s\tremaining: 23.9s\n",
      "30:\tlearn: 0.2643277\ttotal: 10.6s\tremaining: 23.5s\n",
      "31:\tlearn: 0.2641618\ttotal: 10.9s\tremaining: 23.1s\n",
      "32:\tlearn: 0.2639326\ttotal: 11.2s\tremaining: 22.7s\n",
      "33:\tlearn: 0.2637579\ttotal: 11.5s\tremaining: 22.3s\n",
      "34:\tlearn: 0.2636074\ttotal: 11.8s\tremaining: 22s\n",
      "35:\tlearn: 0.2634785\ttotal: 12.1s\tremaining: 21.6s\n",
      "36:\tlearn: 0.2633428\ttotal: 12.4s\tremaining: 21.2s\n",
      "37:\tlearn: 0.2632344\ttotal: 12.8s\tremaining: 20.9s\n",
      "38:\tlearn: 0.2631019\ttotal: 13.1s\tremaining: 20.5s\n",
      "39:\tlearn: 0.2630073\ttotal: 13.4s\tremaining: 20.2s\n",
      "40:\tlearn: 0.2629112\ttotal: 13.8s\tremaining: 19.8s\n",
      "41:\tlearn: 0.2628195\ttotal: 14.1s\tremaining: 19.4s\n",
      "42:\tlearn: 0.2627150\ttotal: 14.4s\tremaining: 19.1s\n",
      "43:\tlearn: 0.2626015\ttotal: 14.7s\tremaining: 18.7s\n",
      "44:\tlearn: 0.2625258\ttotal: 15s\tremaining: 18.4s\n",
      "45:\tlearn: 0.2624262\ttotal: 15.3s\tremaining: 18s\n",
      "46:\tlearn: 0.2623729\ttotal: 15.7s\tremaining: 17.7s\n",
      "47:\tlearn: 0.2622938\ttotal: 16s\tremaining: 17.3s\n",
      "48:\tlearn: 0.2622382\ttotal: 16.3s\tremaining: 16.9s\n",
      "49:\tlearn: 0.2622004\ttotal: 16.6s\tremaining: 16.6s\n",
      "50:\tlearn: 0.2621466\ttotal: 16.9s\tremaining: 16.3s\n",
      "51:\tlearn: 0.2621021\ttotal: 17.2s\tremaining: 15.9s\n",
      "52:\tlearn: 0.2620231\ttotal: 17.6s\tremaining: 15.6s\n",
      "53:\tlearn: 0.2619501\ttotal: 17.9s\tremaining: 15.2s\n",
      "54:\tlearn: 0.2619004\ttotal: 18.2s\tremaining: 14.9s\n",
      "55:\tlearn: 0.2618614\ttotal: 18.5s\tremaining: 14.6s\n",
      "56:\tlearn: 0.2617815\ttotal: 18.8s\tremaining: 14.2s\n",
      "57:\tlearn: 0.2617377\ttotal: 19.2s\tremaining: 13.9s\n",
      "58:\tlearn: 0.2616688\ttotal: 19.6s\tremaining: 13.6s\n",
      "59:\tlearn: 0.2616158\ttotal: 20s\tremaining: 13.4s\n",
      "60:\tlearn: 0.2615639\ttotal: 20.5s\tremaining: 13.1s\n",
      "61:\tlearn: 0.2614961\ttotal: 20.8s\tremaining: 12.8s\n",
      "62:\tlearn: 0.2614576\ttotal: 21.2s\tremaining: 12.5s\n",
      "63:\tlearn: 0.2614171\ttotal: 21.6s\tremaining: 12.2s\n",
      "64:\tlearn: 0.2613275\ttotal: 21.9s\tremaining: 11.8s\n",
      "65:\tlearn: 0.2612585\ttotal: 22.2s\tremaining: 11.5s\n",
      "66:\tlearn: 0.2612081\ttotal: 22.6s\tremaining: 11.1s\n",
      "67:\tlearn: 0.2611776\ttotal: 22.9s\tremaining: 10.8s\n",
      "68:\tlearn: 0.2610971\ttotal: 23.3s\tremaining: 10.4s\n",
      "69:\tlearn: 0.2610416\ttotal: 23.6s\tremaining: 10.1s\n",
      "70:\tlearn: 0.2609913\ttotal: 23.9s\tremaining: 9.77s\n",
      "71:\tlearn: 0.2609548\ttotal: 24.3s\tremaining: 9.43s\n",
      "72:\tlearn: 0.2609096\ttotal: 24.6s\tremaining: 9.09s\n",
      "73:\tlearn: 0.2608833\ttotal: 24.9s\tremaining: 8.75s\n",
      "74:\tlearn: 0.2608337\ttotal: 25.2s\tremaining: 8.41s\n",
      "75:\tlearn: 0.2607871\ttotal: 25.6s\tremaining: 8.07s\n",
      "76:\tlearn: 0.2607451\ttotal: 25.9s\tremaining: 7.73s\n",
      "77:\tlearn: 0.2607143\ttotal: 26.2s\tremaining: 7.39s\n",
      "78:\tlearn: 0.2606871\ttotal: 26.5s\tremaining: 7.05s\n",
      "79:\tlearn: 0.2606244\ttotal: 26.8s\tremaining: 6.71s\n",
      "80:\tlearn: 0.2606084\ttotal: 27.2s\tremaining: 6.37s\n",
      "81:\tlearn: 0.2605718\ttotal: 27.5s\tremaining: 6.04s\n",
      "82:\tlearn: 0.2605348\ttotal: 27.8s\tremaining: 5.7s\n",
      "83:\tlearn: 0.2604954\ttotal: 28.2s\tremaining: 5.37s\n",
      "84:\tlearn: 0.2604455\ttotal: 28.6s\tremaining: 5.04s\n",
      "85:\tlearn: 0.2604142\ttotal: 29s\tremaining: 4.71s\n",
      "86:\tlearn: 0.2603810\ttotal: 29.3s\tremaining: 4.38s\n",
      "87:\tlearn: 0.2603417\ttotal: 29.6s\tremaining: 4.04s\n",
      "88:\tlearn: 0.2603030\ttotal: 30s\tremaining: 3.7s\n",
      "89:\tlearn: 0.2602580\ttotal: 30.3s\tremaining: 3.37s\n",
      "90:\tlearn: 0.2602109\ttotal: 30.6s\tremaining: 3.03s\n",
      "91:\tlearn: 0.2601957\ttotal: 30.9s\tremaining: 2.69s\n",
      "92:\tlearn: 0.2601692\ttotal: 31.3s\tremaining: 2.35s\n",
      "93:\tlearn: 0.2601327\ttotal: 31.6s\tremaining: 2.02s\n",
      "94:\tlearn: 0.2601086\ttotal: 32.2s\tremaining: 1.69s\n",
      "95:\tlearn: 0.2600705\ttotal: 32.9s\tremaining: 1.37s\n",
      "96:\tlearn: 0.2600598\ttotal: 33.5s\tremaining: 1.03s\n",
      "97:\tlearn: 0.2600158\ttotal: 33.9s\tremaining: 693ms\n",
      "98:\tlearn: 0.2599639\ttotal: 34.4s\tremaining: 347ms\n",
      "99:\tlearn: 0.2599430\ttotal: 34.7s\tremaining: 0us\n"
     ]
    },
    {
     "data": {
      "text/plain": [
       "<catboost.core._CatBoostBase at 0x10509e550>"
      ]
     },
     "execution_count": 50,
     "metadata": {},
     "output_type": "execute_result"
    }
   ],
   "source": [
    "cat_model.fit(X, y)"
   ]
  },
  {
   "cell_type": "code",
   "execution_count": 51,
   "metadata": {},
   "outputs": [],
   "source": [
    "merged_test = test.merge(bureau_data_grouped, how = 'left', left_on = 'SK_ID_CURR', right_on = 'SK_ID_CURR')"
   ]
  },
  {
   "cell_type": "code",
   "execution_count": 52,
   "metadata": {},
   "outputs": [],
   "source": [
    "merged_test = merged_test[['SK_ID_CURR','NAME_CONTRACT_TYPE','CODE_GENDER','FLAG_OWN_CAR','FLAG_OWN_REALTY','CNT_CHILDREN','AMT_INCOME_TOTAL','AMT_CREDIT','AMT_ANNUITY','AMT_GOODS_PRICE','NAME_TYPE_SUITE',\\\n",
    "            'NAME_INCOME_TYPE','NAME_EDUCATION_TYPE','NAME_FAMILY_STATUS','NAME_HOUSING_TYPE','REGION_POPULATION_RELATIVE','DAYS_BIRTH','DAYS_EMPLOYED','DAYS_REGISTRATION','DAYS_ID_PUBLISH',\\\n",
    "            'OWN_CAR_AGE','FLAG_MOBIL','FLAG_EMP_PHONE','FLAG_WORK_PHONE','FLAG_CONT_MOBILE','FLAG_PHONE','FLAG_EMAIL','CNT_FAM_MEMBERS','REGION_RATING_CLIENT','REGION_RATING_CLIENT_W_CITY',\\\n",
    "            'WEEKDAY_APPR_PROCESS_START','EMERGENCYSTATE_MODE','FLAG_DOCUMENT_2','FLAG_DOCUMENT_3','FLAG_DOCUMENT_4','FLAG_DOCUMENT_5','FLAG_DOCUMENT_6','FLAG_DOCUMENT_7','FLAG_DOCUMENT_8',\\\n",
    "            'FLAG_DOCUMENT_9','FLAG_DOCUMENT_10','FLAG_DOCUMENT_11','FLAG_DOCUMENT_12','FLAG_DOCUMENT_13','FLAG_DOCUMENT_14','FLAG_DOCUMENT_15','FLAG_DOCUMENT_16','FLAG_DOCUMENT_17','FLAG_DOCUMENT_18',\\\n",
    "            'FLAG_DOCUMENT_21','FLAG_DOCUMENT_20','FLAG_DOCUMENT_21','AMT_CREDIT_MAX_OVERDUE','AMT_CREDIT_SUM_OVERDUE']]"
   ]
  },
  {
   "cell_type": "code",
   "execution_count": 53,
   "metadata": {},
   "outputs": [],
   "source": [
    "merged_test_dummies = pd.get_dummies(merged_test)"
   ]
  },
  {
   "cell_type": "code",
   "execution_count": 54,
   "metadata": {},
   "outputs": [],
   "source": [
    "fill_missing_avg(merged_test_dummies, 'AMT_ANNUITY')\n",
    "fill_missing_avg(merged_test_dummies, 'OWN_CAR_AGE')\n",
    "fill_missing_avg(merged_test_dummies, 'AMT_CREDIT_MAX_OVERDUE')\n",
    "fill_missing_avg(merged_test_dummies, 'AMT_CREDIT_SUM_OVERDUE')"
   ]
  },
  {
   "cell_type": "code",
   "execution_count": 55,
   "metadata": {},
   "outputs": [],
   "source": [
    "IDs = merged_test_dummies['SK_ID_CURR']"
   ]
  },
  {
   "cell_type": "code",
   "execution_count": 56,
   "metadata": {},
   "outputs": [],
   "source": [
    "merged_test_dummies = merged_test_dummies.drop('SK_ID_CURR', axis = 1)"
   ]
  },
  {
   "cell_type": "code",
   "execution_count": 57,
   "metadata": {},
   "outputs": [],
   "source": [
    "test_y_cat = pd.DataFrame(cat_model.predict_proba(merged_test_dummies))\n",
    "submission_cat = pd.concat([IDs, test_y_cat], axis=1).drop(0, axis = 1)\n",
    "submission_cat.columns = ['SK_ID_CURR', 'Target']\n",
    "submission_cat.to_csv('submission_cat2.csv', index = False)"
   ]
  },
  {
   "cell_type": "code",
   "execution_count": 58,
   "metadata": {},
   "outputs": [],
   "source": [
    "##### Naive Bayes"
   ]
  },
  {
   "cell_type": "code",
   "execution_count": 59,
   "metadata": {},
   "outputs": [],
   "source": [
    "from sklearn.naive_bayes import BernoulliNB"
   ]
  },
  {
   "cell_type": "code",
   "execution_count": 60,
   "metadata": {},
   "outputs": [],
   "source": [
    "nb_model = BernoulliNB()"
   ]
  },
  {
   "cell_type": "code",
   "execution_count": 61,
   "metadata": {},
   "outputs": [
    {
     "name": "stderr",
     "output_type": "stream",
     "text": [
      "/Users/MikeTodisco/anaconda2/lib/python2.7/site-packages/pandas/core/computation/check.py:17: UserWarning: The installed version of numexpr 2.4.4 is not supported in pandas and will be not be used\n",
      "The minimum supported version is 2.4.6\n",
      "\n",
      "  ver=ver, min_ver=_MIN_NUMEXPR_VERSION), UserWarning)\n"
     ]
    }
   ],
   "source": [
    "merged_data_dummies['DAYS_BIRTH'] = merged_data_dummies['DAYS_BIRTH'] * -1"
   ]
  },
  {
   "cell_type": "code",
   "execution_count": 62,
   "metadata": {},
   "outputs": [],
   "source": [
    "merged_data_dummies['DAYS_REGISTRATION'] = merged_data_dummies['DAYS_REGISTRATION'].apply(lambda x: x * -1 if x < 0 else x)\n",
    "merged_data_dummies['DAYS_EMPLOYED'] = merged_data_dummies['DAYS_EMPLOYED'].apply(lambda x: x * -1 if x < 0 else x)\n",
    "merged_data_dummies['DAYS_ID_PUBLISH'] = merged_data_dummies['DAYS_ID_PUBLISH'].apply(lambda x: x * -1 if x < 0 else x)"
   ]
  },
  {
   "cell_type": "code",
   "execution_count": 63,
   "metadata": {},
   "outputs": [],
   "source": [
    "X, y = merged_data_dummies.drop(['SK_ID_CURR','TARGET','CODE_GENDER_XNA','NAME_FAMILY_STATUS_Unknown', 'NAME_INCOME_TYPE_Maternity leave'], axis = 1), merged_data_dummies.TARGET"
   ]
  },
  {
   "cell_type": "code",
   "execution_count": 64,
   "metadata": {},
   "outputs": [
    {
     "data": {
      "text/plain": [
       "BernoulliNB(alpha=1.0, binarize=0.0, class_prior=None, fit_prior=True)"
      ]
     },
     "execution_count": 64,
     "metadata": {},
     "output_type": "execute_result"
    }
   ],
   "source": [
    "nb_model.fit(X, y)"
   ]
  },
  {
   "cell_type": "code",
   "execution_count": 65,
   "metadata": {},
   "outputs": [],
   "source": [
    "merged_test_dummies['DAYS_BIRTH'] = merged_test_dummies['DAYS_BIRTH'].apply(lambda x: x * -1 if x < 0 else x)\n",
    "merged_test_dummies['DAYS_REGISTRATION'] = merged_test_dummies['DAYS_REGISTRATION'].apply(lambda x: x * -1 if x < 0 else x)\n",
    "merged_test_dummies['DAYS_EMPLOYED'] = merged_test_dummies['DAYS_EMPLOYED'].apply(lambda x: x * -1 if x < 0 else x)\n",
    "merged_test_dummies['DAYS_ID_PUBLISH'] = merged_test_dummies['DAYS_ID_PUBLISH'].apply(lambda x: x * -1 if x < 0 else x)\n",
    "merged_test_dummies['REGION_RATING_CLIENT_W_CITY'] = merged_test_dummies['REGION_RATING_CLIENT_W_CITY'].apply(lambda x: x * -1 if x < 0 else x)"
   ]
  },
  {
   "cell_type": "code",
   "execution_count": 66,
   "metadata": {},
   "outputs": [],
   "source": [
    "test_y_nb = pd.DataFrame(nb_model.predict_proba(merged_test_dummies))\n",
    "submission_nb = pd.concat([IDs, test_y_nb], axis=1).drop(0, axis = 1)\n",
    "submission_nb.columns = ['SK_ID_CURR', 'Target']\n",
    "submission_nb.to_csv('submission_nb1.csv', index = False)"
   ]
  },
  {
   "cell_type": "code",
   "execution_count": 67,
   "metadata": {},
   "outputs": [],
   "source": [
    "### Random Forest Classifier"
   ]
  },
  {
   "cell_type": "code",
   "execution_count": 68,
   "metadata": {},
   "outputs": [],
   "source": [
    "from sklearn.ensemble import RandomForestClassifier"
   ]
  },
  {
   "cell_type": "code",
   "execution_count": 79,
   "metadata": {},
   "outputs": [],
   "source": [
    "rf_model = RandomForestClassifier(n_estimators =100, \n",
    "                                       random_state = 1, \n",
    "                                       max_depth = 20,\n",
    "                                       criterion='entropy')"
   ]
  },
  {
   "cell_type": "code",
   "execution_count": 80,
   "metadata": {},
   "outputs": [
    {
     "data": {
      "text/plain": [
       "RandomForestClassifier(bootstrap=True, class_weight=None, criterion='entropy',\n",
       "            max_depth=20, max_features='auto', max_leaf_nodes=None,\n",
       "            min_impurity_decrease=0.0, min_impurity_split=None,\n",
       "            min_samples_leaf=1, min_samples_split=2,\n",
       "            min_weight_fraction_leaf=0.0, n_estimators=100, n_jobs=1,\n",
       "            oob_score=False, random_state=1, verbose=0, warm_start=False)"
      ]
     },
     "execution_count": 80,
     "metadata": {},
     "output_type": "execute_result"
    }
   ],
   "source": [
    "rf_model.fit(X, y)"
   ]
  },
  {
   "cell_type": "code",
   "execution_count": 81,
   "metadata": {},
   "outputs": [],
   "source": [
    "test_y_rf = pd.DataFrame(rf_model.predict_proba(merged_test_dummies))\n",
    "submission_rf = pd.concat([IDs, test_y_rf], axis=1).drop(0, axis = 1)\n",
    "submission_rf.columns = ['SK_ID_CURR', 'Target']\n",
    "submission_rf.to_csv('submission_rf1.csv', index = False)"
   ]
  },
  {
   "cell_type": "code",
   "execution_count": 90,
   "metadata": {},
   "outputs": [
    {
     "data": {
      "text/html": [
       "<div>\n",
       "<style scoped>\n",
       "    .dataframe tbody tr th:only-of-type {\n",
       "        vertical-align: middle;\n",
       "    }\n",
       "\n",
       "    .dataframe tbody tr th {\n",
       "        vertical-align: top;\n",
       "    }\n",
       "\n",
       "    .dataframe thead th {\n",
       "        text-align: right;\n",
       "    }\n",
       "</style>\n",
       "<table border=\"1\" class=\"dataframe\">\n",
       "  <thead>\n",
       "    <tr style=\"text-align: right;\">\n",
       "      <th></th>\n",
       "      <th>Importance</th>\n",
       "      <th>Metric</th>\n",
       "    </tr>\n",
       "  </thead>\n",
       "  <tbody>\n",
       "    <tr>\n",
       "      <th>0</th>\n",
       "      <td>0.080355</td>\n",
       "      <td>DAYS_BIRTH</td>\n",
       "    </tr>\n",
       "    <tr>\n",
       "      <th>1</th>\n",
       "      <td>0.073838</td>\n",
       "      <td>DAYS_EMPLOYED</td>\n",
       "    </tr>\n",
       "    <tr>\n",
       "      <th>2</th>\n",
       "      <td>0.072021</td>\n",
       "      <td>DAYS_ID_PUBLISH</td>\n",
       "    </tr>\n",
       "    <tr>\n",
       "      <th>3</th>\n",
       "      <td>0.069197</td>\n",
       "      <td>DAYS_REGISTRATION</td>\n",
       "    </tr>\n",
       "    <tr>\n",
       "      <th>4</th>\n",
       "      <td>0.065358</td>\n",
       "      <td>AMT_ANNUITY</td>\n",
       "    </tr>\n",
       "    <tr>\n",
       "      <th>5</th>\n",
       "      <td>0.062652</td>\n",
       "      <td>AMT_CREDIT</td>\n",
       "    </tr>\n",
       "    <tr>\n",
       "      <th>6</th>\n",
       "      <td>0.055953</td>\n",
       "      <td>AMT_GOODS_PRICE</td>\n",
       "    </tr>\n",
       "    <tr>\n",
       "      <th>7</th>\n",
       "      <td>0.051240</td>\n",
       "      <td>AMT_INCOME_TOTAL</td>\n",
       "    </tr>\n",
       "    <tr>\n",
       "      <th>8</th>\n",
       "      <td>0.051185</td>\n",
       "      <td>REGION_POPULATION_RELATIVE</td>\n",
       "    </tr>\n",
       "    <tr>\n",
       "      <th>9</th>\n",
       "      <td>0.038621</td>\n",
       "      <td>AMT_CREDIT_MAX_OVERDUE</td>\n",
       "    </tr>\n",
       "    <tr>\n",
       "      <th>10</th>\n",
       "      <td>0.028572</td>\n",
       "      <td>OWN_CAR_AGE</td>\n",
       "    </tr>\n",
       "    <tr>\n",
       "      <th>11</th>\n",
       "      <td>0.017902</td>\n",
       "      <td>CNT_FAM_MEMBERS</td>\n",
       "    </tr>\n",
       "    <tr>\n",
       "      <th>12</th>\n",
       "      <td>0.014459</td>\n",
       "      <td>AMT_CREDIT_SUM_OVERDUE</td>\n",
       "    </tr>\n",
       "    <tr>\n",
       "      <th>13</th>\n",
       "      <td>0.013238</td>\n",
       "      <td>CNT_CHILDREN</td>\n",
       "    </tr>\n",
       "    <tr>\n",
       "      <th>14</th>\n",
       "      <td>0.012016</td>\n",
       "      <td>REGION_RATING_CLIENT_W_CITY</td>\n",
       "    </tr>\n",
       "  </tbody>\n",
       "</table>\n",
       "</div>"
      ],
      "text/plain": [
       "    Importance                       Metric\n",
       "0     0.080355                   DAYS_BIRTH\n",
       "1     0.073838                DAYS_EMPLOYED\n",
       "2     0.072021              DAYS_ID_PUBLISH\n",
       "3     0.069197            DAYS_REGISTRATION\n",
       "4     0.065358                  AMT_ANNUITY\n",
       "5     0.062652                   AMT_CREDIT\n",
       "6     0.055953              AMT_GOODS_PRICE\n",
       "7     0.051240             AMT_INCOME_TOTAL\n",
       "8     0.051185   REGION_POPULATION_RELATIVE\n",
       "9     0.038621       AMT_CREDIT_MAX_OVERDUE\n",
       "10    0.028572                  OWN_CAR_AGE\n",
       "11    0.017902              CNT_FAM_MEMBERS\n",
       "12    0.014459       AMT_CREDIT_SUM_OVERDUE\n",
       "13    0.013238                 CNT_CHILDREN\n",
       "14    0.012016  REGION_RATING_CLIENT_W_CITY"
      ]
     },
     "execution_count": 90,
     "metadata": {},
     "output_type": "execute_result"
    }
   ],
   "source": [
    "pd.DataFrame(sorted(zip(rf_model.feature_importances_, X.columns), reverse=True), \\\n",
    "             columns = ['Importance','Metric']).head(15)"
   ]
  },
  {
   "cell_type": "code",
   "execution_count": null,
   "metadata": {},
   "outputs": [],
   "source": []
  }
 ],
 "metadata": {
  "kernelspec": {
   "display_name": "Python 2",
   "language": "python",
   "name": "python2"
  },
  "language_info": {
   "codemirror_mode": {
    "name": "ipython",
    "version": 2
   },
   "file_extension": ".py",
   "mimetype": "text/x-python",
   "name": "python",
   "nbconvert_exporter": "python",
   "pygments_lexer": "ipython2",
   "version": "2.7.13"
  }
 },
 "nbformat": 4,
 "nbformat_minor": 2
}
