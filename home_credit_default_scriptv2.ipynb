{
 "cells": [
  {
   "cell_type": "code",
   "execution_count": 1,
   "metadata": {},
   "outputs": [],
   "source": [
    "import pandas as pd\n",
    "import numpy as np\n",
    "import seaborn as sns\n",
    "import matplotlib.pyplot as plt\n",
    "%matplotlib inline\n",
    "from sklearn.ensemble import RandomForestClassifier\n",
    "from sklearn.model_selection import train_test_split\n",
    "from sklearn.preprocessing import StandardScaler\n",
    "from sklearn.preprocessing import MinMaxScaler, Imputer\n",
    "from sklearn.preprocessing import PolynomialFeatures\n",
    "from scipy import stats"
   ]
  },
  {
   "cell_type": "code",
   "execution_count": 2,
   "metadata": {},
   "outputs": [],
   "source": [
    "#Read in Data\n",
    "train = pd.read_csv('dataFiles/application_train.csv')\n",
    "test = pd.read_csv('dataFiles/application_test.csv')\n",
    "bureau_data = pd.read_csv('dataFiles/bureau.csv')\n",
    "bureau_balance_data = pd.read_csv('dataFiles/bureau_balance.csv')\n",
    "prev_app_data = pd.read_csv('dataFiles/previous_application.csv')\n",
    "pos_cash_balance_data = pd.read_csv('dataFiles/POS_CASH_balance.csv')\n",
    "installments_data = pd.read_csv('dataFiles/installments_payments.csv')\n",
    "cc_data = pd.read_csv('dataFiles/credit_card_balance.csv')"
   ]
  },
  {
   "cell_type": "code",
   "execution_count": 3,
   "metadata": {},
   "outputs": [],
   "source": [
    "##### Bureau Data #####\n",
    "bureau_data_grouped = bureau_data.select_dtypes(exclude='object').drop('SK_ID_BUREAU', axis = 1).groupby('SK_ID_CURR').agg([sum, 'mean', 'median', max, min])\n",
    "bureau_data_grouped.columns = ['_'.join(col) if col != ('SK_ID_CURR', '') else col[0] for col in bureau_data_grouped.columns]\n",
    "bureau_data_grouped = bureau_data_grouped.reset_index()"
   ]
  },
  {
   "cell_type": "code",
   "execution_count": 4,
   "metadata": {},
   "outputs": [],
   "source": [
    "#Past Loan Count\n",
    "loan_count = bureau_data[['SK_ID_CURR','SK_ID_BUREAU']].groupby('SK_ID_CURR', \\\n",
    "                                                   as_index=False)['SK_ID_BUREAU'].count().rename(columns = {'SK_ID_BUREAU':'LOAN_COUNT'})\n",
    "\n",
    "bureau_data_grouped = bureau_data_grouped.merge(loan_count, how = 'left')"
   ]
  },
  {
   "cell_type": "code",
   "execution_count": 31,
   "metadata": {},
   "outputs": [],
   "source": [
    "#Unique Loan Types\n",
    "unique_loan_count = bureau_data[['SK_ID_CURR','CREDIT_TYPE']].groupby('SK_ID_CURR',\\\n",
    "                                                                      as_index=False).agg({'CREDIT_TYPE':'nunique'}).rename(columns={'CREDIT_TYPE':'UNIQUE_CREDIT_TYPES'})\n",
    "\n",
    "bureau_data_grouped = bureau_data_grouped.merge(unique_loan_count, how = 'left')"
   ]
  },
  {
   "cell_type": "code",
   "execution_count": 35,
   "metadata": {},
   "outputs": [],
   "source": [
    "#Total Active Loans\n",
    "bureau_data['CREDIT_ACTIVE_BINARY'] = bureau_data['CREDIT_ACTIVE'].apply(lambda x: 1 if x == 'Active' else 0)\n",
    "\n",
    "active_loan_count = bureau_data[['SK_ID_CURR','CREDIT_ACTIVE_BINARY']].groupby('SK_ID_CURR', \\\n",
    "                                                   as_index=False)['CREDIT_ACTIVE_BINARY'].sum().rename(columns = {'CREDIT_ACTIVE_BINARY':'ACTIVE_LOANS'})\n",
    "\n",
    "bureau_data_grouped = bureau_data_grouped.merge(active_loan_count, how = 'left')"
   ]
  },
  {
   "cell_type": "code",
   "execution_count": 37,
   "metadata": {},
   "outputs": [
    {
     "name": "stderr",
     "output_type": "stream",
     "text": [
      "/Users/MikeTodisco/anaconda2/lib/python2.7/site-packages/pandas/core/computation/check.py:17: UserWarning: The installed version of numexpr 2.4.4 is not supported in pandas and will be not be used\n",
      "The minimum supported version is 2.4.6\n",
      "\n",
      "  ver=ver, min_ver=_MIN_NUMEXPR_VERSION), UserWarning)\n"
     ]
    }
   ],
   "source": [
    "#Days Between Successive Past Applications\n",
    "grp = bureau_data[['SK_ID_CURR', 'SK_ID_BUREAU', 'DAYS_CREDIT']].groupby(by = ['SK_ID_CURR'])\n",
    "grp1 = grp.apply(lambda x: x.sort_values(['DAYS_CREDIT'], ascending = False)).reset_index(drop = True)\n",
    "\n",
    "grp1['DAYS_CREDIT1'] = grp1['DAYS_CREDIT']*-1\n",
    "grp1['DAYS_DIFF'] = grp1.groupby(by = ['SK_ID_CURR'])['DAYS_CREDIT1'].diff()\n",
    "grp1['DAYS_DIFF'] = grp1['DAYS_DIFF'].fillna(0).astype('uint32')\n",
    "del grp1['DAYS_CREDIT1'], grp1['DAYS_CREDIT']"
   ]
  },
  {
   "cell_type": "code",
   "execution_count": 38,
   "metadata": {},
   "outputs": [],
   "source": [
    "past_app_days = grp1.groupby('SK_ID_CURR', as_index=False)['DAYS_DIFF'].mean()"
   ]
  },
  {
   "cell_type": "code",
   "execution_count": 39,
   "metadata": {},
   "outputs": [],
   "source": [
    "bureau_data_grouped = bureau_data_grouped.merge(past_app_days, how = 'left')"
   ]
  },
  {
   "cell_type": "code",
   "execution_count": 40,
   "metadata": {},
   "outputs": [],
   "source": [
    "# Days Credit Expires\n",
    "bureau_data['CREDIT_ENDDATE_BINARY'] = bureau_data['DAYS_CREDIT_ENDDATE'].apply(lambda x: 0 if x < 0 else 1) "
   ]
  },
  {
   "cell_type": "code",
   "execution_count": 41,
   "metadata": {},
   "outputs": [],
   "source": [
    "B1 = bureau_data.loc[bureau_data['CREDIT_ENDDATE_BINARY'] == 1]"
   ]
  },
  {
   "cell_type": "code",
   "execution_count": 42,
   "metadata": {},
   "outputs": [],
   "source": [
    "grp = B1[['SK_ID_CURR', 'SK_ID_BUREAU', 'DAYS_CREDIT_ENDDATE']].groupby(by = ['SK_ID_CURR'])\n",
    "# Sort the values of CREDIT_ENDDATE for each customer ID \n",
    "grp1 = grp.apply(lambda x: x.sort_values(['DAYS_CREDIT_ENDDATE'], ascending = True)).reset_index(drop = True)\n",
    "del grp"
   ]
  },
  {
   "cell_type": "code",
   "execution_count": 43,
   "metadata": {},
   "outputs": [],
   "source": [
    "grp1['DAYS_ENDDATE_DIFF'] = grp1.groupby(by = ['SK_ID_CURR'])['DAYS_CREDIT_ENDDATE'].diff()\n",
    "grp1['DAYS_ENDDATE_DIFF'] = grp1['DAYS_ENDDATE_DIFF'].fillna(0).astype('uint32')\n",
    "del grp1['DAYS_CREDIT_ENDDATE']"
   ]
  },
  {
   "cell_type": "code",
   "execution_count": 45,
   "metadata": {},
   "outputs": [],
   "source": [
    "credit_expires_days = grp1.groupby('SK_ID_CURR', as_index = False)['DAYS_ENDDATE_DIFF'].mean()\n",
    "\n",
    "bureau_data_grouped = bureau_data_grouped.merge(credit_expires_days, how = 'left')"
   ]
  },
  {
   "cell_type": "code",
   "execution_count": 47,
   "metadata": {},
   "outputs": [
    {
     "data": {
      "text/plain": [
       "Index([u'SK_ID_CURR', u'DAYS_CREDIT_sum', u'DAYS_CREDIT_mean',\n",
       "       u'DAYS_CREDIT_median', u'DAYS_CREDIT_max', u'DAYS_CREDIT_min',\n",
       "       u'CREDIT_DAY_OVERDUE_sum', u'CREDIT_DAY_OVERDUE_mean',\n",
       "       u'CREDIT_DAY_OVERDUE_median', u'CREDIT_DAY_OVERDUE_max',\n",
       "       u'CREDIT_DAY_OVERDUE_min', u'DAYS_CREDIT_ENDDATE_sum',\n",
       "       u'DAYS_CREDIT_ENDDATE_mean', u'DAYS_CREDIT_ENDDATE_median',\n",
       "       u'DAYS_CREDIT_ENDDATE_max', u'DAYS_CREDIT_ENDDATE_min',\n",
       "       u'DAYS_ENDDATE_FACT_sum', u'DAYS_ENDDATE_FACT_mean',\n",
       "       u'DAYS_ENDDATE_FACT_median', u'DAYS_ENDDATE_FACT_max',\n",
       "       u'DAYS_ENDDATE_FACT_min', u'AMT_CREDIT_MAX_OVERDUE_sum',\n",
       "       u'AMT_CREDIT_MAX_OVERDUE_mean', u'AMT_CREDIT_MAX_OVERDUE_median',\n",
       "       u'AMT_CREDIT_MAX_OVERDUE_max', u'AMT_CREDIT_MAX_OVERDUE_min',\n",
       "       u'CNT_CREDIT_PROLONG_sum', u'CNT_CREDIT_PROLONG_mean',\n",
       "       u'CNT_CREDIT_PROLONG_median', u'CNT_CREDIT_PROLONG_max',\n",
       "       u'CNT_CREDIT_PROLONG_min', u'AMT_CREDIT_SUM_sum',\n",
       "       u'AMT_CREDIT_SUM_mean', u'AMT_CREDIT_SUM_median', u'AMT_CREDIT_SUM_max',\n",
       "       u'AMT_CREDIT_SUM_min', u'AMT_CREDIT_SUM_DEBT_sum',\n",
       "       u'AMT_CREDIT_SUM_DEBT_mean', u'AMT_CREDIT_SUM_DEBT_median',\n",
       "       u'AMT_CREDIT_SUM_DEBT_max', u'AMT_CREDIT_SUM_DEBT_min',\n",
       "       u'AMT_CREDIT_SUM_LIMIT_sum', u'AMT_CREDIT_SUM_LIMIT_mean',\n",
       "       u'AMT_CREDIT_SUM_LIMIT_median', u'AMT_CREDIT_SUM_LIMIT_max',\n",
       "       u'AMT_CREDIT_SUM_LIMIT_min', u'AMT_CREDIT_SUM_OVERDUE_sum',\n",
       "       u'AMT_CREDIT_SUM_OVERDUE_mean', u'AMT_CREDIT_SUM_OVERDUE_median',\n",
       "       u'AMT_CREDIT_SUM_OVERDUE_max', u'AMT_CREDIT_SUM_OVERDUE_min',\n",
       "       u'DAYS_CREDIT_UPDATE_sum', u'DAYS_CREDIT_UPDATE_mean',\n",
       "       u'DAYS_CREDIT_UPDATE_median', u'DAYS_CREDIT_UPDATE_max',\n",
       "       u'DAYS_CREDIT_UPDATE_min', u'AMT_ANNUITY_sum', u'AMT_ANNUITY_mean',\n",
       "       u'AMT_ANNUITY_median', u'AMT_ANNUITY_max', u'AMT_ANNUITY_min',\n",
       "       u'LOAN_COUNT', u'UNIQUE_CREDIT_TYPES', u'CREDIT_ACTIVE_BINARY',\n",
       "       u'ACTIVE_LOANS', u'DAYS_DIFF', u'DAYS_ENDDATE_DIFF'],\n",
       "      dtype='object')"
      ]
     },
     "execution_count": 47,
     "metadata": {},
     "output_type": "execute_result"
    }
   ],
   "source": [
    "bureau_data_grouped.columns"
   ]
  },
  {
   "cell_type": "code",
   "execution_count": 48,
   "metadata": {},
   "outputs": [],
   "source": [
    "# % Active Loans\n",
    "bureau_data_grouped['ACTIVE_LOAN_PERC'] = bureau_data_grouped['ACTIVE_LOANS'] / bureau_data_grouped['LOAN_COUNT'].astype(float)"
   ]
  },
  {
   "cell_type": "code",
   "execution_count": 50,
   "metadata": {},
   "outputs": [],
   "source": [
    "##### Credit Card Data"
   ]
  },
  {
   "cell_type": "code",
   "execution_count": 51,
   "metadata": {},
   "outputs": [],
   "source": [
    "cc_data_one_hot = pd.concat([cc_data['SK_ID_PREV'], \\\n",
    "                            pd.get_dummies(cc_data.select_dtypes(include=['object']), drop_first = True)],\\\n",
    "                            axis = 1)"
   ]
  },
  {
   "cell_type": "code",
   "execution_count": 52,
   "metadata": {},
   "outputs": [],
   "source": [
    "cc_data_one_hot_grouped = cc_data_one_hot.groupby('SK_ID_PREV', as_index=False).max()"
   ]
  },
  {
   "cell_type": "code",
   "execution_count": 53,
   "metadata": {},
   "outputs": [],
   "source": [
    "cc_data_numeric_grouped = cc_data.select_dtypes(exclude=['object']).groupby('SK_ID_PREV', as_index = False).agg(['count', sum, 'median', 'mean', min, max])"
   ]
  },
  {
   "cell_type": "code",
   "execution_count": 54,
   "metadata": {},
   "outputs": [],
   "source": [
    "cc_data_numeric_grouped.columns = ['_CC_'.join(col) if col != ('SK_ID_PREV', '') else col[0] for col in cc_data_numeric_grouped.columns]"
   ]
  },
  {
   "cell_type": "code",
   "execution_count": 55,
   "metadata": {},
   "outputs": [],
   "source": [
    "filtered_cols = filter(lambda x: x[-5:] != 'count' and x[0:10] != 'SK_ID_CURR', cc_data_numeric_grouped.columns.tolist())\n",
    "filtered_cols.insert(0, 'MONTHS_BALANCE_CC_count')"
   ]
  },
  {
   "cell_type": "code",
   "execution_count": 56,
   "metadata": {},
   "outputs": [],
   "source": [
    "cc_data_numeric_grouped_filtered = cc_data_numeric_grouped[filtered_cols].reset_index()"
   ]
  },
  {
   "cell_type": "code",
   "execution_count": 57,
   "metadata": {},
   "outputs": [],
   "source": [
    "cc_data_grouped = cc_data_numeric_grouped_filtered.merge(cc_data_one_hot_grouped, how = 'left')"
   ]
  },
  {
   "cell_type": "code",
   "execution_count": 58,
   "metadata": {},
   "outputs": [],
   "source": [
    "prev_app_data_dummies = pd.get_dummies(prev_app_data[['NAME_CONTRACT_TYPE','FLAG_LAST_APPL_PER_CONTRACT','NAME_CONTRACT_STATUS',\\\n",
    "                                       'NAME_PAYMENT_TYPE','CODE_REJECT_REASON','NAME_TYPE_SUITE','NAME_CLIENT_TYPE',\\\n",
    "                                       'NAME_PORTFOLIO','CHANNEL_TYPE','NAME_YIELD_GROUP','PRODUCT_COMBINATION']]).fillna(0)"
   ]
  },
  {
   "cell_type": "code",
   "execution_count": 59,
   "metadata": {},
   "outputs": [],
   "source": [
    "prev_app_data = pd.concat([prev_app_data.select_dtypes(exclude=['object']), prev_app_data_dummies], axis = 1)"
   ]
  },
  {
   "cell_type": "code",
   "execution_count": 60,
   "metadata": {},
   "outputs": [],
   "source": [
    "prev_app_data_merged = prev_app_data.merge(cc_data_grouped, how = 'left', left_on = 'SK_ID_PREV', right_on = 'SK_ID_PREV')"
   ]
  },
  {
   "cell_type": "code",
   "execution_count": 61,
   "metadata": {},
   "outputs": [],
   "source": [
    "installments_data_grouped = installments_data.groupby('SK_ID_PREV', as_index = False).agg(['count', sum, 'median', 'mean', min, max])"
   ]
  },
  {
   "cell_type": "code",
   "execution_count": 62,
   "metadata": {},
   "outputs": [],
   "source": [
    "installments_data_grouped.columns = ['_INST_'.join(col) if col != ('SK_ID_PREV', '') else col[0] for col in installments_data_grouped.columns]"
   ]
  },
  {
   "cell_type": "code",
   "execution_count": 63,
   "metadata": {},
   "outputs": [],
   "source": [
    "installments_data_grouped = installments_data_grouped.reset_index()"
   ]
  },
  {
   "cell_type": "code",
   "execution_count": 64,
   "metadata": {},
   "outputs": [],
   "source": [
    "filtered_cols = filter(lambda x: x[-5:] != 'count' and x[0:10] != 'SK_ID_CURR', installments_data_grouped.columns.tolist())\n",
    "filtered_cols.insert(0, 'SK_ID_CURR_INST_count')"
   ]
  },
  {
   "cell_type": "code",
   "execution_count": 65,
   "metadata": {},
   "outputs": [],
   "source": [
    "installments_data_grouped = installments_data_grouped[filtered_cols]"
   ]
  },
  {
   "cell_type": "code",
   "execution_count": 66,
   "metadata": {},
   "outputs": [],
   "source": [
    "prev_app_data_merged = prev_app_data_merged.merge(installments_data_grouped, how = 'left', left_on = 'SK_ID_PREV', right_on = 'SK_ID_PREV')"
   ]
  },
  {
   "cell_type": "code",
   "execution_count": 67,
   "metadata": {},
   "outputs": [],
   "source": [
    "pos_cash_balance_data = pd.get_dummies(pos_cash_balance_data)"
   ]
  },
  {
   "cell_type": "code",
   "execution_count": 68,
   "metadata": {},
   "outputs": [],
   "source": [
    "pos_cash_balance_data_grouped = pos_cash_balance_data.groupby('SK_ID_PREV', as_index=False).agg(['count', sum, 'median', 'mean', min, max])"
   ]
  },
  {
   "cell_type": "code",
   "execution_count": 69,
   "metadata": {},
   "outputs": [],
   "source": [
    "pos_cash_balance_data_grouped.columns = ['_POS_'.join(col) if col != ('SK_ID_PREV', '') else col[0] for col in pos_cash_balance_data_grouped.columns]"
   ]
  },
  {
   "cell_type": "code",
   "execution_count": 70,
   "metadata": {},
   "outputs": [],
   "source": [
    "pos_cash_balance_data_grouped = pos_cash_balance_data_grouped.reset_index()"
   ]
  },
  {
   "cell_type": "code",
   "execution_count": 71,
   "metadata": {},
   "outputs": [],
   "source": [
    "filtered_cols = filter(lambda x: x[-5:] != 'count' and x[0:10] != 'SK_ID_CURR', pos_cash_balance_data_grouped.columns.tolist())\n",
    "filtered_cols.insert(0, 'SK_ID_CURR_POS_count')"
   ]
  },
  {
   "cell_type": "code",
   "execution_count": 72,
   "metadata": {},
   "outputs": [],
   "source": [
    "pos_cash_balance_data_grouped = pos_cash_balance_data_grouped[filtered_cols]"
   ]
  },
  {
   "cell_type": "code",
   "execution_count": 73,
   "metadata": {},
   "outputs": [],
   "source": [
    "prev_app_data_merged = prev_app_data_merged.merge(pos_cash_balance_data_grouped, how = 'left', left_on = 'SK_ID_PREV', right_on = 'SK_ID_PREV')"
   ]
  },
  {
   "cell_type": "code",
   "execution_count": 74,
   "metadata": {},
   "outputs": [],
   "source": [
    "bureau_balance_data_grouped = pd.get_dummies(bureau_balance_data).groupby('SK_ID_BUREAU', as_index=False).agg(['count', sum, 'median', 'mean', min, max])"
   ]
  },
  {
   "cell_type": "code",
   "execution_count": 75,
   "metadata": {},
   "outputs": [],
   "source": [
    "bureau_balance_data_grouped.columns = ['_BBD_'.join(col) if col != ('SK_ID_BUREAU', '') else col[0] for col in bureau_balance_data_grouped.columns]"
   ]
  },
  {
   "cell_type": "code",
   "execution_count": 76,
   "metadata": {},
   "outputs": [],
   "source": [
    "bureau_balance_data_grouped = bureau_balance_data_grouped.reset_index()"
   ]
  },
  {
   "cell_type": "code",
   "execution_count": 77,
   "metadata": {},
   "outputs": [],
   "source": [
    "filtered_cols = filter(lambda x: x[-5:] != 'count' and x[0:10] != 'SK_ID_CURR', bureau_balance_data_grouped.columns.tolist())\n",
    "filtered_cols.insert(0, 'MONTHS_BALANCE_BBD_count')"
   ]
  },
  {
   "cell_type": "code",
   "execution_count": 78,
   "metadata": {},
   "outputs": [],
   "source": [
    "bureau_balance_data_grouped = bureau_balance_data_grouped[filtered_cols] "
   ]
  },
  {
   "cell_type": "code",
   "execution_count": 79,
   "metadata": {},
   "outputs": [],
   "source": [
    "#bureau_data_dummies = pd.get_dummies(bureau_data[['CREDIT_ACTIVE','CREDIT_CURRENCY', 'CREDIT_TYPE']]).fillna(0)"
   ]
  },
  {
   "cell_type": "code",
   "execution_count": 80,
   "metadata": {},
   "outputs": [],
   "source": [
    "#bureau_data = pd.concat([bureau_data.select_dtypes(exclude=['object']), bureau_data_dummies], axis = 1)"
   ]
  },
  {
   "cell_type": "code",
   "execution_count": 81,
   "metadata": {},
   "outputs": [],
   "source": [
    "#bureau_data = bureau_data.merge(bureau_balance_data_grouped, how = 'left', left_on = 'SK_ID_BUREAU', right_on = 'SK_ID_BUREAU')"
   ]
  },
  {
   "cell_type": "code",
   "execution_count": 82,
   "metadata": {},
   "outputs": [],
   "source": [
    "filtered_cols = filter(lambda x: x[-5:] != 'count' and x[0:10] != 'SK_ID_CURR', bureau_data_grouped.columns.tolist())\n",
    "filtered_cols.insert(0, 'SK_ID_BUREAU_count')"
   ]
  },
  {
   "cell_type": "code",
   "execution_count": 83,
   "metadata": {},
   "outputs": [],
   "source": [
    "train_dummies = pd.get_dummies(train[['NAME_CONTRACT_TYPE', 'CODE_GENDER', 'FLAG_OWN_CAR', 'FLAG_OWN_REALTY', 'NAME_TYPE_SUITE', 'NAME_INCOME_TYPE', 'NAME_EDUCATION_TYPE',\\\n",
    "'NAME_FAMILY_STATUS', 'NAME_HOUSING_TYPE', 'FONDKAPREMONT_MODE','HOUSETYPE_MODE', 'WALLSMATERIAL_MODE', 'EMERGENCYSTATE_MODE']]).fillna(0)"
   ]
  },
  {
   "cell_type": "code",
   "execution_count": 84,
   "metadata": {},
   "outputs": [],
   "source": [
    "test_dummies = pd.get_dummies(test[['NAME_CONTRACT_TYPE', 'CODE_GENDER', 'FLAG_OWN_CAR', 'FLAG_OWN_REALTY', 'NAME_TYPE_SUITE', 'NAME_INCOME_TYPE', 'NAME_EDUCATION_TYPE',\\\n",
    "'NAME_FAMILY_STATUS', 'NAME_HOUSING_TYPE', 'FONDKAPREMONT_MODE','HOUSETYPE_MODE', 'WALLSMATERIAL_MODE', 'EMERGENCYSTATE_MODE']]).fillna(0)"
   ]
  },
  {
   "cell_type": "code",
   "execution_count": 85,
   "metadata": {},
   "outputs": [],
   "source": [
    "train_one_hot = pd.concat([train.select_dtypes(exclude=['object']), train_dummies], axis = 1)\n",
    "\n",
    "test_one_hot = pd.concat([test.select_dtypes(exclude=['object']), test_dummies], axis = 1)"
   ]
  },
  {
   "cell_type": "code",
   "execution_count": 86,
   "metadata": {},
   "outputs": [],
   "source": [
    "train_merged = train_one_hot.merge(bureau_data_grouped, how = 'left', left_on = 'SK_ID_CURR', right_on = 'SK_ID_CURR')\n",
    "\n",
    "test_merged = test_one_hot.merge(bureau_data_grouped, how = 'left', left_on = 'SK_ID_CURR', right_on = 'SK_ID_CURR')"
   ]
  },
  {
   "cell_type": "code",
   "execution_count": 88,
   "metadata": {},
   "outputs": [],
   "source": [
    "prev_app_data_subset = prev_app_data_merged[prev_app_data_merged.columns.tolist()].drop('SK_ID_PREV', axis = 1)"
   ]
  },
  {
   "cell_type": "code",
   "execution_count": 89,
   "metadata": {},
   "outputs": [],
   "source": [
    "prev_app_data_grouped = prev_app_data_subset.groupby('SK_ID_CURR', as_index=False).sum()"
   ]
  },
  {
   "cell_type": "code",
   "execution_count": 90,
   "metadata": {},
   "outputs": [],
   "source": [
    "#prev_app_data_grouped.columns = ['_'.join(col) if col != ('SK_ID_CURR', '') else col[0] for col in prev_app_data_grouped.columns]\n",
    "#prev_app_data_grouped = prev_app_data_grouped.reset_index()"
   ]
  },
  {
   "cell_type": "code",
   "execution_count": 91,
   "metadata": {},
   "outputs": [],
   "source": [
    "train_merged = train_merged.merge(prev_app_data_grouped, how = 'left', left_on = 'SK_ID_CURR', right_on = 'SK_ID_CURR')\n",
    "\n",
    "test_merged = test_merged.merge(prev_app_data_grouped, how = 'left', left_on = 'SK_ID_CURR', right_on = 'SK_ID_CURR')"
   ]
  },
  {
   "cell_type": "code",
   "execution_count": 92,
   "metadata": {},
   "outputs": [],
   "source": [
    "own_car_median = train_merged.OWN_CAR_AGE.median()"
   ]
  },
  {
   "cell_type": "code",
   "execution_count": 93,
   "metadata": {},
   "outputs": [],
   "source": [
    "def own_car_missing(x):\n",
    "    if x['FLAG_OWN_CAR'] == 'N':\n",
    "        return 28\n",
    "    elif x['FLAG_OWN_CAR'] == 'Y' and pd.isnull(x['OWN_CAR_AGE']):\n",
    "        return own_car_median\n",
    "    else:\n",
    "        return x['OWN_CAR_AGE']"
   ]
  },
  {
   "cell_type": "code",
   "execution_count": 94,
   "metadata": {},
   "outputs": [],
   "source": [
    "train_merged_subset = train_merged.dropna(thresh=len(train_merged) - 1000000, axis = 1)"
   ]
  },
  {
   "cell_type": "code",
   "execution_count": 95,
   "metadata": {},
   "outputs": [],
   "source": [
    "column_corr_subset = train_merged_subset.columns.tolist()"
   ]
  },
  {
   "cell_type": "code",
   "execution_count": 96,
   "metadata": {},
   "outputs": [
    {
     "data": {
      "text/plain": [
       "527"
      ]
     },
     "execution_count": 96,
     "metadata": {},
     "output_type": "execute_result"
    }
   ],
   "source": [
    "len(column_corr_subset)"
   ]
  },
  {
   "cell_type": "code",
   "execution_count": 98,
   "metadata": {},
   "outputs": [],
   "source": [
    "#col_corr = train_merged_subset.corr()['TARGET'].sort_values()"
   ]
  },
  {
   "cell_type": "code",
   "execution_count": 99,
   "metadata": {},
   "outputs": [],
   "source": [
    "#column_corr_subset = col_corr[(col_corr >= 0.0) | (col_corr < -0.0)].index.values.tolist()"
   ]
  },
  {
   "cell_type": "code",
   "execution_count": 100,
   "metadata": {},
   "outputs": [],
   "source": [
    "column_corr_subset.remove('TARGET')"
   ]
  },
  {
   "cell_type": "code",
   "execution_count": 101,
   "metadata": {},
   "outputs": [],
   "source": [
    "column_corr_subset.remove('CODE_GENDER_XNA')\n",
    "column_corr_subset.remove('NAME_FAMILY_STATUS_Unknown')\n",
    "column_corr_subset.remove('NAME_INCOME_TYPE_Maternity leave')"
   ]
  },
  {
   "cell_type": "code",
   "execution_count": 102,
   "metadata": {},
   "outputs": [],
   "source": [
    "train_subset = train_merged_subset[column_corr_subset]\n",
    "\n",
    "test_subset = test_merged[column_corr_subset]"
   ]
  },
  {
   "cell_type": "code",
   "execution_count": 103,
   "metadata": {},
   "outputs": [],
   "source": [
    "imputer = Imputer()\n",
    "imputer.fit(train_subset)\n",
    "train_merged_imputed = pd.DataFrame(imputer.transform(train_subset), columns = train_subset.columns)\n",
    "test_merged_imputed = pd.DataFrame(imputer.transform(test_subset), columns = train_subset.columns)"
   ]
  },
  {
   "cell_type": "code",
   "execution_count": 104,
   "metadata": {},
   "outputs": [],
   "source": [
    "train_merged_imputed['DAYS_EMPLOYED_^2'] = train_merged_imputed['DAYS_EMPLOYED'] ** 2\n",
    "#train_merged_imputed['AMT_GOODS_PRICE_^2'] = train_merged_imputed['AMT_GOODS_PRICE'] ** 2\n",
    "train_merged_imputed['DAYS_CREDIT_mean^2'] = train_merged_imputed['DAYS_CREDIT_mean'] ** 2\n",
    "train_merged_imputed['DAYS_CREDIT_median^2'] = train_merged_imputed['DAYS_CREDIT_median'] ** 2\n",
    "train_merged_imputed['DAYS_BIRTH_^2'] = train_merged_imputed['DAYS_BIRTH'] ** 2\n",
    "train_merged_imputed['REGION_RATING_CLIENT_W_CITY_^2'] = train_merged_imputed['REGION_RATING_CLIENT_W_CITY'] ** 2\n",
    "train_merged_imputed['REGION_RATING_CLIENT_^2'] = train_merged_imputed['REGION_RATING_CLIENT'] ** 2\n",
    "train_merged_imputed['NAME_INCOME_TYPE_Working_^2'] = train_merged_imputed['NAME_INCOME_TYPE_Working'] ** 2\n",
    "train_merged_imputed['DAYS_LAST_PHONE_CHANGE_^2'] = train_merged_imputed['DAYS_LAST_PHONE_CHANGE'] ** 2\n",
    "train_merged_imputed['CODE_GENDER_M_^2'] = train_merged_imputed['CODE_GENDER_M'] ** 2\n",
    "train_merged_imputed['EXT_SOURCE_1_^2'] = train_merged_imputed['EXT_SOURCE_1'] ** 2\n",
    "train_merged_imputed['EXT_SOURCE_2_^2'] = train_merged_imputed['EXT_SOURCE_2'] ** 2\n",
    "train_merged_imputed['EXT_SOURCE_3_^2'] = train_merged_imputed['EXT_SOURCE_3'] ** 2\n",
    "train_merged_imputed['NAME_EDUCATION_TYPE_Higher education_^2'] = train_merged_imputed['NAME_EDUCATION_TYPE_Higher education'] ** 2\n",
    "train_merged_imputed['CODE_GENDER_F_^2']= train_merged_imputed['CODE_GENDER_F'] ** 2\n",
    "\n",
    "train_merged_imputed['DAYS_EMPLOYED_^3'] = train_merged_imputed['DAYS_EMPLOYED'] ** 3\n",
    "#train_merged_imputed['AMT_GOODS_PRICE_^3'] = train_merged_imputed['AMT_GOODS_PRICE'] ** 3\n",
    "train_merged_imputed['DAYS_CREDIT_mean^3'] = train_merged_imputed['DAYS_CREDIT_mean'] ** 3\n",
    "train_merged_imputed['DAYS_CREDIT_median^3'] = train_merged_imputed['DAYS_CREDIT_median'] ** 3\n",
    "train_merged_imputed['DAYS_BIRTH_^3'] = train_merged_imputed['DAYS_BIRTH'] ** 3\n",
    "train_merged_imputed['REGION_RATING_CLIENT_W_CITY_^3'] = train_merged_imputed['REGION_RATING_CLIENT_W_CITY'] ** 3\n",
    "train_merged_imputed['REGION_RATING_CLIENT_^3'] = train_merged_imputed['REGION_RATING_CLIENT'] ** 3\n",
    "train_merged_imputed['NAME_INCOME_TYPE_Working_^3'] = train_merged_imputed['NAME_INCOME_TYPE_Working'] ** 3\n",
    "train_merged_imputed['DAYS_LAST_PHONE_CHANGE_^3'] = train_merged_imputed['DAYS_LAST_PHONE_CHANGE'] ** 3\n",
    "train_merged_imputed['CODE_GENDER_M_^3'] = train_merged_imputed['CODE_GENDER_M'] ** 3\n",
    "train_merged_imputed['EXT_SOURCE_1_^3'] = train_merged_imputed['EXT_SOURCE_1'] ** 3\n",
    "train_merged_imputed['EXT_SOURCE_2_^3'] = train_merged_imputed['EXT_SOURCE_2'] ** 3\n",
    "train_merged_imputed['EXT_SOURCE_3_^3'] = train_merged_imputed['EXT_SOURCE_3'] ** 3\n",
    "train_merged_imputed['NAME_EDUCATION_TYPE_Higher education_^3'] = train_merged_imputed['NAME_EDUCATION_TYPE_Higher education'] ** 3\n",
    "train_merged_imputed['CODE_GENDER_F_^3']= train_merged_imputed['CODE_GENDER_F'] ** 3\n",
    "\n",
    "test_merged_imputed['DAYS_EMPLOYED_^2'] = test_merged_imputed['DAYS_EMPLOYED'] ** 2\n",
    "#test_merged_imputed['AMT_GOODS_PRICE_^2'] = test_merged_imputed['AMT_GOODS_PRICE'] ** 2\n",
    "test_merged_imputed['DAYS_CREDIT_mean^2'] = test_merged_imputed['DAYS_CREDIT_mean'] ** 2\n",
    "test_merged_imputed['DAYS_CREDIT_median^2'] = test_merged_imputed['DAYS_CREDIT_median'] ** 2\n",
    "test_merged_imputed['DAYS_BIRTH_^2'] = test_merged_imputed['DAYS_BIRTH'] ** 2\n",
    "test_merged_imputed['REGION_RATING_CLIENT_W_CITY_^2'] = test_merged_imputed['REGION_RATING_CLIENT_W_CITY'] ** 2\n",
    "test_merged_imputed['REGION_RATING_CLIENT_^2'] = test_merged_imputed['REGION_RATING_CLIENT'] ** 2\n",
    "test_merged_imputed['NAME_INCOME_TYPE_Working_^2'] = test_merged_imputed['NAME_INCOME_TYPE_Working'] ** 2\n",
    "test_merged_imputed['DAYS_LAST_PHONE_CHANGE_^2'] = test_merged_imputed['DAYS_LAST_PHONE_CHANGE'] ** 2\n",
    "test_merged_imputed['CODE_GENDER_M_^2'] = test_merged_imputed['CODE_GENDER_M'] ** 2\n",
    "test_merged_imputed['EXT_SOURCE_1_^2'] = test_merged_imputed['EXT_SOURCE_1'] ** 2\n",
    "test_merged_imputed['EXT_SOURCE_2_^2'] = test_merged_imputed['EXT_SOURCE_2'] ** 2\n",
    "test_merged_imputed['EXT_SOURCE_3_^2'] = test_merged_imputed['EXT_SOURCE_3'] ** 2\n",
    "test_merged_imputed['NAME_EDUCATION_TYPE_Higher education_^2'] = test_merged_imputed['NAME_EDUCATION_TYPE_Higher education'] ** 2\n",
    "test_merged_imputed['CODE_GENDER_F_^2']= test_merged_imputed['CODE_GENDER_F'] ** 2\n",
    "\n",
    "test_merged_imputed['DAYS_EMPLOYED_^3'] = test_merged_imputed['DAYS_EMPLOYED'] ** 3\n",
    "#test_merged_imputed['AMT_GOODS_PRICE_^3'] = test_merged_imputed['AMT_GOODS_PRICE'] ** 3\n",
    "test_merged_imputed['DAYS_CREDIT_mean^3'] = test_merged_imputed['DAYS_CREDIT_mean'] ** 3\n",
    "test_merged_imputed['DAYS_CREDIT_median^3'] = test_merged_imputed['DAYS_CREDIT_median'] ** 3\n",
    "test_merged_imputed['DAYS_BIRTH_^3'] = test_merged_imputed['DAYS_BIRTH'] ** 3\n",
    "test_merged_imputed['REGION_RATING_CLIENT_W_CITY_^3'] = test_merged_imputed['REGION_RATING_CLIENT_W_CITY'] ** 3\n",
    "test_merged_imputed['REGION_RATING_CLIENT_^3'] = test_merged_imputed['REGION_RATING_CLIENT'] ** 3\n",
    "test_merged_imputed['NAME_INCOME_TYPE_Working_^3'] = test_merged_imputed['NAME_INCOME_TYPE_Working'] ** 3\n",
    "test_merged_imputed['DAYS_LAST_PHONE_CHANGE_^3'] = test_merged_imputed['DAYS_LAST_PHONE_CHANGE'] ** 3\n",
    "test_merged_imputed['CODE_GENDER_M_^3'] = test_merged_imputed['CODE_GENDER_M'] ** 3\n",
    "test_merged_imputed['EXT_SOURCE_1_^3'] = test_merged_imputed['EXT_SOURCE_1'] ** 3\n",
    "test_merged_imputed['EXT_SOURCE_2_^3'] = test_merged_imputed['EXT_SOURCE_2'] ** 3\n",
    "test_merged_imputed['EXT_SOURCE_3_^3'] = test_merged_imputed['EXT_SOURCE_3'] ** 3\n",
    "test_merged_imputed['NAME_EDUCATION_TYPE_Higher education_^3'] = test_merged_imputed['NAME_EDUCATION_TYPE_Higher education'] ** 3\n",
    "test_merged_imputed['CODE_GENDER_F_^3']= test_merged_imputed['CODE_GENDER_F'] ** 3"
   ]
  },
  {
   "cell_type": "code",
   "execution_count": 105,
   "metadata": {},
   "outputs": [],
   "source": [
    "poly_transformer = PolynomialFeatures(degree = 1)\n",
    "poly_transformer.fit(train_merged_imputed)\n",
    "train_poly_features = poly_transformer.transform(train_merged_imputed)"
   ]
  },
  {
   "cell_type": "code",
   "execution_count": 106,
   "metadata": {},
   "outputs": [],
   "source": [
    "train_subset_poly = pd.DataFrame(train_poly_features, columns = poly_transformer.get_feature_names(\n",
    "    input_features = train_merged_imputed.columns.tolist()\n",
    "))"
   ]
  },
  {
   "cell_type": "code",
   "execution_count": 107,
   "metadata": {},
   "outputs": [],
   "source": [
    "test_poly_features = poly_transformer.transform(test_merged_imputed)"
   ]
  },
  {
   "cell_type": "code",
   "execution_count": 108,
   "metadata": {},
   "outputs": [],
   "source": [
    "test_subset_poly = pd.DataFrame(test_poly_features, columns = poly_transformer.get_feature_names(input_features = test_merged_imputed.columns.tolist()))"
   ]
  },
  {
   "cell_type": "code",
   "execution_count": 109,
   "metadata": {},
   "outputs": [],
   "source": [
    "scaler = MinMaxScaler(feature_range = (0, 1))"
   ]
  },
  {
   "cell_type": "code",
   "execution_count": 110,
   "metadata": {},
   "outputs": [],
   "source": [
    "scaler.fit(train_subset_poly)\n",
    "train_scaled = scaler.transform(train_subset_poly)\n",
    "test_scaled = scaler.transform(test_subset_poly)"
   ]
  },
  {
   "cell_type": "code",
   "execution_count": 111,
   "metadata": {},
   "outputs": [],
   "source": [
    "from catboost import CatBoostClassifier\n",
    "cat_model = CatBoostClassifier(iterations = 500, random_state = 42, learning_rate = 0.1)"
   ]
  },
  {
   "cell_type": "code",
   "execution_count": 112,
   "metadata": {},
   "outputs": [
    {
     "name": "stdout",
     "output_type": "stream",
     "text": [
      "0:\tlearn: 0.5862801\ttotal: 1.24s\tremaining: 10m 17s\n",
      "1:\tlearn: 0.5060308\ttotal: 2.58s\tremaining: 10m 42s\n",
      "2:\tlearn: 0.4470814\ttotal: 3.86s\tremaining: 10m 39s\n",
      "3:\tlearn: 0.4024775\ttotal: 5.14s\tremaining: 10m 37s\n",
      "4:\tlearn: 0.3676331\ttotal: 6.63s\tremaining: 10m 56s\n",
      "5:\tlearn: 0.3428908\ttotal: 7.95s\tremaining: 10m 54s\n",
      "6:\tlearn: 0.3235050\ttotal: 9.25s\tremaining: 10m 51s\n",
      "7:\tlearn: 0.3079472\ttotal: 10.5s\tremaining: 10m 47s\n",
      "8:\tlearn: 0.2969589\ttotal: 11.9s\tremaining: 10m 50s\n",
      "9:\tlearn: 0.2871337\ttotal: 13.2s\tremaining: 10m 47s\n",
      "10:\tlearn: 0.2792907\ttotal: 14.5s\tremaining: 10m 45s\n",
      "11:\tlearn: 0.2738830\ttotal: 15.8s\tremaining: 10m 43s\n",
      "12:\tlearn: 0.2694686\ttotal: 17.3s\tremaining: 10m 46s\n",
      "13:\tlearn: 0.2654276\ttotal: 18.6s\tremaining: 10m 44s\n",
      "14:\tlearn: 0.2625505\ttotal: 19.9s\tremaining: 10m 42s\n",
      "15:\tlearn: 0.2602372\ttotal: 21.2s\tremaining: 10m 40s\n",
      "16:\tlearn: 0.2582323\ttotal: 22.5s\tremaining: 10m 38s\n",
      "17:\tlearn: 0.2563805\ttotal: 23.8s\tremaining: 10m 36s\n",
      "18:\tlearn: 0.2550045\ttotal: 25.1s\tremaining: 10m 34s\n",
      "19:\tlearn: 0.2537363\ttotal: 26.4s\tremaining: 10m 33s\n",
      "20:\tlearn: 0.2528777\ttotal: 27.7s\tremaining: 10m 32s\n",
      "21:\tlearn: 0.2520236\ttotal: 29s\tremaining: 10m 30s\n",
      "22:\tlearn: 0.2512857\ttotal: 30.3s\tremaining: 10m 28s\n",
      "23:\tlearn: 0.2507051\ttotal: 31.6s\tremaining: 10m 26s\n",
      "24:\tlearn: 0.2500205\ttotal: 32.8s\tremaining: 10m 24s\n",
      "25:\tlearn: 0.2494862\ttotal: 34.1s\tremaining: 10m 22s\n",
      "26:\tlearn: 0.2490744\ttotal: 35.4s\tremaining: 10m 20s\n",
      "27:\tlearn: 0.2486317\ttotal: 36.8s\tremaining: 10m 19s\n",
      "28:\tlearn: 0.2482634\ttotal: 38.3s\tremaining: 10m 21s\n",
      "29:\tlearn: 0.2479579\ttotal: 39.5s\tremaining: 10m 19s\n",
      "30:\tlearn: 0.2477128\ttotal: 40.9s\tremaining: 10m 19s\n",
      "31:\tlearn: 0.2474235\ttotal: 42.5s\tremaining: 10m 21s\n",
      "32:\tlearn: 0.2471788\ttotal: 43.9s\tremaining: 10m 21s\n",
      "33:\tlearn: 0.2469182\ttotal: 45.3s\tremaining: 10m 21s\n",
      "34:\tlearn: 0.2466399\ttotal: 46.7s\tremaining: 10m 19s\n",
      "35:\tlearn: 0.2464181\ttotal: 47.9s\tremaining: 10m 17s\n",
      "36:\tlearn: 0.2461415\ttotal: 49.2s\tremaining: 10m 16s\n",
      "37:\tlearn: 0.2458529\ttotal: 50.6s\tremaining: 10m 14s\n",
      "38:\tlearn: 0.2456704\ttotal: 51.9s\tremaining: 10m 13s\n",
      "39:\tlearn: 0.2454811\ttotal: 53.2s\tremaining: 10m 11s\n",
      "40:\tlearn: 0.2452899\ttotal: 54.5s\tremaining: 10m 9s\n",
      "41:\tlearn: 0.2450585\ttotal: 55.8s\tremaining: 10m 8s\n",
      "42:\tlearn: 0.2448396\ttotal: 57s\tremaining: 10m 6s\n",
      "43:\tlearn: 0.2446808\ttotal: 58.3s\tremaining: 10m 4s\n",
      "44:\tlearn: 0.2445481\ttotal: 59.6s\tremaining: 10m 2s\n",
      "45:\tlearn: 0.2443847\ttotal: 1m\tremaining: 10m\n",
      "46:\tlearn: 0.2442688\ttotal: 1m 2s\tremaining: 9m 59s\n",
      "47:\tlearn: 0.2440779\ttotal: 1m 3s\tremaining: 9m 57s\n",
      "48:\tlearn: 0.2438732\ttotal: 1m 4s\tremaining: 9m 55s\n",
      "49:\tlearn: 0.2437038\ttotal: 1m 6s\tremaining: 9m 54s\n",
      "50:\tlearn: 0.2435629\ttotal: 1m 7s\tremaining: 9m 52s\n",
      "51:\tlearn: 0.2433970\ttotal: 1m 8s\tremaining: 9m 51s\n",
      "52:\tlearn: 0.2432464\ttotal: 1m 10s\tremaining: 9m 51s\n",
      "53:\tlearn: 0.2431334\ttotal: 1m 11s\tremaining: 9m 49s\n",
      "54:\tlearn: 0.2430226\ttotal: 1m 12s\tremaining: 9m 47s\n",
      "55:\tlearn: 0.2429040\ttotal: 1m 13s\tremaining: 9m 46s\n",
      "56:\tlearn: 0.2427217\ttotal: 1m 15s\tremaining: 9m 44s\n",
      "57:\tlearn: 0.2426167\ttotal: 1m 16s\tremaining: 9m 42s\n",
      "58:\tlearn: 0.2425177\ttotal: 1m 17s\tremaining: 9m 41s\n",
      "59:\tlearn: 0.2423840\ttotal: 1m 19s\tremaining: 9m 39s\n",
      "60:\tlearn: 0.2422691\ttotal: 1m 20s\tremaining: 9m 38s\n",
      "61:\tlearn: 0.2421305\ttotal: 1m 21s\tremaining: 9m 36s\n",
      "62:\tlearn: 0.2420821\ttotal: 1m 22s\tremaining: 9m 35s\n",
      "63:\tlearn: 0.2419615\ttotal: 1m 24s\tremaining: 9m 34s\n",
      "64:\tlearn: 0.2418615\ttotal: 1m 25s\tremaining: 9m 32s\n",
      "65:\tlearn: 0.2417776\ttotal: 1m 26s\tremaining: 9m 30s\n",
      "66:\tlearn: 0.2417115\ttotal: 1m 28s\tremaining: 9m 29s\n",
      "67:\tlearn: 0.2416388\ttotal: 1m 29s\tremaining: 9m 27s\n",
      "68:\tlearn: 0.2415623\ttotal: 1m 30s\tremaining: 9m 26s\n",
      "69:\tlearn: 0.2414636\ttotal: 1m 31s\tremaining: 9m 24s\n",
      "70:\tlearn: 0.2413466\ttotal: 1m 33s\tremaining: 9m 23s\n",
      "71:\tlearn: 0.2412524\ttotal: 1m 34s\tremaining: 9m 22s\n",
      "72:\tlearn: 0.2411825\ttotal: 1m 35s\tremaining: 9m 20s\n",
      "73:\tlearn: 0.2410559\ttotal: 1m 37s\tremaining: 9m 19s\n",
      "74:\tlearn: 0.2409547\ttotal: 1m 38s\tremaining: 9m 17s\n",
      "75:\tlearn: 0.2408642\ttotal: 1m 39s\tremaining: 9m 16s\n",
      "76:\tlearn: 0.2407753\ttotal: 1m 41s\tremaining: 9m 15s\n",
      "77:\tlearn: 0.2406868\ttotal: 1m 42s\tremaining: 9m 14s\n",
      "78:\tlearn: 0.2405851\ttotal: 1m 43s\tremaining: 9m 12s\n",
      "79:\tlearn: 0.2405003\ttotal: 1m 45s\tremaining: 9m 11s\n",
      "80:\tlearn: 0.2404216\ttotal: 1m 46s\tremaining: 9m 10s\n",
      "81:\tlearn: 0.2403635\ttotal: 1m 47s\tremaining: 9m 8s\n",
      "82:\tlearn: 0.2403305\ttotal: 1m 48s\tremaining: 9m 6s\n",
      "83:\tlearn: 0.2402896\ttotal: 1m 50s\tremaining: 9m 5s\n",
      "84:\tlearn: 0.2402412\ttotal: 1m 51s\tremaining: 9m 3s\n",
      "85:\tlearn: 0.2401837\ttotal: 1m 52s\tremaining: 9m 2s\n",
      "86:\tlearn: 0.2401038\ttotal: 1m 53s\tremaining: 9m 1s\n",
      "87:\tlearn: 0.2400397\ttotal: 1m 55s\tremaining: 8m 59s\n",
      "88:\tlearn: 0.2399651\ttotal: 1m 56s\tremaining: 8m 58s\n",
      "89:\tlearn: 0.2398914\ttotal: 1m 57s\tremaining: 8m 57s\n",
      "90:\tlearn: 0.2398032\ttotal: 1m 59s\tremaining: 8m 55s\n",
      "91:\tlearn: 0.2397457\ttotal: 2m\tremaining: 8m 54s\n",
      "92:\tlearn: 0.2396754\ttotal: 2m 1s\tremaining: 8m 52s\n",
      "93:\tlearn: 0.2396283\ttotal: 2m 2s\tremaining: 8m 51s\n",
      "94:\tlearn: 0.2395661\ttotal: 2m 4s\tremaining: 8m 49s\n",
      "95:\tlearn: 0.2394858\ttotal: 2m 5s\tremaining: 8m 48s\n",
      "96:\tlearn: 0.2394263\ttotal: 2m 6s\tremaining: 8m 47s\n",
      "97:\tlearn: 0.2393601\ttotal: 2m 8s\tremaining: 8m 45s\n",
      "98:\tlearn: 0.2392982\ttotal: 2m 9s\tremaining: 8m 44s\n",
      "99:\tlearn: 0.2392287\ttotal: 2m 10s\tremaining: 8m 42s\n",
      "100:\tlearn: 0.2391961\ttotal: 2m 12s\tremaining: 8m 42s\n",
      "101:\tlearn: 0.2391532\ttotal: 2m 13s\tremaining: 8m 41s\n",
      "102:\tlearn: 0.2391248\ttotal: 2m 14s\tremaining: 8m 39s\n",
      "103:\tlearn: 0.2390525\ttotal: 2m 16s\tremaining: 8m 38s\n",
      "104:\tlearn: 0.2390097\ttotal: 2m 17s\tremaining: 8m 36s\n",
      "105:\tlearn: 0.2389432\ttotal: 2m 18s\tremaining: 8m 35s\n",
      "106:\tlearn: 0.2389125\ttotal: 2m 20s\tremaining: 8m 34s\n",
      "107:\tlearn: 0.2388652\ttotal: 2m 21s\tremaining: 8m 33s\n",
      "108:\tlearn: 0.2388322\ttotal: 2m 22s\tremaining: 8m 32s\n",
      "109:\tlearn: 0.2387956\ttotal: 2m 24s\tremaining: 8m 31s\n",
      "110:\tlearn: 0.2387645\ttotal: 2m 25s\tremaining: 8m 30s\n",
      "111:\tlearn: 0.2387011\ttotal: 2m 26s\tremaining: 8m 28s\n",
      "112:\tlearn: 0.2386373\ttotal: 2m 28s\tremaining: 8m 27s\n",
      "113:\tlearn: 0.2385903\ttotal: 2m 29s\tremaining: 8m 26s\n",
      "114:\tlearn: 0.2385400\ttotal: 2m 30s\tremaining: 8m 24s\n",
      "115:\tlearn: 0.2384919\ttotal: 2m 32s\tremaining: 8m 23s\n",
      "116:\tlearn: 0.2384445\ttotal: 2m 33s\tremaining: 8m 22s\n",
      "117:\tlearn: 0.2383885\ttotal: 2m 34s\tremaining: 8m 20s\n",
      "118:\tlearn: 0.2383411\ttotal: 2m 35s\tremaining: 8m 19s\n",
      "119:\tlearn: 0.2382719\ttotal: 2m 37s\tremaining: 8m 18s\n",
      "120:\tlearn: 0.2382013\ttotal: 2m 38s\tremaining: 8m 16s\n",
      "121:\tlearn: 0.2381688\ttotal: 2m 39s\tremaining: 8m 15s\n",
      "122:\tlearn: 0.2381325\ttotal: 2m 41s\tremaining: 8m 13s\n",
      "123:\tlearn: 0.2380496\ttotal: 2m 42s\tremaining: 8m 12s\n",
      "124:\tlearn: 0.2380170\ttotal: 2m 44s\tremaining: 8m 12s\n",
      "125:\tlearn: 0.2379619\ttotal: 2m 45s\tremaining: 8m 10s\n",
      "126:\tlearn: 0.2379182\ttotal: 2m 46s\tremaining: 8m 9s\n",
      "127:\tlearn: 0.2378743\ttotal: 2m 47s\tremaining: 8m 7s\n",
      "128:\tlearn: 0.2378065\ttotal: 2m 49s\tremaining: 8m 6s\n",
      "129:\tlearn: 0.2377741\ttotal: 2m 50s\tremaining: 8m 5s\n",
      "130:\tlearn: 0.2377507\ttotal: 2m 51s\tremaining: 8m 3s\n",
      "131:\tlearn: 0.2377192\ttotal: 2m 53s\tremaining: 8m 2s\n",
      "132:\tlearn: 0.2376907\ttotal: 2m 54s\tremaining: 8m 1s\n",
      "133:\tlearn: 0.2376405\ttotal: 2m 55s\tremaining: 7m 59s\n",
      "134:\tlearn: 0.2375944\ttotal: 2m 56s\tremaining: 7m 58s\n",
      "135:\tlearn: 0.2375484\ttotal: 2m 58s\tremaining: 7m 56s\n",
      "136:\tlearn: 0.2375018\ttotal: 2m 59s\tremaining: 7m 55s\n",
      "137:\tlearn: 0.2374430\ttotal: 3m\tremaining: 7m 54s\n",
      "138:\tlearn: 0.2374116\ttotal: 3m 2s\tremaining: 7m 52s\n",
      "139:\tlearn: 0.2373813\ttotal: 3m 3s\tremaining: 7m 51s\n",
      "140:\tlearn: 0.2373493\ttotal: 3m 4s\tremaining: 7m 50s\n",
      "141:\tlearn: 0.2373192\ttotal: 3m 5s\tremaining: 7m 48s\n",
      "142:\tlearn: 0.2372818\ttotal: 3m 7s\tremaining: 7m 47s\n",
      "143:\tlearn: 0.2372552\ttotal: 3m 8s\tremaining: 7m 45s\n",
      "144:\tlearn: 0.2372142\ttotal: 3m 9s\tremaining: 7m 44s\n",
      "145:\tlearn: 0.2371753\ttotal: 3m 11s\tremaining: 7m 43s\n",
      "146:\tlearn: 0.2371425\ttotal: 3m 12s\tremaining: 7m 41s\n",
      "147:\tlearn: 0.2371164\ttotal: 3m 13s\tremaining: 7m 40s\n",
      "148:\tlearn: 0.2370611\ttotal: 3m 15s\tremaining: 7m 39s\n",
      "149:\tlearn: 0.2370176\ttotal: 3m 16s\tremaining: 7m 38s\n",
      "150:\tlearn: 0.2369882\ttotal: 3m 17s\tremaining: 7m 37s\n",
      "151:\tlearn: 0.2369684\ttotal: 3m 19s\tremaining: 7m 35s\n",
      "152:\tlearn: 0.2369381\ttotal: 3m 20s\tremaining: 7m 34s\n",
      "153:\tlearn: 0.2369041\ttotal: 3m 21s\tremaining: 7m 33s\n",
      "154:\tlearn: 0.2368296\ttotal: 3m 22s\tremaining: 7m 31s\n",
      "155:\tlearn: 0.2367997\ttotal: 3m 24s\tremaining: 7m 30s\n",
      "156:\tlearn: 0.2367604\ttotal: 3m 25s\tremaining: 7m 29s\n",
      "157:\tlearn: 0.2367153\ttotal: 3m 26s\tremaining: 7m 27s\n",
      "158:\tlearn: 0.2366545\ttotal: 3m 28s\tremaining: 7m 26s\n",
      "159:\tlearn: 0.2366135\ttotal: 3m 29s\tremaining: 7m 24s\n",
      "160:\tlearn: 0.2365741\ttotal: 3m 30s\tremaining: 7m 23s\n",
      "161:\tlearn: 0.2365513\ttotal: 3m 31s\tremaining: 7m 22s\n",
      "162:\tlearn: 0.2365297\ttotal: 3m 33s\tremaining: 7m 20s\n",
      "163:\tlearn: 0.2364875\ttotal: 3m 34s\tremaining: 7m 19s\n",
      "164:\tlearn: 0.2364498\ttotal: 3m 35s\tremaining: 7m 18s\n",
      "165:\tlearn: 0.2364154\ttotal: 3m 38s\tremaining: 7m 18s\n",
      "166:\tlearn: 0.2363677\ttotal: 3m 39s\tremaining: 7m 18s\n",
      "167:\tlearn: 0.2363327\ttotal: 3m 41s\tremaining: 7m 16s\n",
      "168:\tlearn: 0.2362975\ttotal: 3m 42s\tremaining: 7m 15s\n",
      "169:\tlearn: 0.2362703\ttotal: 3m 43s\tremaining: 7m 14s\n",
      "170:\tlearn: 0.2362375\ttotal: 3m 44s\tremaining: 7m 12s\n",
      "171:\tlearn: 0.2362071\ttotal: 3m 46s\tremaining: 7m 11s\n",
      "172:\tlearn: 0.2361667\ttotal: 3m 47s\tremaining: 7m 10s\n",
      "173:\tlearn: 0.2361246\ttotal: 3m 49s\tremaining: 7m 9s\n",
      "174:\tlearn: 0.2360767\ttotal: 3m 50s\tremaining: 7m 8s\n",
      "175:\tlearn: 0.2360415\ttotal: 3m 52s\tremaining: 7m 7s\n",
      "176:\tlearn: 0.2359926\ttotal: 3m 53s\tremaining: 7m 5s\n",
      "177:\tlearn: 0.2359585\ttotal: 3m 54s\tremaining: 7m 4s\n",
      "178:\tlearn: 0.2359099\ttotal: 3m 55s\tremaining: 7m 2s\n",
      "179:\tlearn: 0.2358990\ttotal: 3m 57s\tremaining: 7m 1s\n",
      "180:\tlearn: 0.2358668\ttotal: 3m 58s\tremaining: 7m\n",
      "181:\tlearn: 0.2358543\ttotal: 3m 59s\tremaining: 6m 58s\n",
      "182:\tlearn: 0.2358244\ttotal: 4m 1s\tremaining: 6m 57s\n",
      "183:\tlearn: 0.2357977\ttotal: 4m 2s\tremaining: 6m 56s\n",
      "184:\tlearn: 0.2357430\ttotal: 4m 3s\tremaining: 6m 55s\n",
      "185:\tlearn: 0.2356992\ttotal: 4m 5s\tremaining: 6m 53s\n",
      "186:\tlearn: 0.2356624\ttotal: 4m 6s\tremaining: 6m 52s\n",
      "187:\tlearn: 0.2356290\ttotal: 4m 7s\tremaining: 6m 51s\n",
      "188:\tlearn: 0.2355823\ttotal: 4m 9s\tremaining: 6m 49s\n",
      "189:\tlearn: 0.2355451\ttotal: 4m 10s\tremaining: 6m 48s\n",
      "190:\tlearn: 0.2355288\ttotal: 4m 11s\tremaining: 6m 47s\n",
      "191:\tlearn: 0.2355047\ttotal: 4m 13s\tremaining: 6m 46s\n",
      "192:\tlearn: 0.2354836\ttotal: 4m 14s\tremaining: 6m 45s\n",
      "193:\tlearn: 0.2354368\ttotal: 4m 16s\tremaining: 6m 43s\n",
      "194:\tlearn: 0.2354010\ttotal: 4m 17s\tremaining: 6m 42s\n",
      "195:\tlearn: 0.2353745\ttotal: 4m 19s\tremaining: 6m 41s\n",
      "196:\tlearn: 0.2353417\ttotal: 4m 20s\tremaining: 6m 40s\n",
      "197:\tlearn: 0.2353005\ttotal: 4m 21s\tremaining: 6m 39s\n",
      "198:\tlearn: 0.2352763\ttotal: 4m 23s\tremaining: 6m 37s\n",
      "199:\tlearn: 0.2352608\ttotal: 4m 24s\tremaining: 6m 36s\n",
      "200:\tlearn: 0.2352420\ttotal: 4m 25s\tremaining: 6m 35s\n",
      "201:\tlearn: 0.2352238\ttotal: 4m 26s\tremaining: 6m 33s\n",
      "202:\tlearn: 0.2352019\ttotal: 4m 28s\tremaining: 6m 32s\n",
      "203:\tlearn: 0.2351683\ttotal: 4m 29s\tremaining: 6m 31s\n",
      "204:\tlearn: 0.2351507\ttotal: 4m 30s\tremaining: 6m 29s\n",
      "205:\tlearn: 0.2351389\ttotal: 4m 32s\tremaining: 6m 28s\n",
      "206:\tlearn: 0.2350948\ttotal: 4m 34s\tremaining: 6m 28s\n",
      "207:\tlearn: 0.2350655\ttotal: 4m 36s\tremaining: 6m 27s\n",
      "208:\tlearn: 0.2350258\ttotal: 4m 37s\tremaining: 6m 26s\n",
      "209:\tlearn: 0.2349921\ttotal: 4m 39s\tremaining: 6m 25s\n",
      "210:\tlearn: 0.2349497\ttotal: 4m 40s\tremaining: 6m 24s\n",
      "211:\tlearn: 0.2349290\ttotal: 4m 41s\tremaining: 6m 23s\n",
      "212:\tlearn: 0.2349036\ttotal: 4m 43s\tremaining: 6m 21s\n",
      "213:\tlearn: 0.2348764\ttotal: 4m 44s\tremaining: 6m 20s\n",
      "214:\tlearn: 0.2348478\ttotal: 4m 45s\tremaining: 6m 18s\n",
      "215:\tlearn: 0.2348109\ttotal: 4m 47s\tremaining: 6m 17s\n",
      "216:\tlearn: 0.2347982\ttotal: 4m 48s\tremaining: 6m 16s\n",
      "217:\tlearn: 0.2347747\ttotal: 4m 49s\tremaining: 6m 14s\n",
      "218:\tlearn: 0.2347441\ttotal: 4m 51s\tremaining: 6m 13s\n",
      "219:\tlearn: 0.2347174\ttotal: 4m 52s\tremaining: 6m 12s\n",
      "220:\tlearn: 0.2346946\ttotal: 4m 53s\tremaining: 6m 11s\n",
      "221:\tlearn: 0.2346676\ttotal: 4m 55s\tremaining: 6m 9s\n",
      "222:\tlearn: 0.2346419\ttotal: 4m 56s\tremaining: 6m 8s\n",
      "223:\tlearn: 0.2346242\ttotal: 4m 57s\tremaining: 6m 6s\n",
      "224:\tlearn: 0.2346058\ttotal: 4m 59s\tremaining: 6m 5s\n",
      "225:\tlearn: 0.2345793\ttotal: 5m\tremaining: 6m 4s\n",
      "226:\tlearn: 0.2345447\ttotal: 5m 1s\tremaining: 6m 2s\n",
      "227:\tlearn: 0.2345178\ttotal: 5m 2s\tremaining: 6m 1s\n",
      "228:\tlearn: 0.2344986\ttotal: 5m 4s\tremaining: 6m\n",
      "229:\tlearn: 0.2344649\ttotal: 5m 5s\tremaining: 5m 58s\n",
      "230:\tlearn: 0.2344323\ttotal: 5m 6s\tremaining: 5m 57s\n",
      "231:\tlearn: 0.2344077\ttotal: 5m 8s\tremaining: 5m 56s\n",
      "232:\tlearn: 0.2343877\ttotal: 5m 9s\tremaining: 5m 54s\n",
      "233:\tlearn: 0.2343559\ttotal: 5m 10s\tremaining: 5m 53s\n",
      "234:\tlearn: 0.2343290\ttotal: 5m 12s\tremaining: 5m 52s\n",
      "235:\tlearn: 0.2343057\ttotal: 5m 13s\tremaining: 5m 50s\n",
      "236:\tlearn: 0.2342917\ttotal: 5m 14s\tremaining: 5m 49s\n",
      "237:\tlearn: 0.2342705\ttotal: 5m 16s\tremaining: 5m 47s\n",
      "238:\tlearn: 0.2342464\ttotal: 5m 17s\tremaining: 5m 46s\n",
      "239:\tlearn: 0.2342256\ttotal: 5m 18s\tremaining: 5m 45s\n",
      "240:\tlearn: 0.2342005\ttotal: 5m 19s\tremaining: 5m 43s\n",
      "241:\tlearn: 0.2341812\ttotal: 5m 21s\tremaining: 5m 42s\n",
      "242:\tlearn: 0.2341542\ttotal: 5m 22s\tremaining: 5m 41s\n",
      "243:\tlearn: 0.2341129\ttotal: 5m 24s\tremaining: 5m 39s\n",
      "244:\tlearn: 0.2340881\ttotal: 5m 25s\tremaining: 5m 38s\n",
      "245:\tlearn: 0.2340644\ttotal: 5m 26s\tremaining: 5m 37s\n",
      "246:\tlearn: 0.2340480\ttotal: 5m 27s\tremaining: 5m 35s\n",
      "247:\tlearn: 0.2340272\ttotal: 5m 29s\tremaining: 5m 34s\n",
      "248:\tlearn: 0.2340021\ttotal: 5m 30s\tremaining: 5m 33s\n",
      "249:\tlearn: 0.2339736\ttotal: 5m 31s\tremaining: 5m 31s\n",
      "250:\tlearn: 0.2339534\ttotal: 5m 33s\tremaining: 5m 30s\n",
      "251:\tlearn: 0.2339328\ttotal: 5m 34s\tremaining: 5m 29s\n",
      "252:\tlearn: 0.2339163\ttotal: 5m 35s\tremaining: 5m 27s\n",
      "253:\tlearn: 0.2338993\ttotal: 5m 37s\tremaining: 5m 26s\n",
      "254:\tlearn: 0.2338782\ttotal: 5m 38s\tremaining: 5m 25s\n",
      "255:\tlearn: 0.2338615\ttotal: 5m 39s\tremaining: 5m 23s\n",
      "256:\tlearn: 0.2338534\ttotal: 5m 40s\tremaining: 5m 22s\n",
      "257:\tlearn: 0.2338304\ttotal: 5m 42s\tremaining: 5m 21s\n",
      "258:\tlearn: 0.2338055\ttotal: 5m 43s\tremaining: 5m 19s\n",
      "259:\tlearn: 0.2337694\ttotal: 5m 44s\tremaining: 5m 18s\n",
      "260:\tlearn: 0.2337505\ttotal: 5m 46s\tremaining: 5m 16s\n",
      "261:\tlearn: 0.2337271\ttotal: 5m 47s\tremaining: 5m 15s\n",
      "262:\tlearn: 0.2336938\ttotal: 5m 48s\tremaining: 5m 14s\n",
      "263:\tlearn: 0.2336704\ttotal: 5m 49s\tremaining: 5m 12s\n",
      "264:\tlearn: 0.2336604\ttotal: 5m 51s\tremaining: 5m 11s\n",
      "265:\tlearn: 0.2336353\ttotal: 5m 52s\tremaining: 5m 10s\n",
      "266:\tlearn: 0.2336191\ttotal: 5m 54s\tremaining: 5m 9s\n",
      "267:\tlearn: 0.2336045\ttotal: 5m 56s\tremaining: 5m 8s\n",
      "268:\tlearn: 0.2335908\ttotal: 5m 57s\tremaining: 5m 7s\n",
      "269:\tlearn: 0.2335606\ttotal: 5m 59s\tremaining: 5m 6s\n",
      "270:\tlearn: 0.2335455\ttotal: 6m\tremaining: 5m 4s\n",
      "271:\tlearn: 0.2335304\ttotal: 6m 2s\tremaining: 5m 3s\n",
      "272:\tlearn: 0.2335181\ttotal: 6m 3s\tremaining: 5m 2s\n",
      "273:\tlearn: 0.2334817\ttotal: 6m 4s\tremaining: 5m\n",
      "274:\tlearn: 0.2334568\ttotal: 6m 6s\tremaining: 4m 59s\n",
      "275:\tlearn: 0.2334391\ttotal: 6m 7s\tremaining: 4m 58s\n",
      "276:\tlearn: 0.2334218\ttotal: 6m 8s\tremaining: 4m 56s\n",
      "277:\tlearn: 0.2334117\ttotal: 6m 10s\tremaining: 4m 55s\n",
      "278:\tlearn: 0.2333770\ttotal: 6m 11s\tremaining: 4m 54s\n",
      "279:\tlearn: 0.2333595\ttotal: 6m 12s\tremaining: 4m 52s\n",
      "280:\tlearn: 0.2333208\ttotal: 6m 14s\tremaining: 4m 51s\n",
      "281:\tlearn: 0.2333008\ttotal: 6m 15s\tremaining: 4m 50s\n",
      "282:\tlearn: 0.2332694\ttotal: 6m 16s\tremaining: 4m 48s\n",
      "283:\tlearn: 0.2332491\ttotal: 6m 18s\tremaining: 4m 47s\n",
      "284:\tlearn: 0.2332446\ttotal: 6m 19s\tremaining: 4m 46s\n",
      "285:\tlearn: 0.2332164\ttotal: 6m 20s\tremaining: 4m 44s\n",
      "286:\tlearn: 0.2331945\ttotal: 6m 22s\tremaining: 4m 43s\n",
      "287:\tlearn: 0.2331563\ttotal: 6m 23s\tremaining: 4m 42s\n",
      "288:\tlearn: 0.2331293\ttotal: 6m 24s\tremaining: 4m 41s\n",
      "289:\tlearn: 0.2330944\ttotal: 6m 26s\tremaining: 4m 39s\n",
      "290:\tlearn: 0.2330682\ttotal: 6m 27s\tremaining: 4m 38s\n",
      "291:\tlearn: 0.2330314\ttotal: 6m 28s\tremaining: 4m 36s\n",
      "292:\tlearn: 0.2330221\ttotal: 6m 30s\tremaining: 4m 35s\n",
      "293:\tlearn: 0.2329961\ttotal: 6m 31s\tremaining: 4m 34s\n",
      "294:\tlearn: 0.2329835\ttotal: 6m 32s\tremaining: 4m 32s\n",
      "295:\tlearn: 0.2329664\ttotal: 6m 33s\tremaining: 4m 31s\n",
      "296:\tlearn: 0.2329419\ttotal: 6m 35s\tremaining: 4m 30s\n",
      "297:\tlearn: 0.2329180\ttotal: 6m 36s\tremaining: 4m 28s\n",
      "298:\tlearn: 0.2329067\ttotal: 6m 37s\tremaining: 4m 27s\n",
      "299:\tlearn: 0.2328751\ttotal: 6m 39s\tremaining: 4m 26s\n",
      "300:\tlearn: 0.2328579\ttotal: 6m 40s\tremaining: 4m 24s\n",
      "301:\tlearn: 0.2328289\ttotal: 6m 41s\tremaining: 4m 23s\n",
      "302:\tlearn: 0.2328108\ttotal: 6m 43s\tremaining: 4m 22s\n",
      "303:\tlearn: 0.2327999\ttotal: 6m 44s\tremaining: 4m 20s\n",
      "304:\tlearn: 0.2327853\ttotal: 6m 45s\tremaining: 4m 19s\n",
      "305:\tlearn: 0.2327443\ttotal: 6m 46s\tremaining: 4m 18s\n",
      "306:\tlearn: 0.2327207\ttotal: 6m 48s\tremaining: 4m 16s\n",
      "307:\tlearn: 0.2327065\ttotal: 6m 49s\tremaining: 4m 15s\n",
      "308:\tlearn: 0.2326803\ttotal: 6m 50s\tremaining: 4m 13s\n",
      "309:\tlearn: 0.2326692\ttotal: 6m 52s\tremaining: 4m 12s\n",
      "310:\tlearn: 0.2326346\ttotal: 6m 53s\tremaining: 4m 11s\n",
      "311:\tlearn: 0.2326061\ttotal: 6m 55s\tremaining: 4m 10s\n",
      "312:\tlearn: 0.2325813\ttotal: 6m 56s\tremaining: 4m 8s\n",
      "313:\tlearn: 0.2325619\ttotal: 6m 58s\tremaining: 4m 7s\n",
      "314:\tlearn: 0.2325334\ttotal: 6m 59s\tremaining: 4m 6s\n",
      "315:\tlearn: 0.2325046\ttotal: 7m 1s\tremaining: 4m 5s\n",
      "316:\tlearn: 0.2324871\ttotal: 7m 2s\tremaining: 4m 3s\n",
      "317:\tlearn: 0.2324488\ttotal: 7m 3s\tremaining: 4m 2s\n",
      "318:\tlearn: 0.2324321\ttotal: 7m 5s\tremaining: 4m 1s\n",
      "319:\tlearn: 0.2324090\ttotal: 7m 6s\tremaining: 3m 59s\n",
      "320:\tlearn: 0.2323931\ttotal: 7m 7s\tremaining: 3m 58s\n",
      "321:\tlearn: 0.2323796\ttotal: 7m 9s\tremaining: 3m 57s\n",
      "322:\tlearn: 0.2323421\ttotal: 7m 10s\tremaining: 3m 55s\n",
      "323:\tlearn: 0.2322927\ttotal: 7m 11s\tremaining: 3m 54s\n",
      "324:\tlearn: 0.2322679\ttotal: 7m 13s\tremaining: 3m 53s\n",
      "325:\tlearn: 0.2322406\ttotal: 7m 14s\tremaining: 3m 51s\n",
      "326:\tlearn: 0.2321776\ttotal: 7m 15s\tremaining: 3m 50s\n",
      "327:\tlearn: 0.2321552\ttotal: 7m 16s\tremaining: 3m 49s\n",
      "328:\tlearn: 0.2321297\ttotal: 7m 18s\tremaining: 3m 47s\n",
      "329:\tlearn: 0.2321230\ttotal: 7m 19s\tremaining: 3m 46s\n",
      "330:\tlearn: 0.2321037\ttotal: 7m 20s\tremaining: 3m 45s\n",
      "331:\tlearn: 0.2320796\ttotal: 7m 22s\tremaining: 3m 43s\n",
      "332:\tlearn: 0.2320583\ttotal: 7m 23s\tremaining: 3m 42s\n",
      "333:\tlearn: 0.2320369\ttotal: 7m 24s\tremaining: 3m 41s\n",
      "334:\tlearn: 0.2320191\ttotal: 7m 26s\tremaining: 3m 39s\n",
      "335:\tlearn: 0.2319934\ttotal: 7m 27s\tremaining: 3m 38s\n",
      "336:\tlearn: 0.2319805\ttotal: 7m 28s\tremaining: 3m 37s\n",
      "337:\tlearn: 0.2319515\ttotal: 7m 30s\tremaining: 3m 35s\n",
      "338:\tlearn: 0.2319356\ttotal: 7m 31s\tremaining: 3m 34s\n",
      "339:\tlearn: 0.2319233\ttotal: 7m 32s\tremaining: 3m 33s\n",
      "340:\tlearn: 0.2319004\ttotal: 7m 34s\tremaining: 3m 31s\n",
      "341:\tlearn: 0.2318762\ttotal: 7m 35s\tremaining: 3m 30s\n",
      "342:\tlearn: 0.2318628\ttotal: 7m 36s\tremaining: 3m 29s\n",
      "343:\tlearn: 0.2318406\ttotal: 7m 38s\tremaining: 3m 27s\n",
      "344:\tlearn: 0.2318196\ttotal: 7m 39s\tremaining: 3m 26s\n",
      "345:\tlearn: 0.2317960\ttotal: 7m 40s\tremaining: 3m 25s\n",
      "346:\tlearn: 0.2317695\ttotal: 7m 41s\tremaining: 3m 23s\n",
      "347:\tlearn: 0.2317427\ttotal: 7m 43s\tremaining: 3m 22s\n",
      "348:\tlearn: 0.2317286\ttotal: 7m 44s\tremaining: 3m 20s\n",
      "349:\tlearn: 0.2316977\ttotal: 7m 45s\tremaining: 3m 19s\n",
      "350:\tlearn: 0.2316726\ttotal: 7m 47s\tremaining: 3m 18s\n",
      "351:\tlearn: 0.2316476\ttotal: 7m 48s\tremaining: 3m 16s\n",
      "352:\tlearn: 0.2316333\ttotal: 7m 49s\tremaining: 3m 15s\n",
      "353:\tlearn: 0.2316109\ttotal: 7m 50s\tremaining: 3m 14s\n",
      "354:\tlearn: 0.2315960\ttotal: 7m 52s\tremaining: 3m 12s\n",
      "355:\tlearn: 0.2315665\ttotal: 7m 53s\tremaining: 3m 11s\n",
      "356:\tlearn: 0.2315479\ttotal: 7m 54s\tremaining: 3m 10s\n",
      "357:\tlearn: 0.2315295\ttotal: 7m 56s\tremaining: 3m 8s\n",
      "358:\tlearn: 0.2315001\ttotal: 7m 57s\tremaining: 3m 7s\n",
      "359:\tlearn: 0.2314684\ttotal: 7m 58s\tremaining: 3m 6s\n",
      "360:\tlearn: 0.2314478\ttotal: 8m\tremaining: 3m 4s\n",
      "361:\tlearn: 0.2313974\ttotal: 8m 1s\tremaining: 3m 3s\n",
      "362:\tlearn: 0.2313614\ttotal: 8m 2s\tremaining: 3m 2s\n",
      "363:\tlearn: 0.2313481\ttotal: 8m 4s\tremaining: 3m\n",
      "364:\tlearn: 0.2313358\ttotal: 8m 5s\tremaining: 2m 59s\n",
      "365:\tlearn: 0.2313105\ttotal: 8m 6s\tremaining: 2m 58s\n",
      "366:\tlearn: 0.2312904\ttotal: 8m 7s\tremaining: 2m 56s\n",
      "367:\tlearn: 0.2312787\ttotal: 8m 9s\tremaining: 2m 55s\n",
      "368:\tlearn: 0.2312527\ttotal: 8m 10s\tremaining: 2m 54s\n",
      "369:\tlearn: 0.2312345\ttotal: 8m 11s\tremaining: 2m 52s\n",
      "370:\tlearn: 0.2312157\ttotal: 8m 13s\tremaining: 2m 51s\n",
      "371:\tlearn: 0.2311973\ttotal: 8m 14s\tremaining: 2m 50s\n",
      "372:\tlearn: 0.2311716\ttotal: 8m 15s\tremaining: 2m 48s\n",
      "373:\tlearn: 0.2311486\ttotal: 8m 16s\tremaining: 2m 47s\n",
      "374:\tlearn: 0.2311437\ttotal: 8m 18s\tremaining: 2m 46s\n",
      "375:\tlearn: 0.2311208\ttotal: 8m 19s\tremaining: 2m 44s\n",
      "376:\tlearn: 0.2311010\ttotal: 8m 20s\tremaining: 2m 43s\n",
      "377:\tlearn: 0.2310686\ttotal: 8m 22s\tremaining: 2m 42s\n",
      "378:\tlearn: 0.2310401\ttotal: 8m 23s\tremaining: 2m 40s\n",
      "379:\tlearn: 0.2310037\ttotal: 8m 24s\tremaining: 2m 39s\n",
      "380:\tlearn: 0.2309890\ttotal: 8m 26s\tremaining: 2m 38s\n",
      "381:\tlearn: 0.2309746\ttotal: 8m 27s\tremaining: 2m 36s\n",
      "382:\tlearn: 0.2309252\ttotal: 8m 28s\tremaining: 2m 35s\n",
      "383:\tlearn: 0.2309123\ttotal: 8m 30s\tremaining: 2m 34s\n",
      "384:\tlearn: 0.2308942\ttotal: 8m 31s\tremaining: 2m 32s\n",
      "385:\tlearn: 0.2308805\ttotal: 8m 32s\tremaining: 2m 31s\n",
      "386:\tlearn: 0.2308671\ttotal: 8m 34s\tremaining: 2m 30s\n",
      "387:\tlearn: 0.2308420\ttotal: 8m 35s\tremaining: 2m 28s\n",
      "388:\tlearn: 0.2308219\ttotal: 8m 36s\tremaining: 2m 27s\n",
      "389:\tlearn: 0.2307849\ttotal: 8m 38s\tremaining: 2m 26s\n",
      "390:\tlearn: 0.2307542\ttotal: 8m 39s\tremaining: 2m 24s\n",
      "391:\tlearn: 0.2307302\ttotal: 8m 40s\tremaining: 2m 23s\n",
      "392:\tlearn: 0.2306994\ttotal: 8m 42s\tremaining: 2m 22s\n",
      "393:\tlearn: 0.2306667\ttotal: 8m 43s\tremaining: 2m 20s\n",
      "394:\tlearn: 0.2306495\ttotal: 8m 44s\tremaining: 2m 19s\n",
      "395:\tlearn: 0.2306188\ttotal: 8m 45s\tremaining: 2m 18s\n",
      "396:\tlearn: 0.2305942\ttotal: 8m 47s\tremaining: 2m 16s\n",
      "397:\tlearn: 0.2305799\ttotal: 8m 48s\tremaining: 2m 15s\n",
      "398:\tlearn: 0.2305665\ttotal: 8m 49s\tremaining: 2m 14s\n",
      "399:\tlearn: 0.2305524\ttotal: 8m 51s\tremaining: 2m 12s\n",
      "400:\tlearn: 0.2305175\ttotal: 8m 52s\tremaining: 2m 11s\n",
      "401:\tlearn: 0.2304969\ttotal: 8m 53s\tremaining: 2m 10s\n",
      "402:\tlearn: 0.2304777\ttotal: 8m 54s\tremaining: 2m 8s\n",
      "403:\tlearn: 0.2304472\ttotal: 8m 56s\tremaining: 2m 7s\n",
      "404:\tlearn: 0.2304218\ttotal: 8m 57s\tremaining: 2m 6s\n",
      "405:\tlearn: 0.2303963\ttotal: 8m 58s\tremaining: 2m 4s\n",
      "406:\tlearn: 0.2303744\ttotal: 9m\tremaining: 2m 3s\n",
      "407:\tlearn: 0.2303441\ttotal: 9m 1s\tremaining: 2m 2s\n",
      "408:\tlearn: 0.2303314\ttotal: 9m 3s\tremaining: 2m\n",
      "409:\tlearn: 0.2303016\ttotal: 9m 4s\tremaining: 1m 59s\n",
      "410:\tlearn: 0.2302792\ttotal: 9m 5s\tremaining: 1m 58s\n",
      "411:\tlearn: 0.2302696\ttotal: 9m 7s\tremaining: 1m 56s\n",
      "412:\tlearn: 0.2302351\ttotal: 9m 8s\tremaining: 1m 55s\n",
      "413:\tlearn: 0.2302094\ttotal: 9m 9s\tremaining: 1m 54s\n",
      "414:\tlearn: 0.2301819\ttotal: 9m 10s\tremaining: 1m 52s\n",
      "415:\tlearn: 0.2301690\ttotal: 9m 12s\tremaining: 1m 51s\n",
      "416:\tlearn: 0.2301500\ttotal: 9m 13s\tremaining: 1m 50s\n",
      "417:\tlearn: 0.2301335\ttotal: 9m 14s\tremaining: 1m 48s\n",
      "418:\tlearn: 0.2301094\ttotal: 9m 16s\tremaining: 1m 47s\n",
      "419:\tlearn: 0.2301052\ttotal: 9m 18s\tremaining: 1m 46s\n",
      "420:\tlearn: 0.2300872\ttotal: 9m 19s\tremaining: 1m 45s\n",
      "421:\tlearn: 0.2300781\ttotal: 9m 21s\tremaining: 1m 43s\n",
      "422:\tlearn: 0.2300624\ttotal: 9m 22s\tremaining: 1m 42s\n",
      "423:\tlearn: 0.2300341\ttotal: 9m 24s\tremaining: 1m 41s\n",
      "424:\tlearn: 0.2300174\ttotal: 9m 25s\tremaining: 1m 39s\n",
      "425:\tlearn: 0.2299969\ttotal: 9m 26s\tremaining: 1m 38s\n",
      "426:\tlearn: 0.2299808\ttotal: 9m 28s\tremaining: 1m 37s\n",
      "427:\tlearn: 0.2299391\ttotal: 9m 29s\tremaining: 1m 35s\n",
      "428:\tlearn: 0.2299210\ttotal: 9m 30s\tremaining: 1m 34s\n",
      "429:\tlearn: 0.2299039\ttotal: 9m 32s\tremaining: 1m 33s\n",
      "430:\tlearn: 0.2298915\ttotal: 9m 33s\tremaining: 1m 31s\n",
      "431:\tlearn: 0.2298790\ttotal: 9m 34s\tremaining: 1m 30s\n",
      "432:\tlearn: 0.2298584\ttotal: 9m 36s\tremaining: 1m 29s\n",
      "433:\tlearn: 0.2298307\ttotal: 9m 37s\tremaining: 1m 27s\n",
      "434:\tlearn: 0.2298157\ttotal: 9m 38s\tremaining: 1m 26s\n",
      "435:\tlearn: 0.2297923\ttotal: 9m 39s\tremaining: 1m 25s\n",
      "436:\tlearn: 0.2297839\ttotal: 9m 41s\tremaining: 1m 23s\n",
      "437:\tlearn: 0.2297697\ttotal: 9m 42s\tremaining: 1m 22s\n",
      "438:\tlearn: 0.2297601\ttotal: 9m 43s\tremaining: 1m 21s\n",
      "439:\tlearn: 0.2297296\ttotal: 9m 45s\tremaining: 1m 19s\n",
      "440:\tlearn: 0.2297149\ttotal: 9m 46s\tremaining: 1m 18s\n",
      "441:\tlearn: 0.2296905\ttotal: 9m 47s\tremaining: 1m 17s\n",
      "442:\tlearn: 0.2296708\ttotal: 9m 49s\tremaining: 1m 15s\n",
      "443:\tlearn: 0.2296539\ttotal: 9m 50s\tremaining: 1m 14s\n",
      "444:\tlearn: 0.2296234\ttotal: 9m 51s\tremaining: 1m 13s\n",
      "445:\tlearn: 0.2296145\ttotal: 9m 52s\tremaining: 1m 11s\n",
      "446:\tlearn: 0.2296125\ttotal: 9m 54s\tremaining: 1m 10s\n",
      "447:\tlearn: 0.2295933\ttotal: 9m 55s\tremaining: 1m 9s\n",
      "448:\tlearn: 0.2295742\ttotal: 9m 56s\tremaining: 1m 7s\n",
      "449:\tlearn: 0.2295625\ttotal: 9m 58s\tremaining: 1m 6s\n",
      "450:\tlearn: 0.2295462\ttotal: 9m 59s\tremaining: 1m 5s\n",
      "451:\tlearn: 0.2295332\ttotal: 10m\tremaining: 1m 3s\n",
      "452:\tlearn: 0.2295082\ttotal: 10m 2s\tremaining: 1m 2s\n",
      "453:\tlearn: 0.2295017\ttotal: 10m 3s\tremaining: 1m 1s\n",
      "454:\tlearn: 0.2294646\ttotal: 10m 4s\tremaining: 59.8s\n",
      "455:\tlearn: 0.2294552\ttotal: 10m 6s\tremaining: 58.5s\n",
      "456:\tlearn: 0.2294445\ttotal: 10m 7s\tremaining: 57.2s\n",
      "457:\tlearn: 0.2294263\ttotal: 10m 8s\tremaining: 55.8s\n",
      "458:\tlearn: 0.2294106\ttotal: 10m 10s\tremaining: 54.5s\n",
      "459:\tlearn: 0.2293895\ttotal: 10m 11s\tremaining: 53.2s\n",
      "460:\tlearn: 0.2293685\ttotal: 10m 12s\tremaining: 51.8s\n",
      "461:\tlearn: 0.2293526\ttotal: 10m 13s\tremaining: 50.5s\n",
      "462:\tlearn: 0.2293388\ttotal: 10m 15s\tremaining: 49.2s\n",
      "463:\tlearn: 0.2293172\ttotal: 10m 16s\tremaining: 47.8s\n",
      "464:\tlearn: 0.2292958\ttotal: 10m 17s\tremaining: 46.5s\n",
      "465:\tlearn: 0.2292753\ttotal: 10m 19s\tremaining: 45.2s\n",
      "466:\tlearn: 0.2292630\ttotal: 10m 21s\tremaining: 43.9s\n",
      "467:\tlearn: 0.2292409\ttotal: 10m 22s\tremaining: 42.6s\n",
      "468:\tlearn: 0.2292033\ttotal: 10m 24s\tremaining: 41.3s\n",
      "469:\tlearn: 0.2291907\ttotal: 10m 25s\tremaining: 39.9s\n",
      "470:\tlearn: 0.2291775\ttotal: 10m 26s\tremaining: 38.6s\n",
      "471:\tlearn: 0.2291635\ttotal: 10m 28s\tremaining: 37.3s\n",
      "472:\tlearn: 0.2291355\ttotal: 10m 29s\tremaining: 35.9s\n",
      "473:\tlearn: 0.2291263\ttotal: 10m 31s\tremaining: 34.6s\n",
      "474:\tlearn: 0.2290947\ttotal: 10m 32s\tremaining: 33.3s\n",
      "475:\tlearn: 0.2290762\ttotal: 10m 34s\tremaining: 32s\n",
      "476:\tlearn: 0.2290613\ttotal: 10m 35s\tremaining: 30.7s\n",
      "477:\tlearn: 0.2290448\ttotal: 10m 37s\tremaining: 29.3s\n",
      "478:\tlearn: 0.2290276\ttotal: 10m 39s\tremaining: 28s\n",
      "479:\tlearn: 0.2290005\ttotal: 10m 40s\tremaining: 26.7s\n",
      "480:\tlearn: 0.2289757\ttotal: 10m 42s\tremaining: 25.4s\n",
      "481:\tlearn: 0.2289594\ttotal: 10m 43s\tremaining: 24s\n",
      "482:\tlearn: 0.2289339\ttotal: 10m 45s\tremaining: 22.7s\n",
      "483:\tlearn: 0.2289166\ttotal: 10m 46s\tremaining: 21.4s\n",
      "484:\tlearn: 0.2289016\ttotal: 10m 48s\tremaining: 20s\n",
      "485:\tlearn: 0.2288860\ttotal: 10m 49s\tremaining: 18.7s\n",
      "486:\tlearn: 0.2288737\ttotal: 10m 51s\tremaining: 17.4s\n",
      "487:\tlearn: 0.2288630\ttotal: 10m 52s\tremaining: 16.1s\n",
      "488:\tlearn: 0.2288490\ttotal: 10m 54s\tremaining: 14.7s\n",
      "489:\tlearn: 0.2288291\ttotal: 10m 55s\tremaining: 13.4s\n",
      "490:\tlearn: 0.2288046\ttotal: 10m 57s\tremaining: 12s\n",
      "491:\tlearn: 0.2287812\ttotal: 10m 58s\tremaining: 10.7s\n",
      "492:\tlearn: 0.2287665\ttotal: 11m\tremaining: 9.38s\n",
      "493:\tlearn: 0.2287561\ttotal: 11m 1s\tremaining: 8.04s\n",
      "494:\tlearn: 0.2287432\ttotal: 11m 3s\tremaining: 6.7s\n",
      "495:\tlearn: 0.2287131\ttotal: 11m 4s\tremaining: 5.36s\n",
      "496:\tlearn: 0.2287016\ttotal: 11m 6s\tremaining: 4.02s\n",
      "497:\tlearn: 0.2286788\ttotal: 11m 7s\tremaining: 2.68s\n",
      "498:\tlearn: 0.2286577\ttotal: 11m 9s\tremaining: 1.34s\n",
      "499:\tlearn: 0.2286384\ttotal: 11m 11s\tremaining: 0us\n"
     ]
    },
    {
     "data": {
      "text/plain": [
       "<catboost.core._CatBoostBase at 0x108110550>"
      ]
     },
     "execution_count": 112,
     "metadata": {},
     "output_type": "execute_result"
    }
   ],
   "source": [
    "cat_model.fit(train_scaled, train.TARGET)"
   ]
  },
  {
   "cell_type": "code",
   "execution_count": null,
   "metadata": {},
   "outputs": [],
   "source": [
    "#from xgboost import XGBClassifier\n",
    "#xgb_model = XGBClassifier(n_estimators = 1000, silent=True, learning_rate = 0.05)"
   ]
  },
  {
   "cell_type": "code",
   "execution_count": null,
   "metadata": {},
   "outputs": [],
   "source": [
    "#xgb_model.fit(train_scaled, train.TARGET)"
   ]
  },
  {
   "cell_type": "code",
   "execution_count": 113,
   "metadata": {},
   "outputs": [],
   "source": [
    "test_y_cat = pd.DataFrame(cat_model.predict_proba(test_scaled))\n",
    "submission_cat = pd.concat([test.SK_ID_CURR, test_y_cat], axis=1).drop(0, axis = 1)\n",
    "submission_cat.columns = ['SK_ID_CURR', 'Target']"
   ]
  },
  {
   "cell_type": "code",
   "execution_count": null,
   "metadata": {},
   "outputs": [],
   "source": [
    "#max_sub_cat = submission_cat.Target.max()\n",
    "#min_sub_cat = submission_cat.Target.min()"
   ]
  },
  {
   "cell_type": "code",
   "execution_count": null,
   "metadata": {},
   "outputs": [],
   "source": [
    "#submission_cat['Target'] = submission_cat['Target'].apply(lambda x: (x - min_sub_cat) / (max_sub_cat - min_sub_cat))"
   ]
  },
  {
   "cell_type": "code",
   "execution_count": 114,
   "metadata": {},
   "outputs": [],
   "source": [
    "submission_cat.to_csv('cat24.csv', index = False)"
   ]
  },
  {
   "cell_type": "code",
   "execution_count": null,
   "metadata": {},
   "outputs": [],
   "source": []
  }
 ],
 "metadata": {
  "kernelspec": {
   "display_name": "Python 2",
   "language": "python",
   "name": "python2"
  },
  "language_info": {
   "codemirror_mode": {
    "name": "ipython",
    "version": 2
   },
   "file_extension": ".py",
   "mimetype": "text/x-python",
   "name": "python",
   "nbconvert_exporter": "python",
   "pygments_lexer": "ipython2",
   "version": "2.7.13"
  }
 },
 "nbformat": 4,
 "nbformat_minor": 2
}
