{
 "cells": [
  {
   "cell_type": "code",
   "execution_count": 1,
   "metadata": {},
   "outputs": [],
   "source": [
    "import pandas as pd\n",
    "import numpy as np\n",
    "import seaborn as sns\n",
    "import matplotlib.pyplot as plt\n",
    "%matplotlib inline\n",
    "from sklearn.ensemble import RandomForestClassifier\n",
    "from sklearn.model_selection import train_test_split\n",
    "from sklearn.preprocessing import StandardScaler\n",
    "from scipy import stats"
   ]
  },
  {
   "cell_type": "code",
   "execution_count": 2,
   "metadata": {},
   "outputs": [],
   "source": [
    "#Read in Data\n",
    "train = pd.read_csv('dataFiles/application_train.csv')\n",
    "test = pd.read_csv('dataFiles/application_test.csv')\n",
    "bureau_data = pd.read_csv('dataFiles/bureau.csv')\n",
    "prev_app_data = pd.read_csv('dataFiles/previous_application.csv')"
   ]
  },
  {
   "cell_type": "code",
   "execution_count": 3,
   "metadata": {},
   "outputs": [],
   "source": [
    "scaler = StandardScaler()"
   ]
  },
  {
   "cell_type": "code",
   "execution_count": 4,
   "metadata": {},
   "outputs": [],
   "source": [
    "train_full_cols = train.dropna(axis=1)"
   ]
  },
  {
   "cell_type": "code",
   "execution_count": 5,
   "metadata": {},
   "outputs": [],
   "source": [
    "train.NAME_TYPE_SUITE = train.NAME_TYPE_SUITE.fillna('Unaccompanied')"
   ]
  },
  {
   "cell_type": "code",
   "execution_count": 6,
   "metadata": {},
   "outputs": [],
   "source": [
    "train['OWN_CAR_AGE'] = train.apply(lambda x: 0 if x['FLAG_OWN_CAR'] == 'N' else x['OWN_CAR_AGE'], axis = 1)\n",
    "train['OWN_CAR_AGE'] = train['OWN_CAR_AGE'].isna().fillna(0)"
   ]
  },
  {
   "cell_type": "code",
   "execution_count": 7,
   "metadata": {},
   "outputs": [],
   "source": [
    "train['CNT_FAM_MEMBERS'] = train['CNT_FAM_MEMBERS'].fillna(stats.mode(train.CNT_FAM_MEMBERS)[0][0])"
   ]
  },
  {
   "cell_type": "code",
   "execution_count": 8,
   "metadata": {},
   "outputs": [],
   "source": [
    "train.EXT_SOURCE_2 = train.EXT_SOURCE_2.fillna(np.mean(train.EXT_SOURCE_2))"
   ]
  },
  {
   "cell_type": "code",
   "execution_count": 9,
   "metadata": {},
   "outputs": [],
   "source": [
    "df_train = train[[i for i in train.columns if (i[-3:] == 'AVG' or i[-4:] == 'MODE' or i[-4:] == 'MEDI')]].select_dtypes(exclude='object').fillna(0)"
   ]
  },
  {
   "cell_type": "code",
   "execution_count": 10,
   "metadata": {},
   "outputs": [],
   "source": [
    "new_train = pd.concat([train_full_cols, train.NAME_TYPE_SUITE, train.CNT_FAM_MEMBERS, train.EXT_SOURCE_2, df_train], axis = 1)"
   ]
  },
  {
   "cell_type": "code",
   "execution_count": 11,
   "metadata": {},
   "outputs": [],
   "source": [
    "###Test"
   ]
  },
  {
   "cell_type": "code",
   "execution_count": 12,
   "metadata": {},
   "outputs": [],
   "source": [
    "test_full_cols = test.dropna(axis=1)"
   ]
  },
  {
   "cell_type": "code",
   "execution_count": 13,
   "metadata": {},
   "outputs": [],
   "source": [
    "test.NAME_TYPE_SUITE = test.NAME_TYPE_SUITE.fillna('Unaccompanied')"
   ]
  },
  {
   "cell_type": "code",
   "execution_count": 14,
   "metadata": {},
   "outputs": [],
   "source": [
    "test['OWN_CAR_AGE'] = test.apply(lambda x: 0 if x['FLAG_OWN_CAR'] == 'N' else x['OWN_CAR_AGE'], axis = 1)\n",
    "test['OWN_CAR_AGE'] = test['OWN_CAR_AGE'].isna().fillna(0)"
   ]
  },
  {
   "cell_type": "code",
   "execution_count": 15,
   "metadata": {},
   "outputs": [],
   "source": [
    "test['CNT_FAM_MEMBERS'] = test['CNT_FAM_MEMBERS'].fillna(stats.mode(test.CNT_FAM_MEMBERS)[0][0])"
   ]
  },
  {
   "cell_type": "code",
   "execution_count": 16,
   "metadata": {},
   "outputs": [],
   "source": [
    "test.EXT_SOURCE_2 = test.EXT_SOURCE_2.fillna(np.mean(test.EXT_SOURCE_2))"
   ]
  },
  {
   "cell_type": "code",
   "execution_count": 17,
   "metadata": {},
   "outputs": [],
   "source": [
    "df_test = test[[i for i in test.columns if (i[-3:] == 'AVG' or i[-4:] == 'MODE' or i[-4:] == 'MEDI')]].select_dtypes(exclude='object').fillna(0)"
   ]
  },
  {
   "cell_type": "code",
   "execution_count": 18,
   "metadata": {},
   "outputs": [],
   "source": [
    "new_test = pd.concat([test_full_cols, test.NAME_TYPE_SUITE, test.EXT_SOURCE_2, df_test], axis = 1)"
   ]
  },
  {
   "cell_type": "code",
   "execution_count": 19,
   "metadata": {},
   "outputs": [],
   "source": [
    "new_test = new_test.drop(['AMT_GOODS_PRICE', 'DAYS_LAST_PHONE_CHANGE'], axis = 1)"
   ]
  },
  {
   "cell_type": "code",
   "execution_count": 20,
   "metadata": {},
   "outputs": [],
   "source": [
    "new_test = new_test[['SK_ID_CURR','NAME_CONTRACT_TYPE','CODE_GENDER','FLAG_OWN_CAR','FLAG_OWN_REALTY','CNT_CHILDREN','AMT_INCOME_TOTAL','AMT_CREDIT','NAME_INCOME_TYPE','NAME_EDUCATION_TYPE','NAME_FAMILY_STATUS','NAME_HOUSING_TYPE','REGION_POPULATION_RELATIVE','DAYS_BIRTH','DAYS_EMPLOYED','DAYS_REGISTRATION','DAYS_ID_PUBLISH','FLAG_MOBIL','FLAG_EMP_PHONE','FLAG_WORK_PHONE','FLAG_CONT_MOBILE','FLAG_PHONE','FLAG_EMAIL','REGION_RATING_CLIENT','REGION_RATING_CLIENT_W_CITY','WEEKDAY_APPR_PROCESS_START','HOUR_APPR_PROCESS_START','REG_REGION_NOT_LIVE_REGION','REG_REGION_NOT_WORK_REGION','LIVE_REGION_NOT_WORK_REGION','REG_CITY_NOT_LIVE_CITY','REG_CITY_NOT_WORK_CITY','LIVE_CITY_NOT_WORK_CITY','ORGANIZATION_TYPE','FLAG_DOCUMENT_2','FLAG_DOCUMENT_3','FLAG_DOCUMENT_4','FLAG_DOCUMENT_5','FLAG_DOCUMENT_6','FLAG_DOCUMENT_7','FLAG_DOCUMENT_8','FLAG_DOCUMENT_9','FLAG_DOCUMENT_10','FLAG_DOCUMENT_11','FLAG_DOCUMENT_12','FLAG_DOCUMENT_13','FLAG_DOCUMENT_14','FLAG_DOCUMENT_15','FLAG_DOCUMENT_16','FLAG_DOCUMENT_17','FLAG_DOCUMENT_18','FLAG_DOCUMENT_19','FLAG_DOCUMENT_20','FLAG_DOCUMENT_21','NAME_TYPE_SUITE','CNT_FAM_MEMBERS','EXT_SOURCE_2','APARTMENTS_AVG','BASEMENTAREA_AVG','YEARS_BEGINEXPLUATATION_AVG','YEARS_BUILD_AVG','COMMONAREA_AVG','ELEVATORS_AVG','ENTRANCES_AVG','FLOORSMAX_AVG','FLOORSMIN_AVG','LANDAREA_AVG','LIVINGAPARTMENTS_AVG','LIVINGAREA_AVG','NONLIVINGAPARTMENTS_AVG','NONLIVINGAREA_AVG','APARTMENTS_MODE','BASEMENTAREA_MODE','YEARS_BEGINEXPLUATATION_MODE','YEARS_BUILD_MODE','COMMONAREA_MODE','ELEVATORS_MODE','ENTRANCES_MODE','FLOORSMAX_MODE','FLOORSMIN_MODE','LANDAREA_MODE','LIVINGAPARTMENTS_MODE','LIVINGAREA_MODE','NONLIVINGAPARTMENTS_MODE','NONLIVINGAREA_MODE','APARTMENTS_MEDI','BASEMENTAREA_MEDI','YEARS_BEGINEXPLUATATION_MEDI','YEARS_BUILD_MEDI','COMMONAREA_MEDI','ELEVATORS_MEDI','ENTRANCES_MEDI','FLOORSMAX_MEDI','FLOORSMIN_MEDI','LANDAREA_MEDI','LIVINGAPARTMENTS_MEDI','LIVINGAREA_MEDI','NONLIVINGAPARTMENTS_MEDI','NONLIVINGAREA_MEDI','TOTALAREA_MODE']]"
   ]
  },
  {
   "cell_type": "code",
   "execution_count": 21,
   "metadata": {},
   "outputs": [],
   "source": [
    "new_train_dummies = pd.get_dummies(new_train)"
   ]
  },
  {
   "cell_type": "code",
   "execution_count": 22,
   "metadata": {},
   "outputs": [],
   "source": [
    "new_test_dummies = pd.get_dummies(new_test)"
   ]
  },
  {
   "cell_type": "code",
   "execution_count": 23,
   "metadata": {},
   "outputs": [],
   "source": [
    "X, y = new_train_dummies.drop(['SK_ID_CURR','TARGET','CODE_GENDER_XNA','NAME_INCOME_TYPE_Maternity leave','NAME_FAMILY_STATUS_Unknown'], axis = 1), new_train.TARGET"
   ]
  },
  {
   "cell_type": "code",
   "execution_count": 24,
   "metadata": {},
   "outputs": [],
   "source": [
    "X.columns = ['CNT_CHILDREN','AMT_INCOME_TOTAL','AMT_CREDIT','REGION_POPULATION_RELATIVE','DAYS_BIRTH','DAYS_EMPLOYED','DAYS_REGISTRATION','DAYS_ID_PUBLISH','FLAG_MOBIL','FLAG_EMP_PHONE','FLAG_WORK_PHONE','FLAG_CONT_MOBILE','FLAG_PHONE','FLAG_EMAIL','REGION_RATING_CLIENT','REGION_RATING_CLIENT_W_CITY','HOUR_APPR_PROCESS_START','REG_REGION_NOT_LIVE_REGION','REG_REGION_NOT_WORK_REGION','LIVE_REGION_NOT_WORK_REGION','REG_CITY_NOT_LIVE_CITY','REG_CITY_NOT_WORK_CITY','LIVE_CITY_NOT_WORK_CITY','FLAG_DOCUMENT_2','FLAG_DOCUMENT_3','FLAG_DOCUMENT_4','FLAG_DOCUMENT_5','FLAG_DOCUMENT_6','FLAG_DOCUMENT_7','FLAG_DOCUMENT_8','FLAG_DOCUMENT_9','FLAG_DOCUMENT_10','FLAG_DOCUMENT_11','FLAG_DOCUMENT_12','FLAG_DOCUMENT_13','FLAG_DOCUMENT_14','FLAG_DOCUMENT_15','FLAG_DOCUMENT_16','FLAG_DOCUMENT_17','FLAG_DOCUMENT_18','FLAG_DOCUMENT_19','FLAG_DOCUMENT_20','FLAG_DOCUMENT_21','CNT_FAM_MEMBERS','EXT_SOURCE_2','APARTMENTS_AVG','BASEMENTAREA_AVG','YEARS_BEGINEXPLUATATION_AVG','YEARS_BUILD_AVG','COMMONAREA_AVG','ELEVATORS_AVG','ENTRANCES_AVG','FLOORSMAX_AVG','FLOORSMIN_AVG','LANDAREA_AVG','LIVINGAPARTMENTS_AVG','LIVINGAREA_AVG','NONLIVINGAPARTMENTS_AVG','NONLIVINGAREA_AVG','APARTMENTS_MODE','BASEMENTAREA_MODE','YEARS_BEGINEXPLUATATION_MODE','YEARS_BUILD_MODE','COMMONAREA_MODE','ELEVATORS_MODE','ENTRANCES_MODE','FLOORSMAX_MODE','FLOORSMIN_MODE','LANDAREA_MODE','LIVINGAPARTMENTS_MODE','LIVINGAREA_MODE','NONLIVINGAPARTMENTS_MODE','NONLIVINGAREA_MODE','APARTMENTS_MEDI','BASEMENTAREA_MEDI','YEARS_BEGINEXPLUATATION_MEDI','YEARS_BUILD_MEDI','COMMONAREA_MEDI','ELEVATORS_MEDI','ENTRANCES_MEDI','FLOORSMAX_MEDI','FLOORSMIN_MEDI','LANDAREA_MEDI','LIVINGAPARTMENTS_MEDI','LIVINGAREA_MEDI','NONLIVINGAPARTMENTS_MEDI','NONLIVINGAREA_MEDI','TOTALAREA_MODE','NAME_CONTRACT_TYPE_Cash loans','NAME_CONTRACT_TYPE_Revolving loans','CODE_GENDER_F','CODE_GENDER_M','FLAG_OWN_CAR_N','FLAG_OWN_CAR_Y','FLAG_OWN_REALTY_N','FLAG_OWN_REALTY_Y','NAME_INCOME_TYPE_Businessman','NAME_INCOME_TYPE_Commercial associate','NAME_INCOME_TYPE_Pensioner','NAME_INCOME_TYPE_State servant','NAME_INCOME_TYPE_Student','NAME_INCOME_TYPE_Unemployed','NAME_INCOME_TYPE_Working','NAME_EDUCATION_TYPE_Academic degree','NAME_EDUCATION_TYPE_Higher education','NAME_EDUCATION_TYPE_Incomplete higher','NAME_EDUCATION_TYPE_Lower secondary','NAME_EDUCATION_TYPE_Secondary / secondary special','NAME_FAMILY_STATUS_Civil marriage','NAME_FAMILY_STATUS_Married','NAME_FAMILY_STATUS_Separated','NAME_FAMILY_STATUS_Single / not married','NAME_FAMILY_STATUS_Widow','NAME_HOUSING_TYPE_Co-op apartment','NAME_HOUSING_TYPE_House / apartment','NAME_HOUSING_TYPE_Municipal apartment','NAME_HOUSING_TYPE_Office apartment','NAME_HOUSING_TYPE_Rented apartment','NAME_HOUSING_TYPE_With parents','WEEKDAY_APPR_PROCESS_START_FRIDAY','WEEKDAY_APPR_PROCESS_START_MONDAY','WEEKDAY_APPR_PROCESS_START_SATURDAY','WEEKDAY_APPR_PROCESS_START_SUNDAY','WEEKDAY_APPR_PROCESS_START_THURSDAY','WEEKDAY_APPR_PROCESS_START_TUESDAY','WEEKDAY_APPR_PROCESS_START_WEDNESDAY','ORGANIZATION_TYPE_Advertising','ORGANIZATION_TYPE_Agriculture','ORGANIZATION_TYPE_Bank','ORGANIZATION_TYPE_Business Entity Type 1','ORGANIZATION_TYPE_Business Entity Type 2','ORGANIZATION_TYPE_Business Entity Type 3','ORGANIZATION_TYPE_Cleaning','ORGANIZATION_TYPE_Construction','ORGANIZATION_TYPE_Culture','ORGANIZATION_TYPE_Electricity','ORGANIZATION_TYPE_Emergency','ORGANIZATION_TYPE_Government','ORGANIZATION_TYPE_Hotel','ORGANIZATION_TYPE_Housing','ORGANIZATION_TYPE_Industry: type 1','ORGANIZATION_TYPE_Industry: type 10','ORGANIZATION_TYPE_Industry: type 11','ORGANIZATION_TYPE_Industry: type 12','ORGANIZATION_TYPE_Industry: type 13','ORGANIZATION_TYPE_Industry: type 2','ORGANIZATION_TYPE_Industry: type 3','ORGANIZATION_TYPE_Industry: type 4','ORGANIZATION_TYPE_Industry: type 5','ORGANIZATION_TYPE_Industry: type 6','ORGANIZATION_TYPE_Industry: type 7','ORGANIZATION_TYPE_Industry: type 8','ORGANIZATION_TYPE_Industry: type 9','ORGANIZATION_TYPE_Insurance','ORGANIZATION_TYPE_Kindergarten','ORGANIZATION_TYPE_Legal Services','ORGANIZATION_TYPE_Medicine','ORGANIZATION_TYPE_Military','ORGANIZATION_TYPE_Mobile','ORGANIZATION_TYPE_Other','ORGANIZATION_TYPE_Police','ORGANIZATION_TYPE_Postal','ORGANIZATION_TYPE_Realtor','ORGANIZATION_TYPE_Religion','ORGANIZATION_TYPE_Restaurant','ORGANIZATION_TYPE_School','ORGANIZATION_TYPE_Security','ORGANIZATION_TYPE_Security Ministries','ORGANIZATION_TYPE_Self-employed','ORGANIZATION_TYPE_Services','ORGANIZATION_TYPE_Telecom','ORGANIZATION_TYPE_Trade: type 1','ORGANIZATION_TYPE_Trade: type 2','ORGANIZATION_TYPE_Trade: type 3','ORGANIZATION_TYPE_Trade: type 4','ORGANIZATION_TYPE_Trade: type 5','ORGANIZATION_TYPE_Trade: type 6','ORGANIZATION_TYPE_Trade: type 7','ORGANIZATION_TYPE_Transport: type 1','ORGANIZATION_TYPE_Transport: type 2','ORGANIZATION_TYPE_Transport: type 3','ORGANIZATION_TYPE_Transport: type 4','ORGANIZATION_TYPE_University','ORGANIZATION_TYPE_XNA','NAME_TYPE_SUITE_Children','NAME_TYPE_SUITE_Family','NAME_TYPE_SUITE_Group of people','NAME_TYPE_SUITE_Other_A','NAME_TYPE_SUITE_Other_B','NAME_TYPE_SUITE_Spouse, partner','NAME_TYPE_SUITE_Unaccompanied']"
   ]
  },
  {
   "cell_type": "code",
   "execution_count": 25,
   "metadata": {},
   "outputs": [],
   "source": [
    "new_test_dummies.columns = ['SK_ID_CURR','CNT_CHILDREN','AMT_INCOME_TOTAL','AMT_CREDIT','REGION_POPULATION_RELATIVE','DAYS_BIRTH','DAYS_EMPLOYED','DAYS_REGISTRATION','DAYS_ID_PUBLISH','FLAG_MOBIL','FLAG_EMP_PHONE','FLAG_WORK_PHONE','FLAG_CONT_MOBILE','FLAG_PHONE','FLAG_EMAIL','REGION_RATING_CLIENT','REGION_RATING_CLIENT_W_CITY','HOUR_APPR_PROCESS_START','REG_REGION_NOT_LIVE_REGION','REG_REGION_NOT_WORK_REGION','LIVE_REGION_NOT_WORK_REGION','REG_CITY_NOT_LIVE_CITY','REG_CITY_NOT_WORK_CITY','LIVE_CITY_NOT_WORK_CITY','FLAG_DOCUMENT_2','FLAG_DOCUMENT_3','FLAG_DOCUMENT_4','FLAG_DOCUMENT_5','FLAG_DOCUMENT_6','FLAG_DOCUMENT_7','FLAG_DOCUMENT_8','FLAG_DOCUMENT_9','FLAG_DOCUMENT_10','FLAG_DOCUMENT_11','FLAG_DOCUMENT_12','FLAG_DOCUMENT_13','FLAG_DOCUMENT_14','FLAG_DOCUMENT_15','FLAG_DOCUMENT_16','FLAG_DOCUMENT_17','FLAG_DOCUMENT_18','FLAG_DOCUMENT_19','FLAG_DOCUMENT_20','FLAG_DOCUMENT_21','CNT_FAM_MEMBERS','EXT_SOURCE_2','APARTMENTS_AVG','BASEMENTAREA_AVG','YEARS_BEGINEXPLUATATION_AVG','YEARS_BUILD_AVG','COMMONAREA_AVG','ELEVATORS_AVG','ENTRANCES_AVG','FLOORSMAX_AVG','FLOORSMIN_AVG','LANDAREA_AVG','LIVINGAPARTMENTS_AVG','LIVINGAREA_AVG','NONLIVINGAPARTMENTS_AVG','NONLIVINGAREA_AVG','APARTMENTS_MODE','BASEMENTAREA_MODE','YEARS_BEGINEXPLUATATION_MODE','YEARS_BUILD_MODE','COMMONAREA_MODE','ELEVATORS_MODE','ENTRANCES_MODE','FLOORSMAX_MODE','FLOORSMIN_MODE','LANDAREA_MODE','LIVINGAPARTMENTS_MODE','LIVINGAREA_MODE','NONLIVINGAPARTMENTS_MODE','NONLIVINGAREA_MODE','APARTMENTS_MEDI','BASEMENTAREA_MEDI','YEARS_BEGINEXPLUATATION_MEDI','YEARS_BUILD_MEDI','COMMONAREA_MEDI','ELEVATORS_MEDI','ENTRANCES_MEDI','FLOORSMAX_MEDI','FLOORSMIN_MEDI','LANDAREA_MEDI','LIVINGAPARTMENTS_MEDI','LIVINGAREA_MEDI','NONLIVINGAPARTMENTS_MEDI','NONLIVINGAREA_MEDI','TOTALAREA_MODE','NAME_CONTRACT_TYPE_Cash loans','NAME_CONTRACT_TYPE_Revolving loans','CODE_GENDER_F','CODE_GENDER_M','FLAG_OWN_CAR_N','FLAG_OWN_CAR_Y','FLAG_OWN_REALTY_N','FLAG_OWN_REALTY_Y','NAME_INCOME_TYPE_Businessman','NAME_INCOME_TYPE_Commercial associate','NAME_INCOME_TYPE_Pensioner','NAME_INCOME_TYPE_State servant','NAME_INCOME_TYPE_Student','NAME_INCOME_TYPE_Unemployed','NAME_INCOME_TYPE_Working','NAME_EDUCATION_TYPE_Academic degree','NAME_EDUCATION_TYPE_Higher education','NAME_EDUCATION_TYPE_Incomplete higher','NAME_EDUCATION_TYPE_Lower secondary','NAME_EDUCATION_TYPE_Secondary / secondary special','NAME_FAMILY_STATUS_Civil marriage','NAME_FAMILY_STATUS_Married','NAME_FAMILY_STATUS_Separated','NAME_FAMILY_STATUS_Single / not married','NAME_FAMILY_STATUS_Widow','NAME_HOUSING_TYPE_Co-op apartment','NAME_HOUSING_TYPE_House / apartment','NAME_HOUSING_TYPE_Municipal apartment','NAME_HOUSING_TYPE_Office apartment','NAME_HOUSING_TYPE_Rented apartment','NAME_HOUSING_TYPE_With parents','WEEKDAY_APPR_PROCESS_START_FRIDAY','WEEKDAY_APPR_PROCESS_START_MONDAY','WEEKDAY_APPR_PROCESS_START_SATURDAY','WEEKDAY_APPR_PROCESS_START_SUNDAY','WEEKDAY_APPR_PROCESS_START_THURSDAY','WEEKDAY_APPR_PROCESS_START_TUESDAY','WEEKDAY_APPR_PROCESS_START_WEDNESDAY','ORGANIZATION_TYPE_Advertising','ORGANIZATION_TYPE_Agriculture','ORGANIZATION_TYPE_Bank','ORGANIZATION_TYPE_Business Entity Type 1','ORGANIZATION_TYPE_Business Entity Type 2','ORGANIZATION_TYPE_Business Entity Type 3','ORGANIZATION_TYPE_Cleaning','ORGANIZATION_TYPE_Construction','ORGANIZATION_TYPE_Culture','ORGANIZATION_TYPE_Electricity','ORGANIZATION_TYPE_Emergency','ORGANIZATION_TYPE_Government','ORGANIZATION_TYPE_Hotel','ORGANIZATION_TYPE_Housing','ORGANIZATION_TYPE_Industry: type 1','ORGANIZATION_TYPE_Industry: type 10','ORGANIZATION_TYPE_Industry: type 11','ORGANIZATION_TYPE_Industry: type 12','ORGANIZATION_TYPE_Industry: type 13','ORGANIZATION_TYPE_Industry: type 2','ORGANIZATION_TYPE_Industry: type 3','ORGANIZATION_TYPE_Industry: type 4','ORGANIZATION_TYPE_Industry: type 5','ORGANIZATION_TYPE_Industry: type 6','ORGANIZATION_TYPE_Industry: type 7','ORGANIZATION_TYPE_Industry: type 8','ORGANIZATION_TYPE_Industry: type 9','ORGANIZATION_TYPE_Insurance','ORGANIZATION_TYPE_Kindergarten','ORGANIZATION_TYPE_Legal Services','ORGANIZATION_TYPE_Medicine','ORGANIZATION_TYPE_Military','ORGANIZATION_TYPE_Mobile','ORGANIZATION_TYPE_Other','ORGANIZATION_TYPE_Police','ORGANIZATION_TYPE_Postal','ORGANIZATION_TYPE_Realtor','ORGANIZATION_TYPE_Religion','ORGANIZATION_TYPE_Restaurant','ORGANIZATION_TYPE_School','ORGANIZATION_TYPE_Security','ORGANIZATION_TYPE_Security Ministries','ORGANIZATION_TYPE_Self-employed','ORGANIZATION_TYPE_Services','ORGANIZATION_TYPE_Telecom','ORGANIZATION_TYPE_Trade: type 1','ORGANIZATION_TYPE_Trade: type 2','ORGANIZATION_TYPE_Trade: type 3','ORGANIZATION_TYPE_Trade: type 4','ORGANIZATION_TYPE_Trade: type 5','ORGANIZATION_TYPE_Trade: type 6','ORGANIZATION_TYPE_Trade: type 7','ORGANIZATION_TYPE_Transport: type 1','ORGANIZATION_TYPE_Transport: type 2','ORGANIZATION_TYPE_Transport: type 3','ORGANIZATION_TYPE_Transport: type 4','ORGANIZATION_TYPE_University','ORGANIZATION_TYPE_XNA','NAME_TYPE_SUITE_Children','NAME_TYPE_SUITE_Family','NAME_TYPE_SUITE_Group of people','NAME_TYPE_SUITE_Other_A','NAME_TYPE_SUITE_Other_B','NAME_TYPE_SUITE_Spouse, partner','NAME_TYPE_SUITE_Unaccompanied']"
   ]
  },
  {
   "cell_type": "code",
   "execution_count": 26,
   "metadata": {},
   "outputs": [],
   "source": [
    "bureau_data_grouped = bureau_data.groupby('SK_ID_CURR', as_index=False).agg({'SK_ID_BUREAU': 'count', 'AMT_CREDIT_MAX_OVERDUE':sum,\\\n",
    "                                                      'AMT_CREDIT_SUM_OVERDUE': sum})"
   ]
  },
  {
   "cell_type": "code",
   "execution_count": 27,
   "metadata": {},
   "outputs": [],
   "source": [
    "# Joining Bureau Grouped Data with Train Data\n",
    "\n",
    "merged_train_data = new_train_dummies.merge(bureau_data_grouped, how = 'left', left_on = 'SK_ID_CURR', right_on = 'SK_ID_CURR')"
   ]
  },
  {
   "cell_type": "code",
   "execution_count": 28,
   "metadata": {},
   "outputs": [],
   "source": [
    "merged_train_data = merged_train_data.drop('SK_ID_BUREAU', axis = 1)"
   ]
  },
  {
   "cell_type": "code",
   "execution_count": 29,
   "metadata": {},
   "outputs": [],
   "source": [
    "merged_train_data['AMT_CREDIT_MAX_OVERDUE'] = merged_train_data['AMT_CREDIT_MAX_OVERDUE'].fillna(pd.Series.median(merged_train_data['AMT_CREDIT_MAX_OVERDUE'], skipna=True))\n",
    "merged_train_data['AMT_CREDIT_SUM_OVERDUE'] = merged_train_data['AMT_CREDIT_SUM_OVERDUE'].fillna(pd.Series.median(merged_train_data['AMT_CREDIT_SUM_OVERDUE'], skipna=True))"
   ]
  },
  {
   "cell_type": "code",
   "execution_count": 30,
   "metadata": {},
   "outputs": [],
   "source": [
    "merged_test_data = new_test_dummies.merge(bureau_data_grouped, how = 'left', left_on = 'SK_ID_CURR', right_on = 'SK_ID_CURR')"
   ]
  },
  {
   "cell_type": "code",
   "execution_count": 31,
   "metadata": {},
   "outputs": [],
   "source": [
    "merged_test_data = merged_test_data.drop('SK_ID_BUREAU', axis = 1)"
   ]
  },
  {
   "cell_type": "code",
   "execution_count": 32,
   "metadata": {},
   "outputs": [],
   "source": [
    "merged_test_data['AMT_CREDIT_MAX_OVERDUE'] = merged_test_data['AMT_CREDIT_MAX_OVERDUE'].fillna(pd.Series.median(merged_test_data['AMT_CREDIT_MAX_OVERDUE'], skipna=True))\n",
    "merged_test_data['AMT_CREDIT_SUM_OVERDUE'] = merged_test_data['AMT_CREDIT_SUM_OVERDUE'].fillna(pd.Series.median(merged_test_data['AMT_CREDIT_SUM_OVERDUE'], skipna=True))"
   ]
  },
  {
   "cell_type": "code",
   "execution_count": 33,
   "metadata": {},
   "outputs": [],
   "source": [
    "from catboost import CatBoostClassifier"
   ]
  },
  {
   "cell_type": "code",
   "execution_count": 35,
   "metadata": {},
   "outputs": [],
   "source": [
    "cat_model = CatBoostClassifier(iterations=500, learning_rate=0.1)"
   ]
  },
  {
   "cell_type": "code",
   "execution_count": 36,
   "metadata": {},
   "outputs": [],
   "source": [
    "merged_test_data = merged_test_data.drop('SK_ID_CURR', axis = 1)"
   ]
  },
  {
   "cell_type": "code",
   "execution_count": 37,
   "metadata": {},
   "outputs": [],
   "source": [
    "X, y = merged_train_data.drop(['SK_ID_CURR','TARGET','CODE_GENDER_XNA','NAME_INCOME_TYPE_Maternity leave','NAME_FAMILY_STATUS_Unknown'], axis = 1), merged_train_data.TARGET"
   ]
  },
  {
   "cell_type": "code",
   "execution_count": 38,
   "metadata": {},
   "outputs": [
    {
     "name": "stdout",
     "output_type": "stream",
     "text": [
      "0:\tlearn: 0.5905900\ttotal: 718ms\tremaining: 5m 58s\n",
      "1:\tlearn: 0.5133476\ttotal: 1.41s\tremaining: 5m 50s\n",
      "2:\tlearn: 0.4547043\ttotal: 2.09s\tremaining: 5m 46s\n",
      "3:\tlearn: 0.4106490\ttotal: 2.72s\tremaining: 5m 37s\n",
      "4:\tlearn: 0.3777273\ttotal: 3.33s\tremaining: 5m 29s\n",
      "5:\tlearn: 0.3522955\ttotal: 3.97s\tremaining: 5m 26s\n",
      "6:\tlearn: 0.3325669\ttotal: 4.57s\tremaining: 5m 22s\n",
      "7:\tlearn: 0.3169835\ttotal: 5.21s\tremaining: 5m 20s\n",
      "8:\tlearn: 0.3055357\ttotal: 5.92s\tremaining: 5m 23s\n",
      "9:\tlearn: 0.2964296\ttotal: 6.77s\tremaining: 5m 31s\n",
      "10:\tlearn: 0.2889580\ttotal: 7.46s\tremaining: 5m 31s\n",
      "11:\tlearn: 0.2832202\ttotal: 8.07s\tremaining: 5m 28s\n",
      "12:\tlearn: 0.2785370\ttotal: 8.63s\tremaining: 5m 23s\n",
      "13:\tlearn: 0.2751740\ttotal: 9.17s\tremaining: 5m 18s\n",
      "14:\tlearn: 0.2723896\ttotal: 9.76s\tremaining: 5m 15s\n",
      "15:\tlearn: 0.2699647\ttotal: 10.3s\tremaining: 5m 11s\n",
      "16:\tlearn: 0.2679628\ttotal: 10.8s\tremaining: 5m 8s\n",
      "17:\tlearn: 0.2664102\ttotal: 11.4s\tremaining: 5m 5s\n",
      "18:\tlearn: 0.2652604\ttotal: 12.1s\tremaining: 5m 5s\n",
      "19:\tlearn: 0.2643254\ttotal: 12.7s\tremaining: 5m 4s\n",
      "20:\tlearn: 0.2633870\ttotal: 13.3s\tremaining: 5m 3s\n",
      "21:\tlearn: 0.2625940\ttotal: 14.3s\tremaining: 5m 10s\n",
      "22:\tlearn: 0.2619896\ttotal: 14.9s\tremaining: 5m 9s\n",
      "23:\tlearn: 0.2615537\ttotal: 15.5s\tremaining: 5m 7s\n",
      "24:\tlearn: 0.2610523\ttotal: 16.1s\tremaining: 5m 5s\n",
      "25:\tlearn: 0.2606759\ttotal: 16.8s\tremaining: 5m 5s\n",
      "26:\tlearn: 0.2602893\ttotal: 17.5s\tremaining: 5m 6s\n",
      "27:\tlearn: 0.2599767\ttotal: 18.4s\tremaining: 5m 9s\n",
      "28:\tlearn: 0.2596362\ttotal: 19.3s\tremaining: 5m 13s\n",
      "29:\tlearn: 0.2593927\ttotal: 20.3s\tremaining: 5m 18s\n",
      "30:\tlearn: 0.2592115\ttotal: 21.3s\tremaining: 5m 22s\n",
      "31:\tlearn: 0.2590563\ttotal: 22.5s\tremaining: 5m 29s\n",
      "32:\tlearn: 0.2589078\ttotal: 23.2s\tremaining: 5m 28s\n",
      "33:\tlearn: 0.2587263\ttotal: 24.3s\tremaining: 5m 33s\n",
      "34:\tlearn: 0.2585979\ttotal: 25.1s\tremaining: 5m 33s\n",
      "35:\tlearn: 0.2584759\ttotal: 25.9s\tremaining: 5m 33s\n",
      "36:\tlearn: 0.2583448\ttotal: 26.5s\tremaining: 5m 31s\n",
      "37:\tlearn: 0.2582649\ttotal: 27.1s\tremaining: 5m 29s\n",
      "38:\tlearn: 0.2581130\ttotal: 27.7s\tremaining: 5m 27s\n",
      "39:\tlearn: 0.2580117\ttotal: 28.2s\tremaining: 5m 24s\n",
      "40:\tlearn: 0.2579129\ttotal: 28.8s\tremaining: 5m 22s\n",
      "41:\tlearn: 0.2578222\ttotal: 29.4s\tremaining: 5m 20s\n",
      "42:\tlearn: 0.2576901\ttotal: 30s\tremaining: 5m 18s\n",
      "43:\tlearn: 0.2575706\ttotal: 30.6s\tremaining: 5m 17s\n",
      "44:\tlearn: 0.2574758\ttotal: 31.2s\tremaining: 5m 15s\n",
      "45:\tlearn: 0.2574051\ttotal: 31.9s\tremaining: 5m 14s\n",
      "46:\tlearn: 0.2573125\ttotal: 32.5s\tremaining: 5m 13s\n",
      "47:\tlearn: 0.2572409\ttotal: 33.1s\tremaining: 5m 11s\n",
      "48:\tlearn: 0.2571395\ttotal: 33.7s\tremaining: 5m 9s\n",
      "49:\tlearn: 0.2570717\ttotal: 34.4s\tremaining: 5m 9s\n",
      "50:\tlearn: 0.2570149\ttotal: 35.1s\tremaining: 5m 8s\n",
      "51:\tlearn: 0.2569380\ttotal: 35.8s\tremaining: 5m 8s\n",
      "52:\tlearn: 0.2568755\ttotal: 36.5s\tremaining: 5m 7s\n",
      "53:\tlearn: 0.2568024\ttotal: 37.3s\tremaining: 5m 7s\n",
      "54:\tlearn: 0.2567436\ttotal: 38.2s\tremaining: 5m 8s\n",
      "55:\tlearn: 0.2566911\ttotal: 38.8s\tremaining: 5m 7s\n",
      "56:\tlearn: 0.2566223\ttotal: 39.7s\tremaining: 5m 8s\n",
      "57:\tlearn: 0.2565661\ttotal: 40.5s\tremaining: 5m 8s\n",
      "58:\tlearn: 0.2565101\ttotal: 41.3s\tremaining: 5m 8s\n",
      "59:\tlearn: 0.2564709\ttotal: 42.3s\tremaining: 5m 10s\n",
      "60:\tlearn: 0.2564215\ttotal: 43.1s\tremaining: 5m 10s\n",
      "61:\tlearn: 0.2563684\ttotal: 44s\tremaining: 5m 11s\n",
      "62:\tlearn: 0.2563087\ttotal: 44.9s\tremaining: 5m 11s\n",
      "63:\tlearn: 0.2562606\ttotal: 45.6s\tremaining: 5m 10s\n",
      "64:\tlearn: 0.2562114\ttotal: 46.3s\tremaining: 5m 9s\n",
      "65:\tlearn: 0.2561855\ttotal: 46.9s\tremaining: 5m 8s\n",
      "66:\tlearn: 0.2561380\ttotal: 47.7s\tremaining: 5m 8s\n",
      "67:\tlearn: 0.2560994\ttotal: 48.2s\tremaining: 5m 6s\n",
      "68:\tlearn: 0.2560572\ttotal: 49.1s\tremaining: 5m 6s\n",
      "69:\tlearn: 0.2560152\ttotal: 49.9s\tremaining: 5m 6s\n",
      "70:\tlearn: 0.2559660\ttotal: 50.6s\tremaining: 5m 5s\n",
      "71:\tlearn: 0.2559194\ttotal: 51.6s\tremaining: 5m 6s\n",
      "72:\tlearn: 0.2558855\ttotal: 52.5s\tremaining: 5m 7s\n",
      "73:\tlearn: 0.2558344\ttotal: 53.4s\tremaining: 5m 7s\n",
      "74:\tlearn: 0.2558043\ttotal: 54.2s\tremaining: 5m 6s\n",
      "75:\tlearn: 0.2557692\ttotal: 54.8s\tremaining: 5m 5s\n",
      "76:\tlearn: 0.2557458\ttotal: 55.6s\tremaining: 5m 5s\n",
      "77:\tlearn: 0.2557113\ttotal: 56.3s\tremaining: 5m 4s\n",
      "78:\tlearn: 0.2556762\ttotal: 56.8s\tremaining: 5m 2s\n",
      "79:\tlearn: 0.2556365\ttotal: 57.4s\tremaining: 5m 1s\n",
      "80:\tlearn: 0.2555981\ttotal: 58s\tremaining: 4m 59s\n",
      "81:\tlearn: 0.2555729\ttotal: 58.5s\tremaining: 4m 58s\n",
      "82:\tlearn: 0.2555479\ttotal: 59.1s\tremaining: 4m 57s\n",
      "83:\tlearn: 0.2555238\ttotal: 59.7s\tremaining: 4m 55s\n",
      "84:\tlearn: 0.2554946\ttotal: 1m\tremaining: 4m 54s\n",
      "85:\tlearn: 0.2554629\ttotal: 1m\tremaining: 4m 53s\n",
      "86:\tlearn: 0.2554296\ttotal: 1m 1s\tremaining: 4m 52s\n",
      "87:\tlearn: 0.2553864\ttotal: 1m 2s\tremaining: 4m 51s\n",
      "88:\tlearn: 0.2553511\ttotal: 1m 2s\tremaining: 4m 50s\n",
      "89:\tlearn: 0.2553187\ttotal: 1m 3s\tremaining: 4m 48s\n",
      "90:\tlearn: 0.2552880\ttotal: 1m 3s\tremaining: 4m 47s\n",
      "91:\tlearn: 0.2552594\ttotal: 1m 4s\tremaining: 4m 46s\n",
      "92:\tlearn: 0.2552269\ttotal: 1m 5s\tremaining: 4m 44s\n",
      "93:\tlearn: 0.2552043\ttotal: 1m 5s\tremaining: 4m 43s\n",
      "94:\tlearn: 0.2551699\ttotal: 1m 6s\tremaining: 4m 42s\n",
      "95:\tlearn: 0.2551437\ttotal: 1m 6s\tremaining: 4m 41s\n",
      "96:\tlearn: 0.2551171\ttotal: 1m 7s\tremaining: 4m 40s\n",
      "97:\tlearn: 0.2550729\ttotal: 1m 8s\tremaining: 4m 39s\n",
      "98:\tlearn: 0.2550456\ttotal: 1m 8s\tremaining: 4m 38s\n",
      "99:\tlearn: 0.2550054\ttotal: 1m 9s\tremaining: 4m 36s\n",
      "100:\tlearn: 0.2549651\ttotal: 1m 9s\tremaining: 4m 35s\n",
      "101:\tlearn: 0.2549442\ttotal: 1m 10s\tremaining: 4m 34s\n",
      "102:\tlearn: 0.2549054\ttotal: 1m 10s\tremaining: 4m 33s\n",
      "103:\tlearn: 0.2548916\ttotal: 1m 11s\tremaining: 4m 32s\n",
      "104:\tlearn: 0.2548703\ttotal: 1m 12s\tremaining: 4m 32s\n",
      "105:\tlearn: 0.2548490\ttotal: 1m 12s\tremaining: 4m 30s\n",
      "106:\tlearn: 0.2548316\ttotal: 1m 13s\tremaining: 4m 29s\n",
      "107:\tlearn: 0.2547949\ttotal: 1m 14s\tremaining: 4m 28s\n",
      "108:\tlearn: 0.2547619\ttotal: 1m 14s\tremaining: 4m 27s\n",
      "109:\tlearn: 0.2547470\ttotal: 1m 15s\tremaining: 4m 26s\n",
      "110:\tlearn: 0.2547233\ttotal: 1m 15s\tremaining: 4m 25s\n",
      "111:\tlearn: 0.2546851\ttotal: 1m 16s\tremaining: 4m 24s\n",
      "112:\tlearn: 0.2546602\ttotal: 1m 17s\tremaining: 4m 23s\n",
      "113:\tlearn: 0.2546409\ttotal: 1m 17s\tremaining: 4m 22s\n",
      "114:\tlearn: 0.2546192\ttotal: 1m 18s\tremaining: 4m 21s\n",
      "115:\tlearn: 0.2545864\ttotal: 1m 18s\tremaining: 4m 20s\n",
      "116:\tlearn: 0.2545712\ttotal: 1m 19s\tremaining: 4m 19s\n",
      "117:\tlearn: 0.2545519\ttotal: 1m 20s\tremaining: 4m 19s\n",
      "118:\tlearn: 0.2545306\ttotal: 1m 20s\tremaining: 4m 18s\n",
      "119:\tlearn: 0.2545031\ttotal: 1m 21s\tremaining: 4m 17s\n",
      "120:\tlearn: 0.2544859\ttotal: 1m 21s\tremaining: 4m 16s\n",
      "121:\tlearn: 0.2544645\ttotal: 1m 22s\tremaining: 4m 15s\n",
      "122:\tlearn: 0.2544445\ttotal: 1m 23s\tremaining: 4m 14s\n",
      "123:\tlearn: 0.2544231\ttotal: 1m 23s\tremaining: 4m 13s\n",
      "124:\tlearn: 0.2543841\ttotal: 1m 24s\tremaining: 4m 12s\n",
      "125:\tlearn: 0.2543589\ttotal: 1m 24s\tremaining: 4m 12s\n",
      "126:\tlearn: 0.2543438\ttotal: 1m 25s\tremaining: 4m 11s\n",
      "127:\tlearn: 0.2543241\ttotal: 1m 26s\tremaining: 4m 10s\n",
      "128:\tlearn: 0.2543065\ttotal: 1m 26s\tremaining: 4m 9s\n",
      "129:\tlearn: 0.2542884\ttotal: 1m 27s\tremaining: 4m 8s\n",
      "130:\tlearn: 0.2542719\ttotal: 1m 27s\tremaining: 4m 7s\n",
      "131:\tlearn: 0.2542393\ttotal: 1m 28s\tremaining: 4m 6s\n",
      "132:\tlearn: 0.2542072\ttotal: 1m 29s\tremaining: 4m 5s\n",
      "133:\tlearn: 0.2541807\ttotal: 1m 29s\tremaining: 4m 4s\n",
      "134:\tlearn: 0.2541523\ttotal: 1m 30s\tremaining: 4m 4s\n",
      "135:\tlearn: 0.2541307\ttotal: 1m 30s\tremaining: 4m 3s\n",
      "136:\tlearn: 0.2541025\ttotal: 1m 31s\tremaining: 4m 2s\n",
      "137:\tlearn: 0.2540775\ttotal: 1m 31s\tremaining: 4m 1s\n",
      "138:\tlearn: 0.2540575\ttotal: 1m 32s\tremaining: 4m\n",
      "139:\tlearn: 0.2540357\ttotal: 1m 33s\tremaining: 3m 59s\n",
      "140:\tlearn: 0.2540062\ttotal: 1m 33s\tremaining: 3m 58s\n",
      "141:\tlearn: 0.2539779\ttotal: 1m 34s\tremaining: 3m 57s\n",
      "142:\tlearn: 0.2539577\ttotal: 1m 34s\tremaining: 3m 56s\n",
      "143:\tlearn: 0.2539333\ttotal: 1m 35s\tremaining: 3m 56s\n",
      "144:\tlearn: 0.2539143\ttotal: 1m 36s\tremaining: 3m 55s\n",
      "145:\tlearn: 0.2538925\ttotal: 1m 36s\tremaining: 3m 54s\n",
      "146:\tlearn: 0.2538723\ttotal: 1m 37s\tremaining: 3m 53s\n",
      "147:\tlearn: 0.2538431\ttotal: 1m 37s\tremaining: 3m 52s\n",
      "148:\tlearn: 0.2538271\ttotal: 1m 38s\tremaining: 3m 51s\n",
      "149:\tlearn: 0.2538085\ttotal: 1m 38s\tremaining: 3m 50s\n",
      "150:\tlearn: 0.2537872\ttotal: 1m 39s\tremaining: 3m 49s\n",
      "151:\tlearn: 0.2537572\ttotal: 1m 39s\tremaining: 3m 48s\n",
      "152:\tlearn: 0.2537421\ttotal: 1m 40s\tremaining: 3m 47s\n",
      "153:\tlearn: 0.2537173\ttotal: 1m 41s\tremaining: 3m 47s\n",
      "154:\tlearn: 0.2537036\ttotal: 1m 41s\tremaining: 3m 46s\n",
      "155:\tlearn: 0.2536820\ttotal: 1m 42s\tremaining: 3m 45s\n",
      "156:\tlearn: 0.2536536\ttotal: 1m 42s\tremaining: 3m 44s\n",
      "157:\tlearn: 0.2536216\ttotal: 1m 43s\tremaining: 3m 43s\n",
      "158:\tlearn: 0.2535966\ttotal: 1m 43s\tremaining: 3m 42s\n",
      "159:\tlearn: 0.2535743\ttotal: 1m 44s\tremaining: 3m 42s\n",
      "160:\tlearn: 0.2535535\ttotal: 1m 45s\tremaining: 3m 41s\n",
      "161:\tlearn: 0.2535349\ttotal: 1m 45s\tremaining: 3m 40s\n",
      "162:\tlearn: 0.2535057\ttotal: 1m 46s\tremaining: 3m 39s\n",
      "163:\tlearn: 0.2534795\ttotal: 1m 46s\tremaining: 3m 38s\n",
      "164:\tlearn: 0.2534522\ttotal: 1m 47s\tremaining: 3m 37s\n",
      "165:\tlearn: 0.2534442\ttotal: 1m 47s\tremaining: 3m 37s\n",
      "166:\tlearn: 0.2534225\ttotal: 1m 48s\tremaining: 3m 36s\n",
      "167:\tlearn: 0.2534124\ttotal: 1m 49s\tremaining: 3m 35s\n",
      "168:\tlearn: 0.2533925\ttotal: 1m 49s\tremaining: 3m 34s\n",
      "169:\tlearn: 0.2533748\ttotal: 1m 50s\tremaining: 3m 33s\n",
      "170:\tlearn: 0.2533446\ttotal: 1m 50s\tremaining: 3m 33s\n",
      "171:\tlearn: 0.2533067\ttotal: 1m 51s\tremaining: 3m 32s\n",
      "172:\tlearn: 0.2532789\ttotal: 1m 51s\tremaining: 3m 31s\n",
      "173:\tlearn: 0.2532660\ttotal: 1m 52s\tremaining: 3m 30s\n",
      "174:\tlearn: 0.2532391\ttotal: 1m 52s\tremaining: 3m 29s\n",
      "175:\tlearn: 0.2532206\ttotal: 1m 53s\tremaining: 3m 28s\n",
      "176:\tlearn: 0.2531957\ttotal: 1m 54s\tremaining: 3m 28s\n",
      "177:\tlearn: 0.2531743\ttotal: 1m 54s\tremaining: 3m 27s\n",
      "178:\tlearn: 0.2531620\ttotal: 1m 55s\tremaining: 3m 26s\n",
      "179:\tlearn: 0.2531364\ttotal: 1m 55s\tremaining: 3m 25s\n",
      "180:\tlearn: 0.2531208\ttotal: 1m 56s\tremaining: 3m 25s\n",
      "181:\tlearn: 0.2531037\ttotal: 1m 57s\tremaining: 3m 24s\n",
      "182:\tlearn: 0.2530855\ttotal: 1m 57s\tremaining: 3m 23s\n",
      "183:\tlearn: 0.2530649\ttotal: 1m 58s\tremaining: 3m 23s\n",
      "184:\tlearn: 0.2530485\ttotal: 1m 58s\tremaining: 3m 22s\n",
      "185:\tlearn: 0.2530299\ttotal: 1m 59s\tremaining: 3m 21s\n",
      "186:\tlearn: 0.2530108\ttotal: 1m 59s\tremaining: 3m 20s\n",
      "187:\tlearn: 0.2529873\ttotal: 2m\tremaining: 3m 20s\n",
      "188:\tlearn: 0.2529602\ttotal: 2m 1s\tremaining: 3m 19s\n",
      "189:\tlearn: 0.2529308\ttotal: 2m 1s\tremaining: 3m 18s\n",
      "190:\tlearn: 0.2529076\ttotal: 2m 2s\tremaining: 3m 17s\n",
      "191:\tlearn: 0.2528912\ttotal: 2m 2s\tremaining: 3m 17s\n",
      "192:\tlearn: 0.2528754\ttotal: 2m 3s\tremaining: 3m 16s\n",
      "193:\tlearn: 0.2528440\ttotal: 2m 3s\tremaining: 3m 15s\n",
      "194:\tlearn: 0.2528164\ttotal: 2m 4s\tremaining: 3m 14s\n",
      "195:\tlearn: 0.2528040\ttotal: 2m 5s\tremaining: 3m 14s\n",
      "196:\tlearn: 0.2527874\ttotal: 2m 5s\tremaining: 3m 13s\n",
      "197:\tlearn: 0.2527751\ttotal: 2m 6s\tremaining: 3m 12s\n",
      "198:\tlearn: 0.2527554\ttotal: 2m 6s\tremaining: 3m 11s\n",
      "199:\tlearn: 0.2527377\ttotal: 2m 7s\tremaining: 3m 11s\n",
      "200:\tlearn: 0.2527197\ttotal: 2m 8s\tremaining: 3m 10s\n",
      "201:\tlearn: 0.2526979\ttotal: 2m 8s\tremaining: 3m 9s\n",
      "202:\tlearn: 0.2526750\ttotal: 2m 9s\tremaining: 3m 8s\n",
      "203:\tlearn: 0.2526542\ttotal: 2m 9s\tremaining: 3m 8s\n",
      "204:\tlearn: 0.2526450\ttotal: 2m 10s\tremaining: 3m 7s\n",
      "205:\tlearn: 0.2526295\ttotal: 2m 10s\tremaining: 3m 6s\n",
      "206:\tlearn: 0.2526177\ttotal: 2m 11s\tremaining: 3m 5s\n",
      "207:\tlearn: 0.2526061\ttotal: 2m 11s\tremaining: 3m 5s\n",
      "208:\tlearn: 0.2525707\ttotal: 2m 12s\tremaining: 3m 4s\n",
      "209:\tlearn: 0.2525528\ttotal: 2m 13s\tremaining: 3m 3s\n",
      "210:\tlearn: 0.2525349\ttotal: 2m 13s\tremaining: 3m 3s\n",
      "211:\tlearn: 0.2525066\ttotal: 2m 14s\tremaining: 3m 2s\n",
      "212:\tlearn: 0.2524933\ttotal: 2m 14s\tremaining: 3m 1s\n",
      "213:\tlearn: 0.2524779\ttotal: 2m 15s\tremaining: 3m\n",
      "214:\tlearn: 0.2524637\ttotal: 2m 15s\tremaining: 3m\n",
      "215:\tlearn: 0.2524533\ttotal: 2m 16s\tremaining: 2m 59s\n",
      "216:\tlearn: 0.2524329\ttotal: 2m 17s\tremaining: 2m 58s\n",
      "217:\tlearn: 0.2524070\ttotal: 2m 17s\tremaining: 2m 58s\n",
      "218:\tlearn: 0.2523858\ttotal: 2m 18s\tremaining: 2m 57s\n",
      "219:\tlearn: 0.2523638\ttotal: 2m 18s\tremaining: 2m 56s\n",
      "220:\tlearn: 0.2523483\ttotal: 2m 19s\tremaining: 2m 55s\n",
      "221:\tlearn: 0.2523390\ttotal: 2m 19s\tremaining: 2m 55s\n",
      "222:\tlearn: 0.2523278\ttotal: 2m 20s\tremaining: 2m 54s\n",
      "223:\tlearn: 0.2523162\ttotal: 2m 21s\tremaining: 2m 53s\n",
      "224:\tlearn: 0.2522998\ttotal: 2m 21s\tremaining: 2m 53s\n",
      "225:\tlearn: 0.2522831\ttotal: 2m 22s\tremaining: 2m 52s\n",
      "226:\tlearn: 0.2522663\ttotal: 2m 22s\tremaining: 2m 51s\n",
      "227:\tlearn: 0.2522534\ttotal: 2m 23s\tremaining: 2m 50s\n",
      "228:\tlearn: 0.2522286\ttotal: 2m 23s\tremaining: 2m 50s\n",
      "229:\tlearn: 0.2522070\ttotal: 2m 24s\tremaining: 2m 49s\n",
      "230:\tlearn: 0.2521929\ttotal: 2m 24s\tremaining: 2m 48s\n",
      "231:\tlearn: 0.2521722\ttotal: 2m 25s\tremaining: 2m 48s\n",
      "232:\tlearn: 0.2521602\ttotal: 2m 26s\tremaining: 2m 47s\n",
      "233:\tlearn: 0.2521418\ttotal: 2m 26s\tremaining: 2m 46s\n",
      "234:\tlearn: 0.2521288\ttotal: 2m 27s\tremaining: 2m 46s\n",
      "235:\tlearn: 0.2521091\ttotal: 2m 27s\tremaining: 2m 45s\n",
      "236:\tlearn: 0.2520918\ttotal: 2m 28s\tremaining: 2m 44s\n",
      "237:\tlearn: 0.2520785\ttotal: 2m 29s\tremaining: 2m 44s\n",
      "238:\tlearn: 0.2520634\ttotal: 2m 29s\tremaining: 2m 43s\n",
      "239:\tlearn: 0.2520505\ttotal: 2m 30s\tremaining: 2m 42s\n",
      "240:\tlearn: 0.2520257\ttotal: 2m 30s\tremaining: 2m 42s\n",
      "241:\tlearn: 0.2520140\ttotal: 2m 31s\tremaining: 2m 41s\n",
      "242:\tlearn: 0.2519893\ttotal: 2m 31s\tremaining: 2m 40s\n",
      "243:\tlearn: 0.2519727\ttotal: 2m 32s\tremaining: 2m 40s\n",
      "244:\tlearn: 0.2519592\ttotal: 2m 33s\tremaining: 2m 39s\n",
      "245:\tlearn: 0.2519275\ttotal: 2m 33s\tremaining: 2m 38s\n",
      "246:\tlearn: 0.2519005\ttotal: 2m 34s\tremaining: 2m 37s\n",
      "247:\tlearn: 0.2518713\ttotal: 2m 34s\tremaining: 2m 37s\n",
      "248:\tlearn: 0.2518515\ttotal: 2m 35s\tremaining: 2m 36s\n",
      "249:\tlearn: 0.2518418\ttotal: 2m 35s\tremaining: 2m 35s\n",
      "250:\tlearn: 0.2518277\ttotal: 2m 36s\tremaining: 2m 35s\n",
      "251:\tlearn: 0.2518102\ttotal: 2m 37s\tremaining: 2m 34s\n",
      "252:\tlearn: 0.2517939\ttotal: 2m 37s\tremaining: 2m 33s\n",
      "253:\tlearn: 0.2517786\ttotal: 2m 38s\tremaining: 2m 33s\n",
      "254:\tlearn: 0.2517553\ttotal: 2m 38s\tremaining: 2m 32s\n",
      "255:\tlearn: 0.2517370\ttotal: 2m 39s\tremaining: 2m 31s\n",
      "256:\tlearn: 0.2517249\ttotal: 2m 39s\tremaining: 2m 31s\n",
      "257:\tlearn: 0.2517069\ttotal: 2m 40s\tremaining: 2m 30s\n",
      "258:\tlearn: 0.2516914\ttotal: 2m 41s\tremaining: 2m 29s\n",
      "259:\tlearn: 0.2516717\ttotal: 2m 41s\tremaining: 2m 29s\n",
      "260:\tlearn: 0.2516497\ttotal: 2m 42s\tremaining: 2m 28s\n",
      "261:\tlearn: 0.2516301\ttotal: 2m 42s\tremaining: 2m 27s\n",
      "262:\tlearn: 0.2516036\ttotal: 2m 43s\tremaining: 2m 27s\n",
      "263:\tlearn: 0.2515912\ttotal: 2m 43s\tremaining: 2m 26s\n",
      "264:\tlearn: 0.2515812\ttotal: 2m 44s\tremaining: 2m 25s\n",
      "265:\tlearn: 0.2515648\ttotal: 2m 45s\tremaining: 2m 25s\n",
      "266:\tlearn: 0.2515507\ttotal: 2m 45s\tremaining: 2m 24s\n",
      "267:\tlearn: 0.2515377\ttotal: 2m 46s\tremaining: 2m 23s\n",
      "268:\tlearn: 0.2515235\ttotal: 2m 46s\tremaining: 2m 23s\n",
      "269:\tlearn: 0.2515091\ttotal: 2m 47s\tremaining: 2m 22s\n",
      "270:\tlearn: 0.2514896\ttotal: 2m 47s\tremaining: 2m 21s\n",
      "271:\tlearn: 0.2514734\ttotal: 2m 48s\tremaining: 2m 21s\n",
      "272:\tlearn: 0.2514609\ttotal: 2m 49s\tremaining: 2m 20s\n",
      "273:\tlearn: 0.2514471\ttotal: 2m 49s\tremaining: 2m 19s\n",
      "274:\tlearn: 0.2514325\ttotal: 2m 50s\tremaining: 2m 19s\n",
      "275:\tlearn: 0.2514143\ttotal: 2m 50s\tremaining: 2m 18s\n",
      "276:\tlearn: 0.2513951\ttotal: 2m 51s\tremaining: 2m 17s\n",
      "277:\tlearn: 0.2513734\ttotal: 2m 51s\tremaining: 2m 17s\n",
      "278:\tlearn: 0.2513538\ttotal: 2m 52s\tremaining: 2m 16s\n",
      "279:\tlearn: 0.2513347\ttotal: 2m 53s\tremaining: 2m 16s\n",
      "280:\tlearn: 0.2513069\ttotal: 2m 53s\tremaining: 2m 15s\n",
      "281:\tlearn: 0.2512878\ttotal: 2m 54s\tremaining: 2m 14s\n",
      "282:\tlearn: 0.2512654\ttotal: 2m 54s\tremaining: 2m 14s\n",
      "283:\tlearn: 0.2512522\ttotal: 2m 55s\tremaining: 2m 13s\n",
      "284:\tlearn: 0.2512424\ttotal: 2m 56s\tremaining: 2m 12s\n",
      "285:\tlearn: 0.2512313\ttotal: 2m 56s\tremaining: 2m 12s\n",
      "286:\tlearn: 0.2512139\ttotal: 2m 57s\tremaining: 2m 11s\n",
      "287:\tlearn: 0.2511965\ttotal: 2m 57s\tremaining: 2m 10s\n",
      "288:\tlearn: 0.2511705\ttotal: 2m 58s\tremaining: 2m 10s\n",
      "289:\tlearn: 0.2511539\ttotal: 2m 58s\tremaining: 2m 9s\n",
      "290:\tlearn: 0.2511331\ttotal: 2m 59s\tremaining: 2m 9s\n",
      "291:\tlearn: 0.2511147\ttotal: 3m\tremaining: 2m 8s\n",
      "292:\tlearn: 0.2510881\ttotal: 3m\tremaining: 2m 7s\n",
      "293:\tlearn: 0.2510705\ttotal: 3m 1s\tremaining: 2m 7s\n",
      "294:\tlearn: 0.2510458\ttotal: 3m 1s\tremaining: 2m 6s\n",
      "295:\tlearn: 0.2510221\ttotal: 3m 2s\tremaining: 2m 5s\n",
      "296:\tlearn: 0.2509993\ttotal: 3m 3s\tremaining: 2m 5s\n",
      "297:\tlearn: 0.2509862\ttotal: 3m 3s\tremaining: 2m 4s\n",
      "298:\tlearn: 0.2509723\ttotal: 3m 4s\tremaining: 2m 3s\n",
      "299:\tlearn: 0.2509533\ttotal: 3m 4s\tremaining: 2m 3s\n",
      "300:\tlearn: 0.2509430\ttotal: 3m 5s\tremaining: 2m 2s\n",
      "301:\tlearn: 0.2509240\ttotal: 3m 6s\tremaining: 2m 2s\n",
      "302:\tlearn: 0.2508796\ttotal: 3m 6s\tremaining: 2m 1s\n",
      "303:\tlearn: 0.2508637\ttotal: 3m 7s\tremaining: 2m\n",
      "304:\tlearn: 0.2508462\ttotal: 3m 7s\tremaining: 2m\n",
      "305:\tlearn: 0.2508284\ttotal: 3m 8s\tremaining: 1m 59s\n",
      "306:\tlearn: 0.2508123\ttotal: 3m 8s\tremaining: 1m 58s\n",
      "307:\tlearn: 0.2507949\ttotal: 3m 9s\tremaining: 1m 58s\n",
      "308:\tlearn: 0.2507851\ttotal: 3m 10s\tremaining: 1m 57s\n",
      "309:\tlearn: 0.2507639\ttotal: 3m 10s\tremaining: 1m 56s\n",
      "310:\tlearn: 0.2507540\ttotal: 3m 11s\tremaining: 1m 56s\n",
      "311:\tlearn: 0.2507437\ttotal: 3m 11s\tremaining: 1m 55s\n",
      "312:\tlearn: 0.2507312\ttotal: 3m 12s\tremaining: 1m 54s\n",
      "313:\tlearn: 0.2507098\ttotal: 3m 12s\tremaining: 1m 54s\n",
      "314:\tlearn: 0.2506953\ttotal: 3m 13s\tremaining: 1m 53s\n",
      "315:\tlearn: 0.2506717\ttotal: 3m 14s\tremaining: 1m 53s\n",
      "316:\tlearn: 0.2506582\ttotal: 3m 14s\tremaining: 1m 52s\n",
      "317:\tlearn: 0.2506414\ttotal: 3m 15s\tremaining: 1m 51s\n",
      "318:\tlearn: 0.2506205\ttotal: 3m 15s\tremaining: 1m 51s\n",
      "319:\tlearn: 0.2506045\ttotal: 3m 16s\tremaining: 1m 50s\n",
      "320:\tlearn: 0.2505857\ttotal: 3m 17s\tremaining: 1m 49s\n",
      "321:\tlearn: 0.2505769\ttotal: 3m 17s\tremaining: 1m 49s\n",
      "322:\tlearn: 0.2505628\ttotal: 3m 18s\tremaining: 1m 48s\n",
      "323:\tlearn: 0.2505511\ttotal: 3m 18s\tremaining: 1m 48s\n",
      "324:\tlearn: 0.2505334\ttotal: 3m 19s\tremaining: 1m 47s\n",
      "325:\tlearn: 0.2504989\ttotal: 3m 19s\tremaining: 1m 46s\n",
      "326:\tlearn: 0.2504844\ttotal: 3m 20s\tremaining: 1m 46s\n",
      "327:\tlearn: 0.2504759\ttotal: 3m 21s\tremaining: 1m 45s\n",
      "328:\tlearn: 0.2504578\ttotal: 3m 21s\tremaining: 1m 44s\n",
      "329:\tlearn: 0.2504408\ttotal: 3m 22s\tremaining: 1m 44s\n",
      "330:\tlearn: 0.2504250\ttotal: 3m 23s\tremaining: 1m 43s\n",
      "331:\tlearn: 0.2504042\ttotal: 3m 23s\tremaining: 1m 43s\n",
      "332:\tlearn: 0.2503958\ttotal: 3m 24s\tremaining: 1m 42s\n",
      "333:\tlearn: 0.2503848\ttotal: 3m 24s\tremaining: 1m 41s\n",
      "334:\tlearn: 0.2503618\ttotal: 3m 25s\tremaining: 1m 41s\n",
      "335:\tlearn: 0.2503378\ttotal: 3m 26s\tremaining: 1m 40s\n",
      "336:\tlearn: 0.2503199\ttotal: 3m 26s\tremaining: 1m 40s\n",
      "337:\tlearn: 0.2502906\ttotal: 3m 27s\tremaining: 1m 39s\n",
      "338:\tlearn: 0.2502552\ttotal: 3m 27s\tremaining: 1m 38s\n",
      "339:\tlearn: 0.2502381\ttotal: 3m 28s\tremaining: 1m 38s\n",
      "340:\tlearn: 0.2502220\ttotal: 3m 29s\tremaining: 1m 37s\n",
      "341:\tlearn: 0.2501992\ttotal: 3m 29s\tremaining: 1m 36s\n",
      "342:\tlearn: 0.2501823\ttotal: 3m 30s\tremaining: 1m 36s\n",
      "343:\tlearn: 0.2501711\ttotal: 3m 31s\tremaining: 1m 35s\n",
      "344:\tlearn: 0.2501561\ttotal: 3m 31s\tremaining: 1m 35s\n",
      "345:\tlearn: 0.2501350\ttotal: 3m 32s\tremaining: 1m 34s\n",
      "346:\tlearn: 0.2501159\ttotal: 3m 32s\tremaining: 1m 33s\n",
      "347:\tlearn: 0.2501028\ttotal: 3m 33s\tremaining: 1m 33s\n",
      "348:\tlearn: 0.2500877\ttotal: 3m 33s\tremaining: 1m 32s\n",
      "349:\tlearn: 0.2500769\ttotal: 3m 34s\tremaining: 1m 31s\n",
      "350:\tlearn: 0.2500623\ttotal: 3m 35s\tremaining: 1m 31s\n",
      "351:\tlearn: 0.2500398\ttotal: 3m 35s\tremaining: 1m 30s\n",
      "352:\tlearn: 0.2500281\ttotal: 3m 36s\tremaining: 1m 30s\n",
      "353:\tlearn: 0.2500163\ttotal: 3m 36s\tremaining: 1m 29s\n",
      "354:\tlearn: 0.2500073\ttotal: 3m 37s\tremaining: 1m 28s\n",
      "355:\tlearn: 0.2499908\ttotal: 3m 37s\tremaining: 1m 28s\n",
      "356:\tlearn: 0.2499759\ttotal: 3m 38s\tremaining: 1m 27s\n",
      "357:\tlearn: 0.2499525\ttotal: 3m 39s\tremaining: 1m 26s\n",
      "358:\tlearn: 0.2499426\ttotal: 3m 39s\tremaining: 1m 26s\n",
      "359:\tlearn: 0.2499244\ttotal: 3m 40s\tremaining: 1m 25s\n",
      "360:\tlearn: 0.2499124\ttotal: 3m 40s\tremaining: 1m 24s\n",
      "361:\tlearn: 0.2498964\ttotal: 3m 41s\tremaining: 1m 24s\n",
      "362:\tlearn: 0.2498760\ttotal: 3m 41s\tremaining: 1m 23s\n",
      "363:\tlearn: 0.2498698\ttotal: 3m 42s\tremaining: 1m 23s\n",
      "364:\tlearn: 0.2498578\ttotal: 3m 43s\tremaining: 1m 22s\n",
      "365:\tlearn: 0.2498404\ttotal: 3m 43s\tremaining: 1m 21s\n",
      "366:\tlearn: 0.2498277\ttotal: 3m 44s\tremaining: 1m 21s\n",
      "367:\tlearn: 0.2498131\ttotal: 3m 44s\tremaining: 1m 20s\n",
      "368:\tlearn: 0.2498050\ttotal: 3m 45s\tremaining: 1m 20s\n",
      "369:\tlearn: 0.2497921\ttotal: 3m 46s\tremaining: 1m 19s\n",
      "370:\tlearn: 0.2497647\ttotal: 3m 46s\tremaining: 1m 18s\n",
      "371:\tlearn: 0.2497531\ttotal: 3m 47s\tremaining: 1m 18s\n",
      "372:\tlearn: 0.2497227\ttotal: 3m 47s\tremaining: 1m 17s\n",
      "373:\tlearn: 0.2497048\ttotal: 3m 48s\tremaining: 1m 16s\n",
      "374:\tlearn: 0.2496921\ttotal: 3m 48s\tremaining: 1m 16s\n",
      "375:\tlearn: 0.2496700\ttotal: 3m 49s\tremaining: 1m 15s\n",
      "376:\tlearn: 0.2496572\ttotal: 3m 50s\tremaining: 1m 15s\n",
      "377:\tlearn: 0.2496419\ttotal: 3m 50s\tremaining: 1m 14s\n",
      "378:\tlearn: 0.2496298\ttotal: 3m 51s\tremaining: 1m 13s\n",
      "379:\tlearn: 0.2496127\ttotal: 3m 51s\tremaining: 1m 13s\n",
      "380:\tlearn: 0.2496029\ttotal: 3m 52s\tremaining: 1m 12s\n",
      "381:\tlearn: 0.2495815\ttotal: 3m 53s\tremaining: 1m 11s\n",
      "382:\tlearn: 0.2495565\ttotal: 3m 53s\tremaining: 1m 11s\n",
      "383:\tlearn: 0.2495399\ttotal: 3m 54s\tremaining: 1m 10s\n",
      "384:\tlearn: 0.2495307\ttotal: 3m 54s\tremaining: 1m 10s\n",
      "385:\tlearn: 0.2495177\ttotal: 3m 55s\tremaining: 1m 9s\n",
      "386:\tlearn: 0.2494944\ttotal: 3m 55s\tremaining: 1m 8s\n",
      "387:\tlearn: 0.2494763\ttotal: 3m 56s\tremaining: 1m 8s\n",
      "388:\tlearn: 0.2494646\ttotal: 3m 57s\tremaining: 1m 7s\n",
      "389:\tlearn: 0.2494511\ttotal: 3m 57s\tremaining: 1m 7s\n",
      "390:\tlearn: 0.2494407\ttotal: 3m 58s\tremaining: 1m 6s\n",
      "391:\tlearn: 0.2494309\ttotal: 3m 58s\tremaining: 1m 5s\n",
      "392:\tlearn: 0.2494078\ttotal: 3m 59s\tremaining: 1m 5s\n",
      "393:\tlearn: 0.2493822\ttotal: 3m 59s\tremaining: 1m 4s\n",
      "394:\tlearn: 0.2493618\ttotal: 4m\tremaining: 1m 3s\n",
      "395:\tlearn: 0.2493559\ttotal: 4m 1s\tremaining: 1m 3s\n",
      "396:\tlearn: 0.2493409\ttotal: 4m 1s\tremaining: 1m 2s\n",
      "397:\tlearn: 0.2493243\ttotal: 4m 2s\tremaining: 1m 2s\n",
      "398:\tlearn: 0.2493009\ttotal: 4m 3s\tremaining: 1m 1s\n",
      "399:\tlearn: 0.2492805\ttotal: 4m 3s\tremaining: 1m\n",
      "400:\tlearn: 0.2492625\ttotal: 4m 4s\tremaining: 1m\n",
      "401:\tlearn: 0.2492478\ttotal: 4m 4s\tremaining: 59.7s\n",
      "402:\tlearn: 0.2492313\ttotal: 4m 5s\tremaining: 59s\n",
      "403:\tlearn: 0.2492245\ttotal: 4m 5s\tremaining: 58.4s\n",
      "404:\tlearn: 0.2492054\ttotal: 4m 6s\tremaining: 57.8s\n",
      "405:\tlearn: 0.2491944\ttotal: 4m 7s\tremaining: 57.2s\n",
      "406:\tlearn: 0.2491786\ttotal: 4m 7s\tremaining: 56.6s\n",
      "407:\tlearn: 0.2491614\ttotal: 4m 8s\tremaining: 55.9s\n",
      "408:\tlearn: 0.2491480\ttotal: 4m 8s\tremaining: 55.3s\n",
      "409:\tlearn: 0.2491292\ttotal: 4m 9s\tremaining: 54.7s\n",
      "410:\tlearn: 0.2491142\ttotal: 4m 9s\tremaining: 54.1s\n",
      "411:\tlearn: 0.2491059\ttotal: 4m 10s\tremaining: 53.5s\n",
      "412:\tlearn: 0.2490838\ttotal: 4m 11s\tremaining: 52.9s\n",
      "413:\tlearn: 0.2490670\ttotal: 4m 11s\tremaining: 52.3s\n",
      "414:\tlearn: 0.2490548\ttotal: 4m 12s\tremaining: 51.7s\n",
      "415:\tlearn: 0.2490408\ttotal: 4m 12s\tremaining: 51s\n",
      "416:\tlearn: 0.2490230\ttotal: 4m 13s\tremaining: 50.4s\n",
      "417:\tlearn: 0.2490008\ttotal: 4m 13s\tremaining: 49.8s\n",
      "418:\tlearn: 0.2489870\ttotal: 4m 14s\tremaining: 49.2s\n",
      "419:\tlearn: 0.2489772\ttotal: 4m 15s\tremaining: 48.6s\n",
      "420:\tlearn: 0.2489619\ttotal: 4m 15s\tremaining: 48s\n",
      "421:\tlearn: 0.2489484\ttotal: 4m 16s\tremaining: 47.4s\n",
      "422:\tlearn: 0.2489428\ttotal: 4m 16s\tremaining: 46.7s\n",
      "423:\tlearn: 0.2489336\ttotal: 4m 17s\tremaining: 46.1s\n",
      "424:\tlearn: 0.2489109\ttotal: 4m 17s\tremaining: 45.5s\n",
      "425:\tlearn: 0.2488963\ttotal: 4m 18s\tremaining: 44.9s\n",
      "426:\tlearn: 0.2488833\ttotal: 4m 19s\tremaining: 44.3s\n",
      "427:\tlearn: 0.2488700\ttotal: 4m 19s\tremaining: 43.7s\n",
      "428:\tlearn: 0.2488455\ttotal: 4m 20s\tremaining: 43.1s\n",
      "429:\tlearn: 0.2488323\ttotal: 4m 20s\tremaining: 42.4s\n",
      "430:\tlearn: 0.2488131\ttotal: 4m 21s\tremaining: 41.8s\n",
      "431:\tlearn: 0.2487977\ttotal: 4m 22s\tremaining: 41.2s\n",
      "432:\tlearn: 0.2487791\ttotal: 4m 22s\tremaining: 40.6s\n",
      "433:\tlearn: 0.2487620\ttotal: 4m 23s\tremaining: 40s\n",
      "434:\tlearn: 0.2487484\ttotal: 4m 24s\tremaining: 39.5s\n",
      "435:\tlearn: 0.2487358\ttotal: 4m 24s\tremaining: 38.9s\n",
      "436:\tlearn: 0.2487100\ttotal: 4m 25s\tremaining: 38.3s\n",
      "437:\tlearn: 0.2486964\ttotal: 4m 26s\tremaining: 37.7s\n",
      "438:\tlearn: 0.2486856\ttotal: 4m 26s\tremaining: 37.1s\n",
      "439:\tlearn: 0.2486797\ttotal: 4m 27s\tremaining: 36.5s\n",
      "440:\tlearn: 0.2486696\ttotal: 4m 28s\tremaining: 35.9s\n",
      "441:\tlearn: 0.2486407\ttotal: 4m 28s\tremaining: 35.3s\n",
      "442:\tlearn: 0.2486269\ttotal: 4m 29s\tremaining: 34.7s\n",
      "443:\tlearn: 0.2486121\ttotal: 4m 30s\tremaining: 34.1s\n",
      "444:\tlearn: 0.2485813\ttotal: 4m 30s\tremaining: 33.5s\n",
      "445:\tlearn: 0.2485679\ttotal: 4m 31s\tremaining: 32.8s\n",
      "446:\tlearn: 0.2485612\ttotal: 4m 31s\tremaining: 32.2s\n",
      "447:\tlearn: 0.2485489\ttotal: 4m 32s\tremaining: 31.7s\n",
      "448:\tlearn: 0.2485178\ttotal: 4m 33s\tremaining: 31.1s\n",
      "449:\tlearn: 0.2484974\ttotal: 4m 34s\tremaining: 30.5s\n",
      "450:\tlearn: 0.2484772\ttotal: 4m 35s\tremaining: 29.9s\n",
      "451:\tlearn: 0.2484591\ttotal: 4m 36s\tremaining: 29.3s\n",
      "452:\tlearn: 0.2484379\ttotal: 4m 36s\tremaining: 28.7s\n",
      "453:\tlearn: 0.2484152\ttotal: 4m 37s\tremaining: 28.1s\n",
      "454:\tlearn: 0.2484036\ttotal: 4m 38s\tremaining: 27.5s\n",
      "455:\tlearn: 0.2483810\ttotal: 4m 39s\tremaining: 26.9s\n",
      "456:\tlearn: 0.2483584\ttotal: 4m 39s\tremaining: 26.3s\n",
      "457:\tlearn: 0.2483356\ttotal: 4m 40s\tremaining: 25.7s\n",
      "458:\tlearn: 0.2483215\ttotal: 4m 41s\tremaining: 25.1s\n",
      "459:\tlearn: 0.2483075\ttotal: 4m 41s\tremaining: 24.5s\n",
      "460:\tlearn: 0.2482965\ttotal: 4m 42s\tremaining: 23.9s\n",
      "461:\tlearn: 0.2482825\ttotal: 4m 42s\tremaining: 23.3s\n",
      "462:\tlearn: 0.2482735\ttotal: 4m 43s\tremaining: 22.7s\n",
      "463:\tlearn: 0.2482514\ttotal: 4m 44s\tremaining: 22.1s\n",
      "464:\tlearn: 0.2482362\ttotal: 4m 44s\tremaining: 21.4s\n",
      "465:\tlearn: 0.2482120\ttotal: 4m 45s\tremaining: 20.8s\n",
      "466:\tlearn: 0.2481949\ttotal: 4m 46s\tremaining: 20.2s\n",
      "467:\tlearn: 0.2481778\ttotal: 4m 46s\tremaining: 19.6s\n",
      "468:\tlearn: 0.2481655\ttotal: 4m 47s\tremaining: 19s\n",
      "469:\tlearn: 0.2481478\ttotal: 4m 48s\tremaining: 18.4s\n",
      "470:\tlearn: 0.2481329\ttotal: 4m 48s\tremaining: 17.8s\n",
      "471:\tlearn: 0.2481089\ttotal: 4m 49s\tremaining: 17.2s\n",
      "472:\tlearn: 0.2481000\ttotal: 4m 49s\tremaining: 16.5s\n",
      "473:\tlearn: 0.2480911\ttotal: 4m 50s\tremaining: 15.9s\n",
      "474:\tlearn: 0.2480641\ttotal: 4m 51s\tremaining: 15.3s\n",
      "475:\tlearn: 0.2480442\ttotal: 4m 52s\tremaining: 14.7s\n",
      "476:\tlearn: 0.2480357\ttotal: 4m 52s\tremaining: 14.1s\n",
      "477:\tlearn: 0.2480175\ttotal: 4m 53s\tremaining: 13.5s\n",
      "478:\tlearn: 0.2480004\ttotal: 4m 53s\tremaining: 12.9s\n",
      "479:\tlearn: 0.2479855\ttotal: 4m 54s\tremaining: 12.3s\n",
      "480:\tlearn: 0.2479770\ttotal: 4m 55s\tremaining: 11.7s\n",
      "481:\tlearn: 0.2479532\ttotal: 4m 55s\tremaining: 11.1s\n",
      "482:\tlearn: 0.2479349\ttotal: 4m 56s\tremaining: 10.4s\n",
      "483:\tlearn: 0.2479262\ttotal: 4m 57s\tremaining: 9.82s\n",
      "484:\tlearn: 0.2479172\ttotal: 4m 57s\tremaining: 9.21s\n",
      "485:\tlearn: 0.2478987\ttotal: 4m 58s\tremaining: 8.6s\n",
      "486:\tlearn: 0.2478860\ttotal: 4m 59s\tremaining: 7.98s\n",
      "487:\tlearn: 0.2478691\ttotal: 4m 59s\tremaining: 7.37s\n",
      "488:\tlearn: 0.2478533\ttotal: 5m\tremaining: 6.76s\n",
      "489:\tlearn: 0.2478435\ttotal: 5m\tremaining: 6.14s\n",
      "490:\tlearn: 0.2478135\ttotal: 5m 1s\tremaining: 5.53s\n",
      "491:\tlearn: 0.2477915\ttotal: 5m 2s\tremaining: 4.91s\n",
      "492:\tlearn: 0.2477762\ttotal: 5m 2s\tremaining: 4.3s\n",
      "493:\tlearn: 0.2477644\ttotal: 5m 3s\tremaining: 3.69s\n",
      "494:\tlearn: 0.2477515\ttotal: 5m 4s\tremaining: 3.07s\n",
      "495:\tlearn: 0.2477384\ttotal: 5m 5s\tremaining: 2.46s\n",
      "496:\tlearn: 0.2477231\ttotal: 5m 5s\tremaining: 1.84s\n",
      "497:\tlearn: 0.2477129\ttotal: 5m 6s\tremaining: 1.23s\n",
      "498:\tlearn: 0.2477027\ttotal: 5m 7s\tremaining: 615ms\n",
      "499:\tlearn: 0.2476906\ttotal: 5m 7s\tremaining: 0us\n"
     ]
    },
    {
     "data": {
      "text/plain": [
       "<catboost.core._CatBoostBase at 0x10ce68710>"
      ]
     },
     "execution_count": 38,
     "metadata": {},
     "output_type": "execute_result"
    }
   ],
   "source": [
    "cat_model.fit(X, y)"
   ]
  },
  {
   "cell_type": "code",
   "execution_count": 39,
   "metadata": {},
   "outputs": [],
   "source": [
    "test_y_cat = pd.DataFrame(cat_model.predict_proba(merged_test_data))\n",
    "submission_cat = pd.concat([test.SK_ID_CURR, test_y_cat], axis=1).drop(0, axis = 1)\n",
    "submission_cat.columns = ['SK_ID_CURR', 'Target']\n",
    "submission_cat.to_csv('submission_new_cat500.csv', index = False)"
   ]
  },
  {
   "cell_type": "code",
   "execution_count": null,
   "metadata": {},
   "outputs": [],
   "source": [
    "submission_cat"
   ]
  },
  {
   "cell_type": "code",
   "execution_count": null,
   "metadata": {},
   "outputs": [],
   "source": [
    "train_subset = train[['SK_ID_CURR', 'TARGET', 'AMT_INCOME_TOTAL', 'AMT_CREDIT', 'AMT_ANNUITY']]"
   ]
  },
  {
   "cell_type": "code",
   "execution_count": null,
   "metadata": {},
   "outputs": [],
   "source": [
    "annuity_avg = np.mean(train_subset.AMT_ANNUITY)"
   ]
  },
  {
   "cell_type": "code",
   "execution_count": null,
   "metadata": {},
   "outputs": [],
   "source": [
    "train_subset.AMT_ANNUITY = train_subset.AMT_ANNUITY.fillna(annuity_avg)"
   ]
  },
  {
   "cell_type": "code",
   "execution_count": null,
   "metadata": {},
   "outputs": [],
   "source": [
    "X, y = train_subset.drop(['SK_ID_CURR','TARGET'], axis = 1), train_subset.TARGET"
   ]
  },
  {
   "cell_type": "code",
   "execution_count": null,
   "metadata": {},
   "outputs": [],
   "source": [
    "model = RandomForestClassifier()"
   ]
  },
  {
   "cell_type": "code",
   "execution_count": null,
   "metadata": {},
   "outputs": [],
   "source": [
    "model"
   ]
  },
  {
   "cell_type": "code",
   "execution_count": null,
   "metadata": {},
   "outputs": [],
   "source": [
    "model.fit(X, y)"
   ]
  },
  {
   "cell_type": "code",
   "execution_count": null,
   "metadata": {},
   "outputs": [],
   "source": [
    "test_subset = test[['SK_ID_CURR', 'AMT_INCOME_TOTAL', 'AMT_CREDIT', 'AMT_ANNUITY']]"
   ]
  },
  {
   "cell_type": "code",
   "execution_count": null,
   "metadata": {},
   "outputs": [],
   "source": [
    "test_subset.AMT_ANNUITY = test_subset.AMT_ANNUITY.fillna(np.mean(test_subset.AMT_ANNUITY))"
   ]
  },
  {
   "cell_type": "code",
   "execution_count": null,
   "metadata": {},
   "outputs": [],
   "source": [
    "test_X = test_subset.drop('SK_ID_CURR', axis = 1)"
   ]
  },
  {
   "cell_type": "code",
   "execution_count": null,
   "metadata": {},
   "outputs": [],
   "source": [
    "test_y = pd.DataFrame(model.predict_proba(test_X))"
   ]
  },
  {
   "cell_type": "code",
   "execution_count": null,
   "metadata": {},
   "outputs": [],
   "source": [
    "submission_df = pd.concat([test.SK_ID_CURR, test_y], axis=1).drop(0, axis = 1)"
   ]
  },
  {
   "cell_type": "code",
   "execution_count": null,
   "metadata": {},
   "outputs": [],
   "source": [
    "submission_df.columns = ['SK_ID_CURR', 'Target']"
   ]
  },
  {
   "cell_type": "code",
   "execution_count": null,
   "metadata": {},
   "outputs": [],
   "source": [
    "#submission_df.to_csv('first_submission.csv', index = False)"
   ]
  },
  {
   "cell_type": "code",
   "execution_count": null,
   "metadata": {},
   "outputs": [],
   "source": [
    "############################## All Numeric Non-Null Columns"
   ]
  },
  {
   "cell_type": "code",
   "execution_count": null,
   "metadata": {},
   "outputs": [],
   "source": [
    "numeric_train = train.select_dtypes(exclude='object')"
   ]
  },
  {
   "cell_type": "code",
   "execution_count": null,
   "metadata": {},
   "outputs": [],
   "source": [
    "numeric_train_subset = numeric_train.dropna(axis = 1)"
   ]
  },
  {
   "cell_type": "code",
   "execution_count": null,
   "metadata": {},
   "outputs": [],
   "source": [
    "X, y = numeric_train_subset.drop(['SK_ID_CURR','TARGET'], axis = 1), numeric_train_subset.TARGET"
   ]
  },
  {
   "cell_type": "code",
   "execution_count": null,
   "metadata": {},
   "outputs": [],
   "source": [
    "model.fit(X, y)"
   ]
  },
  {
   "cell_type": "code",
   "execution_count": null,
   "metadata": {},
   "outputs": [],
   "source": [
    "test_X2 = test[X.columns]"
   ]
  },
  {
   "cell_type": "code",
   "execution_count": null,
   "metadata": {},
   "outputs": [],
   "source": [
    "test_y2 = pd.DataFrame(model.predict_proba(test_X2))"
   ]
  },
  {
   "cell_type": "code",
   "execution_count": null,
   "metadata": {},
   "outputs": [],
   "source": [
    "submission_df2 = pd.concat([test.SK_ID_CURR, test_y2], axis=1).drop(0, axis = 1)"
   ]
  },
  {
   "cell_type": "code",
   "execution_count": null,
   "metadata": {},
   "outputs": [],
   "source": [
    "submission_df2.columns = ['SK_ID_CURR', 'Target']"
   ]
  },
  {
   "cell_type": "code",
   "execution_count": null,
   "metadata": {},
   "outputs": [],
   "source": [
    "#submission_df2.to_csv('2nd_submission.csv', index = False)"
   ]
  },
  {
   "cell_type": "code",
   "execution_count": null,
   "metadata": {},
   "outputs": [],
   "source": [
    "##### catboost"
   ]
  },
  {
   "cell_type": "code",
   "execution_count": null,
   "metadata": {},
   "outputs": [],
   "source": [
    "from catboost import CatBoostClassifier"
   ]
  },
  {
   "cell_type": "code",
   "execution_count": null,
   "metadata": {},
   "outputs": [],
   "source": [
    "cat_model = CatBoostClassifier(iterations=10,\n",
    "    learning_rate=0.1)"
   ]
  },
  {
   "cell_type": "code",
   "execution_count": null,
   "metadata": {},
   "outputs": [],
   "source": [
    "cat_model.fit(X, y)"
   ]
  },
  {
   "cell_type": "code",
   "execution_count": null,
   "metadata": {},
   "outputs": [],
   "source": [
    "test_y_cat = pd.DataFrame(cat_model.predict_proba(test_X2))\n",
    "submission_cat = pd.concat([test.SK_ID_CURR, test_y_cat], axis=1).drop(0, axis = 1)\n",
    "submission_cat.columns = ['SK_ID_CURR', 'Target']\n",
    "#submission_cat.to_csv('submission_cat.csv', index = False)"
   ]
  },
  {
   "cell_type": "code",
   "execution_count": null,
   "metadata": {},
   "outputs": [],
   "source": [
    "##### EDA"
   ]
  },
  {
   "cell_type": "code",
   "execution_count": null,
   "metadata": {},
   "outputs": [],
   "source": [
    "import matplotlib.pyplot as plt"
   ]
  },
  {
   "cell_type": "code",
   "execution_count": null,
   "metadata": {},
   "outputs": [],
   "source": [
    "train_subset = train_subset.loc[train_subset.AMT_INCOME_TOTAL <= 100000000]"
   ]
  },
  {
   "cell_type": "code",
   "execution_count": null,
   "metadata": {},
   "outputs": [],
   "source": [
    "numeric_train.groupby('TARGET').median()"
   ]
  },
  {
   "cell_type": "code",
   "execution_count": null,
   "metadata": {},
   "outputs": [],
   "source": [
    "numeric_train.FLAG_DOCUMENT_4.value_counts()"
   ]
  },
  {
   "cell_type": "code",
   "execution_count": null,
   "metadata": {},
   "outputs": [],
   "source": [
    "from sklearn.metrics import confusion_matrix"
   ]
  },
  {
   "cell_type": "code",
   "execution_count": null,
   "metadata": {},
   "outputs": [],
   "source": [
    "confusion_matrix(numeric_train.FLAG_DOCUMENT_4, numeric_train.TARGET)"
   ]
  },
  {
   "cell_type": "code",
   "execution_count": null,
   "metadata": {},
   "outputs": [],
   "source": [
    "numeric_train.FLAG_DOCUMENT_4.value_counts()"
   ]
  },
  {
   "cell_type": "code",
   "execution_count": null,
   "metadata": {},
   "outputs": [],
   "source": [
    "numeric_train.TARGET.value_counts()"
   ]
  },
  {
   "cell_type": "code",
   "execution_count": null,
   "metadata": {},
   "outputs": [],
   "source": [
    "##### Exploring Bureau Data"
   ]
  },
  {
   "cell_type": "code",
   "execution_count": null,
   "metadata": {},
   "outputs": [],
   "source": []
  },
  {
   "cell_type": "code",
   "execution_count": null,
   "metadata": {},
   "outputs": [],
   "source": [
    "merged_data = merged_data[['SK_ID_CURR','TARGET','NAME_CONTRACT_TYPE','CODE_GENDER','FLAG_OWN_CAR','FLAG_OWN_REALTY','CNT_CHILDREN','AMT_INCOME_TOTAL','AMT_CREDIT','AMT_ANNUITY','AMT_GOODS_PRICE','NAME_TYPE_SUITE',\\\n",
    "            'NAME_INCOME_TYPE','NAME_EDUCATION_TYPE','NAME_FAMILY_STATUS','NAME_HOUSING_TYPE','REGION_POPULATION_RELATIVE','DAYS_BIRTH','DAYS_EMPLOYED','DAYS_REGISTRATION','DAYS_ID_PUBLISH',\\\n",
    "            'OWN_CAR_AGE','FLAG_MOBIL','FLAG_EMP_PHONE','FLAG_WORK_PHONE','FLAG_CONT_MOBILE','FLAG_PHONE','FLAG_EMAIL','CNT_FAM_MEMBERS','REGION_RATING_CLIENT','REGION_RATING_CLIENT_W_CITY',\\\n",
    "            'WEEKDAY_APPR_PROCESS_START','EMERGENCYSTATE_MODE','FLAG_DOCUMENT_2','FLAG_DOCUMENT_3','FLAG_DOCUMENT_4','FLAG_DOCUMENT_5','FLAG_DOCUMENT_6','FLAG_DOCUMENT_7','FLAG_DOCUMENT_8',\\\n",
    "            'FLAG_DOCUMENT_9','FLAG_DOCUMENT_10','FLAG_DOCUMENT_11','FLAG_DOCUMENT_12','FLAG_DOCUMENT_13','FLAG_DOCUMENT_14','FLAG_DOCUMENT_15','FLAG_DOCUMENT_16','FLAG_DOCUMENT_17','FLAG_DOCUMENT_18',\\\n",
    "            'FLAG_DOCUMENT_21','FLAG_DOCUMENT_20','FLAG_DOCUMENT_21','AMT_CREDIT_MAX_OVERDUE','AMT_CREDIT_SUM_OVERDUE']]\n"
   ]
  },
  {
   "cell_type": "code",
   "execution_count": null,
   "metadata": {},
   "outputs": [],
   "source": [
    "len(merged_data.columns)"
   ]
  },
  {
   "cell_type": "code",
   "execution_count": null,
   "metadata": {},
   "outputs": [],
   "source": [
    "merged_data_dummies = pd.get_dummies(merged_data)"
   ]
  },
  {
   "cell_type": "code",
   "execution_count": null,
   "metadata": {},
   "outputs": [],
   "source": [
    "def fill_missing_avg(df, col):\n",
    "    df[col] = df[col].fillna(np.mean(df[col]))"
   ]
  },
  {
   "cell_type": "code",
   "execution_count": null,
   "metadata": {},
   "outputs": [],
   "source": [
    "fill_missing_avg(merged_data_dummies, 'AMT_ANNUITY')\n",
    "fill_missing_avg(merged_data_dummies, 'AMT_GOODS_PRICE')\n",
    "fill_missing_avg(merged_data_dummies, 'OWN_CAR_AGE')\n",
    "fill_missing_avg(merged_data_dummies, 'CNT_FAM_MEMBERS')\n",
    "fill_missing_avg(merged_data_dummies, 'AMT_CREDIT_MAX_OVERDUE')\n",
    "fill_missing_avg(merged_data_dummies, 'AMT_CREDIT_MAX_OVERDUE')\n",
    "fill_missing_avg(merged_data_dummies, 'AMT_CREDIT_SUM_OVERDUE')"
   ]
  },
  {
   "cell_type": "code",
   "execution_count": null,
   "metadata": {},
   "outputs": [],
   "source": [
    "X, y = merged_data_dummies.drop(['SK_ID_CURR','TARGET','CODE_GENDER_XNA','NAME_FAMILY_STATUS_Unknown', 'NAME_INCOME_TYPE_Maternity leave'], axis = 1), merged_data_dummies.TARGET"
   ]
  },
  {
   "cell_type": "code",
   "execution_count": null,
   "metadata": {},
   "outputs": [],
   "source": [
    "cat_model.fit(X, y)"
   ]
  },
  {
   "cell_type": "code",
   "execution_count": null,
   "metadata": {},
   "outputs": [],
   "source": [
    "merged_test = test.merge(bureau_data_grouped, how = 'left', left_on = 'SK_ID_CURR', right_on = 'SK_ID_CURR')"
   ]
  },
  {
   "cell_type": "code",
   "execution_count": null,
   "metadata": {},
   "outputs": [],
   "source": [
    "merged_test = merged_test[['SK_ID_CURR','NAME_CONTRACT_TYPE','CODE_GENDER','FLAG_OWN_CAR','FLAG_OWN_REALTY','CNT_CHILDREN','AMT_INCOME_TOTAL','AMT_CREDIT','AMT_ANNUITY','AMT_GOODS_PRICE','NAME_TYPE_SUITE',\\\n",
    "            'NAME_INCOME_TYPE','NAME_EDUCATION_TYPE','NAME_FAMILY_STATUS','NAME_HOUSING_TYPE','REGION_POPULATION_RELATIVE','DAYS_BIRTH','DAYS_EMPLOYED','DAYS_REGISTRATION','DAYS_ID_PUBLISH',\\\n",
    "            'OWN_CAR_AGE','FLAG_MOBIL','FLAG_EMP_PHONE','FLAG_WORK_PHONE','FLAG_CONT_MOBILE','FLAG_PHONE','FLAG_EMAIL','CNT_FAM_MEMBERS','REGION_RATING_CLIENT','REGION_RATING_CLIENT_W_CITY',\\\n",
    "            'WEEKDAY_APPR_PROCESS_START','EMERGENCYSTATE_MODE','FLAG_DOCUMENT_2','FLAG_DOCUMENT_3','FLAG_DOCUMENT_4','FLAG_DOCUMENT_5','FLAG_DOCUMENT_6','FLAG_DOCUMENT_7','FLAG_DOCUMENT_8',\\\n",
    "            'FLAG_DOCUMENT_9','FLAG_DOCUMENT_10','FLAG_DOCUMENT_11','FLAG_DOCUMENT_12','FLAG_DOCUMENT_13','FLAG_DOCUMENT_14','FLAG_DOCUMENT_15','FLAG_DOCUMENT_16','FLAG_DOCUMENT_17','FLAG_DOCUMENT_18',\\\n",
    "            'FLAG_DOCUMENT_21','FLAG_DOCUMENT_20','FLAG_DOCUMENT_21','AMT_CREDIT_MAX_OVERDUE','AMT_CREDIT_SUM_OVERDUE']]"
   ]
  },
  {
   "cell_type": "code",
   "execution_count": null,
   "metadata": {},
   "outputs": [],
   "source": [
    "merged_test_dummies = pd.get_dummies(merged_test)"
   ]
  },
  {
   "cell_type": "code",
   "execution_count": null,
   "metadata": {},
   "outputs": [],
   "source": [
    "fill_missing_avg(merged_test_dummies, 'AMT_ANNUITY')\n",
    "fill_missing_avg(merged_test_dummies, 'OWN_CAR_AGE')\n",
    "fill_missing_avg(merged_test_dummies, 'AMT_CREDIT_MAX_OVERDUE')\n",
    "fill_missing_avg(merged_test_dummies, 'AMT_CREDIT_SUM_OVERDUE')"
   ]
  },
  {
   "cell_type": "code",
   "execution_count": null,
   "metadata": {},
   "outputs": [],
   "source": [
    "IDs = merged_test_dummies['SK_ID_CURR']"
   ]
  },
  {
   "cell_type": "code",
   "execution_count": null,
   "metadata": {},
   "outputs": [],
   "source": [
    "merged_test_dummies = merged_test_dummies.drop('SK_ID_CURR', axis = 1)"
   ]
  },
  {
   "cell_type": "code",
   "execution_count": null,
   "metadata": {},
   "outputs": [],
   "source": [
    "test_y_cat = pd.DataFrame(cat_model.predict_proba(merged_test_dummies))\n",
    "submission_cat = pd.concat([IDs, test_y_cat], axis=1).drop(0, axis = 1)\n",
    "submission_cat.columns = ['SK_ID_CURR', 'Target']\n",
    "submission_cat.to_csv('submission_cat2.csv', index = False)"
   ]
  },
  {
   "cell_type": "code",
   "execution_count": null,
   "metadata": {},
   "outputs": [],
   "source": [
    "##### Naive Bayes"
   ]
  },
  {
   "cell_type": "code",
   "execution_count": null,
   "metadata": {},
   "outputs": [],
   "source": [
    "from sklearn.naive_bayes import BernoulliNB"
   ]
  },
  {
   "cell_type": "code",
   "execution_count": null,
   "metadata": {},
   "outputs": [],
   "source": [
    "nb_model = BernoulliNB()"
   ]
  },
  {
   "cell_type": "code",
   "execution_count": null,
   "metadata": {},
   "outputs": [],
   "source": [
    "merged_data_dummies['DAYS_BIRTH'] = merged_data_dummies['DAYS_BIRTH'] * -1"
   ]
  },
  {
   "cell_type": "code",
   "execution_count": null,
   "metadata": {},
   "outputs": [],
   "source": [
    "merged_data_dummies['DAYS_REGISTRATION'] = merged_data_dummies['DAYS_REGISTRATION'].apply(lambda x: x * -1 if x < 0 else x)\n",
    "merged_data_dummies['DAYS_EMPLOYED'] = merged_data_dummies['DAYS_EMPLOYED'].apply(lambda x: x * -1 if x < 0 else x)\n",
    "merged_data_dummies['DAYS_ID_PUBLISH'] = merged_data_dummies['DAYS_ID_PUBLISH'].apply(lambda x: x * -1 if x < 0 else x)"
   ]
  },
  {
   "cell_type": "code",
   "execution_count": null,
   "metadata": {},
   "outputs": [],
   "source": [
    "X, y = merged_data_dummies.drop(['SK_ID_CURR','TARGET','CODE_GENDER_XNA','NAME_FAMILY_STATUS_Unknown', 'NAME_INCOME_TYPE_Maternity leave'], axis = 1), merged_data_dummies.TARGET"
   ]
  },
  {
   "cell_type": "code",
   "execution_count": null,
   "metadata": {},
   "outputs": [],
   "source": [
    "nb_model.fit(X, y)"
   ]
  },
  {
   "cell_type": "code",
   "execution_count": null,
   "metadata": {},
   "outputs": [],
   "source": [
    "merged_test_dummies['DAYS_BIRTH'] = merged_test_dummies['DAYS_BIRTH'].apply(lambda x: x * -1 if x < 0 else x)\n",
    "merged_test_dummies['DAYS_REGISTRATION'] = merged_test_dummies['DAYS_REGISTRATION'].apply(lambda x: x * -1 if x < 0 else x)\n",
    "merged_test_dummies['DAYS_EMPLOYED'] = merged_test_dummies['DAYS_EMPLOYED'].apply(lambda x: x * -1 if x < 0 else x)\n",
    "merged_test_dummies['DAYS_ID_PUBLISH'] = merged_test_dummies['DAYS_ID_PUBLISH'].apply(lambda x: x * -1 if x < 0 else x)\n",
    "merged_test_dummies['REGION_RATING_CLIENT_W_CITY'] = merged_test_dummies['REGION_RATING_CLIENT_W_CITY'].apply(lambda x: x * -1 if x < 0 else x)"
   ]
  },
  {
   "cell_type": "code",
   "execution_count": null,
   "metadata": {},
   "outputs": [],
   "source": [
    "test_y_nb = pd.DataFrame(nb_model.predict_proba(merged_test_dummies))\n",
    "submission_nb = pd.concat([IDs, test_y_nb], axis=1).drop(0, axis = 1)\n",
    "submission_nb.columns = ['SK_ID_CURR', 'Target']\n",
    "submission_nb.to_csv('submission_nb1.csv', index = False)"
   ]
  },
  {
   "cell_type": "code",
   "execution_count": null,
   "metadata": {},
   "outputs": [],
   "source": [
    "### Random Forest Classifier"
   ]
  },
  {
   "cell_type": "code",
   "execution_count": null,
   "metadata": {},
   "outputs": [],
   "source": [
    "from sklearn.ensemble import RandomForestClassifier"
   ]
  },
  {
   "cell_type": "code",
   "execution_count": null,
   "metadata": {},
   "outputs": [],
   "source": [
    "rf_model = RandomForestClassifier(n_estimators =25, \n",
    "                                       random_state = 1, \n",
    "                                       criterion='gini')"
   ]
  },
  {
   "cell_type": "code",
   "execution_count": null,
   "metadata": {},
   "outputs": [],
   "source": [
    "rf_model.fit(X, y)"
   ]
  },
  {
   "cell_type": "code",
   "execution_count": null,
   "metadata": {},
   "outputs": [],
   "source": [
    "new_test_dummies = new_test_dummies.drop('SK_ID_CURR', axis = 1)"
   ]
  },
  {
   "cell_type": "code",
   "execution_count": null,
   "metadata": {},
   "outputs": [],
   "source": [
    "test_y_rf = pd.DataFrame(rf_model.predict_proba(new_test_dummies))"
   ]
  },
  {
   "cell_type": "code",
   "execution_count": null,
   "metadata": {},
   "outputs": [],
   "source": [
    "new_test_dummies.columns"
   ]
  },
  {
   "cell_type": "code",
   "execution_count": null,
   "metadata": {},
   "outputs": [],
   "source": [
    "[i for i in X.columns if i not in new_test_dummies.columns]"
   ]
  },
  {
   "cell_type": "code",
   "execution_count": null,
   "metadata": {},
   "outputs": [],
   "source": [
    "new_test_dummies."
   ]
  },
  {
   "cell_type": "code",
   "execution_count": null,
   "metadata": {},
   "outputs": [],
   "source": [
    "new_test_dummies.head()"
   ]
  },
  {
   "cell_type": "code",
   "execution_count": null,
   "metadata": {},
   "outputs": [],
   "source": [
    "\n",
    "submission_rf = pd.concat([IDs, test_y_rf], axis=1).drop(0, axis = 1)\n",
    "submission_rf.columns = ['SK_ID_CURR', 'Target']\n",
    "submission_rf.to_csv('submission_rf2.csv', index = False)"
   ]
  },
  {
   "cell_type": "code",
   "execution_count": null,
   "metadata": {},
   "outputs": [],
   "source": [
    "pd.DataFrame(sorted(zip(rf_model.feature_importances_, X.columns), reverse=True), \\\n",
    "             columns = ['Importance','Metric']).head(15)"
   ]
  },
  {
   "cell_type": "code",
   "execution_count": null,
   "metadata": {},
   "outputs": [],
   "source": [
    "train.info()"
   ]
  },
  {
   "cell_type": "code",
   "execution_count": null,
   "metadata": {},
   "outputs": [],
   "source": []
  }
 ],
 "metadata": {
  "kernelspec": {
   "display_name": "Python 2",
   "language": "python",
   "name": "python2"
  },
  "language_info": {
   "codemirror_mode": {
    "name": "ipython",
    "version": 2
   },
   "file_extension": ".py",
   "mimetype": "text/x-python",
   "name": "python",
   "nbconvert_exporter": "python",
   "pygments_lexer": "ipython2",
   "version": "2.7.13"
  }
 },
 "nbformat": 4,
 "nbformat_minor": 2
}
