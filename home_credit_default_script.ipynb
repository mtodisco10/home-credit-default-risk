{
 "cells": [
  {
   "cell_type": "code",
   "execution_count": 3,
   "metadata": {},
   "outputs": [],
   "source": [
    "import pandas as pd\n",
    "import numpy as np\n",
    "import seaborn as sns\n",
    "import matplotlib.pyplot as plt\n",
    "%matplotlib inline\n",
    "from sklearn.ensemble import RandomForestClassifier\n",
    "from sklearn.model_selection import train_test_split\n",
    "from sklearn.preprocessing import StandardScaler\n",
    "from scipy import stats"
   ]
  },
  {
   "cell_type": "code",
   "execution_count": 4,
   "metadata": {},
   "outputs": [],
   "source": [
    "#Read in Data\n",
    "train = pd.read_csv('dataFiles/application_train.csv')\n",
    "test = pd.read_csv('dataFiles/application_test.csv')\n",
    "bureau_data = pd.read_csv('dataFiles/bureau.csv')\n",
    "prev_app_data = pd.read_csv('dataFiles/previous_application.csv')"
   ]
  },
  {
   "cell_type": "code",
   "execution_count": 5,
   "metadata": {},
   "outputs": [],
   "source": [
    "scaler = StandardScaler()"
   ]
  },
  {
   "cell_type": "code",
   "execution_count": 7,
   "metadata": {},
   "outputs": [],
   "source": [
    "train_full_cols = train.dropna(axis=1)"
   ]
  },
  {
   "cell_type": "code",
   "execution_count": 8,
   "metadata": {},
   "outputs": [],
   "source": [
    "train.NAME_TYPE_SUITE = train.NAME_TYPE_SUITE.fillna('Unaccompanied')"
   ]
  },
  {
   "cell_type": "code",
   "execution_count": 9,
   "metadata": {},
   "outputs": [],
   "source": [
    "train['OWN_CAR_AGE'] = train.apply(lambda x: 0 if x['FLAG_OWN_CAR'] == 'N' else x['OWN_CAR_AGE'], axis = 1)\n",
    "train['OWN_CAR_AGE'] = train['OWN_CAR_AGE'].isna().fillna(0)"
   ]
  },
  {
   "cell_type": "code",
   "execution_count": 10,
   "metadata": {},
   "outputs": [],
   "source": [
    "train['CNT_FAM_MEMBERS'] = train['CNT_FAM_MEMBERS'].fillna(stats.mode(train.CNT_FAM_MEMBERS)[0][0])"
   ]
  },
  {
   "cell_type": "code",
   "execution_count": 11,
   "metadata": {},
   "outputs": [],
   "source": [
    "train.EXT_SOURCE_2 = train.EXT_SOURCE_2.fillna(np.mean(train.EXT_SOURCE_2))"
   ]
  },
  {
   "cell_type": "code",
   "execution_count": 12,
   "metadata": {},
   "outputs": [],
   "source": [
    "df_train = train[[i for i in train.columns if (i[-3:] == 'AVG' or i[-4:] == 'MODE' or i[-4:] == 'MEDI')]].select_dtypes(exclude='object').fillna(0)"
   ]
  },
  {
   "cell_type": "code",
   "execution_count": 13,
   "metadata": {},
   "outputs": [],
   "source": [
    "new_train = pd.concat([train_full_cols, train.NAME_TYPE_SUITE, train.CNT_FAM_MEMBERS, train.EXT_SOURCE_2, df_train], axis = 1)"
   ]
  },
  {
   "cell_type": "code",
   "execution_count": 14,
   "metadata": {},
   "outputs": [],
   "source": [
    "###Test"
   ]
  },
  {
   "cell_type": "code",
   "execution_count": 15,
   "metadata": {},
   "outputs": [],
   "source": [
    "test_full_cols = test.dropna(axis=1)"
   ]
  },
  {
   "cell_type": "code",
   "execution_count": 16,
   "metadata": {},
   "outputs": [],
   "source": [
    "test.NAME_TYPE_SUITE = test.NAME_TYPE_SUITE.fillna('Unaccompanied')"
   ]
  },
  {
   "cell_type": "code",
   "execution_count": 17,
   "metadata": {},
   "outputs": [],
   "source": [
    "test['OWN_CAR_AGE'] = test.apply(lambda x: 0 if x['FLAG_OWN_CAR'] == 'N' else x['OWN_CAR_AGE'], axis = 1)\n",
    "test['OWN_CAR_AGE'] = test['OWN_CAR_AGE'].isna().fillna(0)"
   ]
  },
  {
   "cell_type": "code",
   "execution_count": 18,
   "metadata": {},
   "outputs": [],
   "source": [
    "test['CNT_FAM_MEMBERS'] = test['CNT_FAM_MEMBERS'].fillna(stats.mode(test.CNT_FAM_MEMBERS)[0][0])"
   ]
  },
  {
   "cell_type": "code",
   "execution_count": 19,
   "metadata": {},
   "outputs": [],
   "source": [
    "test.EXT_SOURCE_2 = test.EXT_SOURCE_2.fillna(np.mean(test.EXT_SOURCE_2))"
   ]
  },
  {
   "cell_type": "code",
   "execution_count": 20,
   "metadata": {},
   "outputs": [],
   "source": [
    "df_test = test[[i for i in test.columns if (i[-3:] == 'AVG' or i[-4:] == 'MODE' or i[-4:] == 'MEDI')]].select_dtypes(exclude='object').fillna(0)"
   ]
  },
  {
   "cell_type": "code",
   "execution_count": 21,
   "metadata": {},
   "outputs": [],
   "source": [
    "new_test = pd.concat([test_full_cols, test.NAME_TYPE_SUITE, test.EXT_SOURCE_2, df_test], axis = 1)"
   ]
  },
  {
   "cell_type": "code",
   "execution_count": 22,
   "metadata": {},
   "outputs": [],
   "source": [
    "new_test = new_test.drop(['AMT_GOODS_PRICE', 'DAYS_LAST_PHONE_CHANGE'], axis = 1)"
   ]
  },
  {
   "cell_type": "code",
   "execution_count": 23,
   "metadata": {},
   "outputs": [],
   "source": [
    "new_test = new_test[['SK_ID_CURR','NAME_CONTRACT_TYPE','CODE_GENDER','FLAG_OWN_CAR','FLAG_OWN_REALTY','CNT_CHILDREN','AMT_INCOME_TOTAL','AMT_CREDIT','NAME_INCOME_TYPE','NAME_EDUCATION_TYPE','NAME_FAMILY_STATUS','NAME_HOUSING_TYPE','REGION_POPULATION_RELATIVE','DAYS_BIRTH','DAYS_EMPLOYED','DAYS_REGISTRATION','DAYS_ID_PUBLISH','FLAG_MOBIL','FLAG_EMP_PHONE','FLAG_WORK_PHONE','FLAG_CONT_MOBILE','FLAG_PHONE','FLAG_EMAIL','REGION_RATING_CLIENT','REGION_RATING_CLIENT_W_CITY','WEEKDAY_APPR_PROCESS_START','HOUR_APPR_PROCESS_START','REG_REGION_NOT_LIVE_REGION','REG_REGION_NOT_WORK_REGION','LIVE_REGION_NOT_WORK_REGION','REG_CITY_NOT_LIVE_CITY','REG_CITY_NOT_WORK_CITY','LIVE_CITY_NOT_WORK_CITY','ORGANIZATION_TYPE','FLAG_DOCUMENT_2','FLAG_DOCUMENT_3','FLAG_DOCUMENT_4','FLAG_DOCUMENT_5','FLAG_DOCUMENT_6','FLAG_DOCUMENT_7','FLAG_DOCUMENT_8','FLAG_DOCUMENT_9','FLAG_DOCUMENT_10','FLAG_DOCUMENT_11','FLAG_DOCUMENT_12','FLAG_DOCUMENT_13','FLAG_DOCUMENT_14','FLAG_DOCUMENT_15','FLAG_DOCUMENT_16','FLAG_DOCUMENT_17','FLAG_DOCUMENT_18','FLAG_DOCUMENT_19','FLAG_DOCUMENT_20','FLAG_DOCUMENT_21','NAME_TYPE_SUITE','CNT_FAM_MEMBERS','EXT_SOURCE_2','APARTMENTS_AVG','BASEMENTAREA_AVG','YEARS_BEGINEXPLUATATION_AVG','YEARS_BUILD_AVG','COMMONAREA_AVG','ELEVATORS_AVG','ENTRANCES_AVG','FLOORSMAX_AVG','FLOORSMIN_AVG','LANDAREA_AVG','LIVINGAPARTMENTS_AVG','LIVINGAREA_AVG','NONLIVINGAPARTMENTS_AVG','NONLIVINGAREA_AVG','APARTMENTS_MODE','BASEMENTAREA_MODE','YEARS_BEGINEXPLUATATION_MODE','YEARS_BUILD_MODE','COMMONAREA_MODE','ELEVATORS_MODE','ENTRANCES_MODE','FLOORSMAX_MODE','FLOORSMIN_MODE','LANDAREA_MODE','LIVINGAPARTMENTS_MODE','LIVINGAREA_MODE','NONLIVINGAPARTMENTS_MODE','NONLIVINGAREA_MODE','APARTMENTS_MEDI','BASEMENTAREA_MEDI','YEARS_BEGINEXPLUATATION_MEDI','YEARS_BUILD_MEDI','COMMONAREA_MEDI','ELEVATORS_MEDI','ENTRANCES_MEDI','FLOORSMAX_MEDI','FLOORSMIN_MEDI','LANDAREA_MEDI','LIVINGAPARTMENTS_MEDI','LIVINGAREA_MEDI','NONLIVINGAPARTMENTS_MEDI','NONLIVINGAREA_MEDI','TOTALAREA_MODE']]"
   ]
  },
  {
   "cell_type": "code",
   "execution_count": 31,
   "metadata": {},
   "outputs": [],
   "source": [
    "new_train_dummies = pd.get_dummies(new_train)"
   ]
  },
  {
   "cell_type": "code",
   "execution_count": 25,
   "metadata": {},
   "outputs": [],
   "source": [
    "new_test_dummies = pd.get_dummies(new_test)"
   ]
  },
  {
   "cell_type": "code",
   "execution_count": 22,
   "metadata": {},
   "outputs": [],
   "source": [
    "X, y = new_train_dummies.drop(['SK_ID_CURR','TARGET','CODE_GENDER_XNA','NAME_INCOME_TYPE_Maternity leave','NAME_FAMILY_STATUS_Unknown'], axis = 1), new_train.TARGET"
   ]
  },
  {
   "cell_type": "code",
   "execution_count": 23,
   "metadata": {},
   "outputs": [],
   "source": [
    "X.columns = ['CNT_CHILDREN','AMT_INCOME_TOTAL','AMT_CREDIT','REGION_POPULATION_RELATIVE','DAYS_BIRTH','DAYS_EMPLOYED','DAYS_REGISTRATION','DAYS_ID_PUBLISH','FLAG_MOBIL','FLAG_EMP_PHONE','FLAG_WORK_PHONE','FLAG_CONT_MOBILE','FLAG_PHONE','FLAG_EMAIL','REGION_RATING_CLIENT','REGION_RATING_CLIENT_W_CITY','HOUR_APPR_PROCESS_START','REG_REGION_NOT_LIVE_REGION','REG_REGION_NOT_WORK_REGION','LIVE_REGION_NOT_WORK_REGION','REG_CITY_NOT_LIVE_CITY','REG_CITY_NOT_WORK_CITY','LIVE_CITY_NOT_WORK_CITY','FLAG_DOCUMENT_2','FLAG_DOCUMENT_3','FLAG_DOCUMENT_4','FLAG_DOCUMENT_5','FLAG_DOCUMENT_6','FLAG_DOCUMENT_7','FLAG_DOCUMENT_8','FLAG_DOCUMENT_9','FLAG_DOCUMENT_10','FLAG_DOCUMENT_11','FLAG_DOCUMENT_12','FLAG_DOCUMENT_13','FLAG_DOCUMENT_14','FLAG_DOCUMENT_15','FLAG_DOCUMENT_16','FLAG_DOCUMENT_17','FLAG_DOCUMENT_18','FLAG_DOCUMENT_19','FLAG_DOCUMENT_20','FLAG_DOCUMENT_21','CNT_FAM_MEMBERS','EXT_SOURCE_2','APARTMENTS_AVG','BASEMENTAREA_AVG','YEARS_BEGINEXPLUATATION_AVG','YEARS_BUILD_AVG','COMMONAREA_AVG','ELEVATORS_AVG','ENTRANCES_AVG','FLOORSMAX_AVG','FLOORSMIN_AVG','LANDAREA_AVG','LIVINGAPARTMENTS_AVG','LIVINGAREA_AVG','NONLIVINGAPARTMENTS_AVG','NONLIVINGAREA_AVG','APARTMENTS_MODE','BASEMENTAREA_MODE','YEARS_BEGINEXPLUATATION_MODE','YEARS_BUILD_MODE','COMMONAREA_MODE','ELEVATORS_MODE','ENTRANCES_MODE','FLOORSMAX_MODE','FLOORSMIN_MODE','LANDAREA_MODE','LIVINGAPARTMENTS_MODE','LIVINGAREA_MODE','NONLIVINGAPARTMENTS_MODE','NONLIVINGAREA_MODE','APARTMENTS_MEDI','BASEMENTAREA_MEDI','YEARS_BEGINEXPLUATATION_MEDI','YEARS_BUILD_MEDI','COMMONAREA_MEDI','ELEVATORS_MEDI','ENTRANCES_MEDI','FLOORSMAX_MEDI','FLOORSMIN_MEDI','LANDAREA_MEDI','LIVINGAPARTMENTS_MEDI','LIVINGAREA_MEDI','NONLIVINGAPARTMENTS_MEDI','NONLIVINGAREA_MEDI','TOTALAREA_MODE','NAME_CONTRACT_TYPE_Cash loans','NAME_CONTRACT_TYPE_Revolving loans','CODE_GENDER_F','CODE_GENDER_M','FLAG_OWN_CAR_N','FLAG_OWN_CAR_Y','FLAG_OWN_REALTY_N','FLAG_OWN_REALTY_Y','NAME_INCOME_TYPE_Businessman','NAME_INCOME_TYPE_Commercial associate','NAME_INCOME_TYPE_Pensioner','NAME_INCOME_TYPE_State servant','NAME_INCOME_TYPE_Student','NAME_INCOME_TYPE_Unemployed','NAME_INCOME_TYPE_Working','NAME_EDUCATION_TYPE_Academic degree','NAME_EDUCATION_TYPE_Higher education','NAME_EDUCATION_TYPE_Incomplete higher','NAME_EDUCATION_TYPE_Lower secondary','NAME_EDUCATION_TYPE_Secondary / secondary special','NAME_FAMILY_STATUS_Civil marriage','NAME_FAMILY_STATUS_Married','NAME_FAMILY_STATUS_Separated','NAME_FAMILY_STATUS_Single / not married','NAME_FAMILY_STATUS_Widow','NAME_HOUSING_TYPE_Co-op apartment','NAME_HOUSING_TYPE_House / apartment','NAME_HOUSING_TYPE_Municipal apartment','NAME_HOUSING_TYPE_Office apartment','NAME_HOUSING_TYPE_Rented apartment','NAME_HOUSING_TYPE_With parents','WEEKDAY_APPR_PROCESS_START_FRIDAY','WEEKDAY_APPR_PROCESS_START_MONDAY','WEEKDAY_APPR_PROCESS_START_SATURDAY','WEEKDAY_APPR_PROCESS_START_SUNDAY','WEEKDAY_APPR_PROCESS_START_THURSDAY','WEEKDAY_APPR_PROCESS_START_TUESDAY','WEEKDAY_APPR_PROCESS_START_WEDNESDAY','ORGANIZATION_TYPE_Advertising','ORGANIZATION_TYPE_Agriculture','ORGANIZATION_TYPE_Bank','ORGANIZATION_TYPE_Business Entity Type 1','ORGANIZATION_TYPE_Business Entity Type 2','ORGANIZATION_TYPE_Business Entity Type 3','ORGANIZATION_TYPE_Cleaning','ORGANIZATION_TYPE_Construction','ORGANIZATION_TYPE_Culture','ORGANIZATION_TYPE_Electricity','ORGANIZATION_TYPE_Emergency','ORGANIZATION_TYPE_Government','ORGANIZATION_TYPE_Hotel','ORGANIZATION_TYPE_Housing','ORGANIZATION_TYPE_Industry: type 1','ORGANIZATION_TYPE_Industry: type 10','ORGANIZATION_TYPE_Industry: type 11','ORGANIZATION_TYPE_Industry: type 12','ORGANIZATION_TYPE_Industry: type 13','ORGANIZATION_TYPE_Industry: type 2','ORGANIZATION_TYPE_Industry: type 3','ORGANIZATION_TYPE_Industry: type 4','ORGANIZATION_TYPE_Industry: type 5','ORGANIZATION_TYPE_Industry: type 6','ORGANIZATION_TYPE_Industry: type 7','ORGANIZATION_TYPE_Industry: type 8','ORGANIZATION_TYPE_Industry: type 9','ORGANIZATION_TYPE_Insurance','ORGANIZATION_TYPE_Kindergarten','ORGANIZATION_TYPE_Legal Services','ORGANIZATION_TYPE_Medicine','ORGANIZATION_TYPE_Military','ORGANIZATION_TYPE_Mobile','ORGANIZATION_TYPE_Other','ORGANIZATION_TYPE_Police','ORGANIZATION_TYPE_Postal','ORGANIZATION_TYPE_Realtor','ORGANIZATION_TYPE_Religion','ORGANIZATION_TYPE_Restaurant','ORGANIZATION_TYPE_School','ORGANIZATION_TYPE_Security','ORGANIZATION_TYPE_Security Ministries','ORGANIZATION_TYPE_Self-employed','ORGANIZATION_TYPE_Services','ORGANIZATION_TYPE_Telecom','ORGANIZATION_TYPE_Trade: type 1','ORGANIZATION_TYPE_Trade: type 2','ORGANIZATION_TYPE_Trade: type 3','ORGANIZATION_TYPE_Trade: type 4','ORGANIZATION_TYPE_Trade: type 5','ORGANIZATION_TYPE_Trade: type 6','ORGANIZATION_TYPE_Trade: type 7','ORGANIZATION_TYPE_Transport: type 1','ORGANIZATION_TYPE_Transport: type 2','ORGANIZATION_TYPE_Transport: type 3','ORGANIZATION_TYPE_Transport: type 4','ORGANIZATION_TYPE_University','ORGANIZATION_TYPE_XNA','NAME_TYPE_SUITE_Children','NAME_TYPE_SUITE_Family','NAME_TYPE_SUITE_Group of people','NAME_TYPE_SUITE_Other_A','NAME_TYPE_SUITE_Other_B','NAME_TYPE_SUITE_Spouse, partner','NAME_TYPE_SUITE_Unaccompanied']"
   ]
  },
  {
   "cell_type": "code",
   "execution_count": 24,
   "metadata": {},
   "outputs": [],
   "source": [
    "new_test_dummies = new_test_dummies.drop('SK_ID_CURR', axis = 1)"
   ]
  },
  {
   "cell_type": "code",
   "execution_count": 41,
   "metadata": {},
   "outputs": [],
   "source": [
    "new_test_dummies.columns = ['CNT_CHILDREN','AMT_INCOME_TOTAL','AMT_CREDIT','REGION_POPULATION_RELATIVE','DAYS_BIRTH','DAYS_EMPLOYED','DAYS_REGISTRATION','DAYS_ID_PUBLISH','FLAG_MOBIL','FLAG_EMP_PHONE','FLAG_WORK_PHONE','FLAG_CONT_MOBILE','FLAG_PHONE','FLAG_EMAIL','REGION_RATING_CLIENT','REGION_RATING_CLIENT_W_CITY','HOUR_APPR_PROCESS_START','REG_REGION_NOT_LIVE_REGION','REG_REGION_NOT_WORK_REGION','LIVE_REGION_NOT_WORK_REGION','REG_CITY_NOT_LIVE_CITY','REG_CITY_NOT_WORK_CITY','LIVE_CITY_NOT_WORK_CITY','FLAG_DOCUMENT_2','FLAG_DOCUMENT_3','FLAG_DOCUMENT_4','FLAG_DOCUMENT_5','FLAG_DOCUMENT_6','FLAG_DOCUMENT_7','FLAG_DOCUMENT_8','FLAG_DOCUMENT_9','FLAG_DOCUMENT_10','FLAG_DOCUMENT_11','FLAG_DOCUMENT_12','FLAG_DOCUMENT_13','FLAG_DOCUMENT_14','FLAG_DOCUMENT_15','FLAG_DOCUMENT_16','FLAG_DOCUMENT_17','FLAG_DOCUMENT_18','FLAG_DOCUMENT_19','FLAG_DOCUMENT_20','FLAG_DOCUMENT_21','CNT_FAM_MEMBERS','EXT_SOURCE_2','APARTMENTS_AVG','BASEMENTAREA_AVG','YEARS_BEGINEXPLUATATION_AVG','YEARS_BUILD_AVG','COMMONAREA_AVG','ELEVATORS_AVG','ENTRANCES_AVG','FLOORSMAX_AVG','FLOORSMIN_AVG','LANDAREA_AVG','LIVINGAPARTMENTS_AVG','LIVINGAREA_AVG','NONLIVINGAPARTMENTS_AVG','NONLIVINGAREA_AVG','APARTMENTS_MODE','BASEMENTAREA_MODE','YEARS_BEGINEXPLUATATION_MODE','YEARS_BUILD_MODE','COMMONAREA_MODE','ELEVATORS_MODE','ENTRANCES_MODE','FLOORSMAX_MODE','FLOORSMIN_MODE','LANDAREA_MODE','LIVINGAPARTMENTS_MODE','LIVINGAREA_MODE','NONLIVINGAPARTMENTS_MODE','NONLIVINGAREA_MODE','APARTMENTS_MEDI','BASEMENTAREA_MEDI','YEARS_BEGINEXPLUATATION_MEDI','YEARS_BUILD_MEDI','COMMONAREA_MEDI','ELEVATORS_MEDI','ENTRANCES_MEDI','FLOORSMAX_MEDI','FLOORSMIN_MEDI','LANDAREA_MEDI','LIVINGAPARTMENTS_MEDI','LIVINGAREA_MEDI','NONLIVINGAPARTMENTS_MEDI','NONLIVINGAREA_MEDI','TOTALAREA_MODE','NAME_CONTRACT_TYPE_Cash loans','NAME_CONTRACT_TYPE_Revolving loans','CODE_GENDER_F','CODE_GENDER_M','FLAG_OWN_CAR_N','FLAG_OWN_CAR_Y','FLAG_OWN_REALTY_N','FLAG_OWN_REALTY_Y','NAME_INCOME_TYPE_Businessman','NAME_INCOME_TYPE_Commercial associate','NAME_INCOME_TYPE_Pensioner','NAME_INCOME_TYPE_State servant','NAME_INCOME_TYPE_Student','NAME_INCOME_TYPE_Unemployed','NAME_INCOME_TYPE_Working','NAME_EDUCATION_TYPE_Academic degree','NAME_EDUCATION_TYPE_Higher education','NAME_EDUCATION_TYPE_Incomplete higher','NAME_EDUCATION_TYPE_Lower secondary','NAME_EDUCATION_TYPE_Secondary / secondary special','NAME_FAMILY_STATUS_Civil marriage','NAME_FAMILY_STATUS_Married','NAME_FAMILY_STATUS_Separated','NAME_FAMILY_STATUS_Single / not married','NAME_FAMILY_STATUS_Widow','NAME_HOUSING_TYPE_Co-op apartment','NAME_HOUSING_TYPE_House / apartment','NAME_HOUSING_TYPE_Municipal apartment','NAME_HOUSING_TYPE_Office apartment','NAME_HOUSING_TYPE_Rented apartment','NAME_HOUSING_TYPE_With parents','WEEKDAY_APPR_PROCESS_START_FRIDAY','WEEKDAY_APPR_PROCESS_START_MONDAY','WEEKDAY_APPR_PROCESS_START_SATURDAY','WEEKDAY_APPR_PROCESS_START_SUNDAY','WEEKDAY_APPR_PROCESS_START_THURSDAY','WEEKDAY_APPR_PROCESS_START_TUESDAY','WEEKDAY_APPR_PROCESS_START_WEDNESDAY','ORGANIZATION_TYPE_Advertising','ORGANIZATION_TYPE_Agriculture','ORGANIZATION_TYPE_Bank','ORGANIZATION_TYPE_Business Entity Type 1','ORGANIZATION_TYPE_Business Entity Type 2','ORGANIZATION_TYPE_Business Entity Type 3','ORGANIZATION_TYPE_Cleaning','ORGANIZATION_TYPE_Construction','ORGANIZATION_TYPE_Culture','ORGANIZATION_TYPE_Electricity','ORGANIZATION_TYPE_Emergency','ORGANIZATION_TYPE_Government','ORGANIZATION_TYPE_Hotel','ORGANIZATION_TYPE_Housing','ORGANIZATION_TYPE_Industry: type 1','ORGANIZATION_TYPE_Industry: type 10','ORGANIZATION_TYPE_Industry: type 11','ORGANIZATION_TYPE_Industry: type 12','ORGANIZATION_TYPE_Industry: type 13','ORGANIZATION_TYPE_Industry: type 2','ORGANIZATION_TYPE_Industry: type 3','ORGANIZATION_TYPE_Industry: type 4','ORGANIZATION_TYPE_Industry: type 5','ORGANIZATION_TYPE_Industry: type 6','ORGANIZATION_TYPE_Industry: type 7','ORGANIZATION_TYPE_Industry: type 8','ORGANIZATION_TYPE_Industry: type 9','ORGANIZATION_TYPE_Insurance','ORGANIZATION_TYPE_Kindergarten','ORGANIZATION_TYPE_Legal Services','ORGANIZATION_TYPE_Medicine','ORGANIZATION_TYPE_Military','ORGANIZATION_TYPE_Mobile','ORGANIZATION_TYPE_Other','ORGANIZATION_TYPE_Police','ORGANIZATION_TYPE_Postal','ORGANIZATION_TYPE_Realtor','ORGANIZATION_TYPE_Religion','ORGANIZATION_TYPE_Restaurant','ORGANIZATION_TYPE_School','ORGANIZATION_TYPE_Security','ORGANIZATION_TYPE_Security Ministries','ORGANIZATION_TYPE_Self-employed','ORGANIZATION_TYPE_Services','ORGANIZATION_TYPE_Telecom','ORGANIZATION_TYPE_Trade: type 1','ORGANIZATION_TYPE_Trade: type 2','ORGANIZATION_TYPE_Trade: type 3','ORGANIZATION_TYPE_Trade: type 4','ORGANIZATION_TYPE_Trade: type 5','ORGANIZATION_TYPE_Trade: type 6','ORGANIZATION_TYPE_Trade: type 7','ORGANIZATION_TYPE_Transport: type 1','ORGANIZATION_TYPE_Transport: type 2','ORGANIZATION_TYPE_Transport: type 3','ORGANIZATION_TYPE_Transport: type 4','ORGANIZATION_TYPE_University','ORGANIZATION_TYPE_XNA','NAME_TYPE_SUITE_Children','NAME_TYPE_SUITE_Family','NAME_TYPE_SUITE_Group of people','NAME_TYPE_SUITE_Other_A','NAME_TYPE_SUITE_Other_B','NAME_TYPE_SUITE_Spouse, partner','NAME_TYPE_SUITE_Unaccompanied']"
   ]
  },
  {
   "cell_type": "code",
   "execution_count": 42,
   "metadata": {},
   "outputs": [],
   "source": [
    "from catboost import CatBoostClassifier"
   ]
  },
  {
   "cell_type": "code",
   "execution_count": 62,
   "metadata": {},
   "outputs": [],
   "source": [
    "cat_model = CatBoostClassifier(iterations=100, learning_rate=0.1, loss_function = \"CrossEntropy\")"
   ]
  },
  {
   "cell_type": "code",
   "execution_count": 63,
   "metadata": {},
   "outputs": [
    {
     "data": {
      "text/plain": [
       "{'iterations': 100, 'learning_rate': 0.1, 'loss_function': 'CrossEntropy'}"
      ]
     },
     "execution_count": 63,
     "metadata": {},
     "output_type": "execute_result"
    }
   ],
   "source": [
    "cat_model.get_params()"
   ]
  },
  {
   "cell_type": "code",
   "execution_count": 64,
   "metadata": {},
   "outputs": [
    {
     "name": "stdout",
     "output_type": "stream",
     "text": [
      "0:\tlearn: 0.5904320\ttotal: 678ms\tremaining: 1m 7s\n",
      "1:\tlearn: 0.5126254\ttotal: 1.4s\tremaining: 1m 8s\n",
      "2:\tlearn: 0.4548015\ttotal: 2s\tremaining: 1m 4s\n",
      "3:\tlearn: 0.4107046\ttotal: 2.59s\tremaining: 1m 2s\n",
      "4:\tlearn: 0.3773140\ttotal: 3.19s\tremaining: 1m\n",
      "5:\tlearn: 0.3518709\ttotal: 3.78s\tremaining: 59.3s\n",
      "6:\tlearn: 0.3322151\ttotal: 4.36s\tremaining: 57.9s\n",
      "7:\tlearn: 0.3173906\ttotal: 4.94s\tremaining: 56.9s\n",
      "8:\tlearn: 0.3055208\ttotal: 5.5s\tremaining: 55.6s\n",
      "9:\tlearn: 0.2962136\ttotal: 6.08s\tremaining: 54.7s\n",
      "10:\tlearn: 0.2890209\ttotal: 6.68s\tremaining: 54s\n",
      "11:\tlearn: 0.2835416\ttotal: 7.26s\tremaining: 53.3s\n",
      "12:\tlearn: 0.2789931\ttotal: 7.88s\tremaining: 52.7s\n",
      "13:\tlearn: 0.2751904\ttotal: 8.49s\tremaining: 52.2s\n",
      "14:\tlearn: 0.2723822\ttotal: 9.08s\tremaining: 51.4s\n",
      "15:\tlearn: 0.2702284\ttotal: 9.7s\tremaining: 50.9s\n",
      "16:\tlearn: 0.2683174\ttotal: 10.3s\tremaining: 50.2s\n",
      "17:\tlearn: 0.2666898\ttotal: 10.8s\tremaining: 49.4s\n",
      "18:\tlearn: 0.2655101\ttotal: 11.4s\tremaining: 48.7s\n",
      "19:\tlearn: 0.2644168\ttotal: 12s\tremaining: 48s\n",
      "20:\tlearn: 0.2635816\ttotal: 12.6s\tremaining: 47.2s\n",
      "21:\tlearn: 0.2629303\ttotal: 13.1s\tremaining: 46.6s\n",
      "22:\tlearn: 0.2622688\ttotal: 13.7s\tremaining: 46s\n",
      "23:\tlearn: 0.2618369\ttotal: 14.4s\tremaining: 45.5s\n",
      "24:\tlearn: 0.2613844\ttotal: 15s\tremaining: 45s\n",
      "25:\tlearn: 0.2609751\ttotal: 15.7s\tremaining: 44.5s\n",
      "26:\tlearn: 0.2606777\ttotal: 16.2s\tremaining: 43.9s\n",
      "27:\tlearn: 0.2604430\ttotal: 16.8s\tremaining: 43.3s\n",
      "28:\tlearn: 0.2601849\ttotal: 17.4s\tremaining: 42.6s\n",
      "29:\tlearn: 0.2599991\ttotal: 18s\tremaining: 42s\n",
      "30:\tlearn: 0.2598350\ttotal: 18.6s\tremaining: 41.3s\n",
      "31:\tlearn: 0.2596583\ttotal: 19.2s\tremaining: 40.7s\n",
      "32:\tlearn: 0.2595074\ttotal: 19.9s\tremaining: 40.5s\n",
      "33:\tlearn: 0.2593832\ttotal: 20.9s\tremaining: 40.5s\n",
      "34:\tlearn: 0.2592653\ttotal: 21.6s\tremaining: 40.2s\n",
      "35:\tlearn: 0.2591153\ttotal: 22.3s\tremaining: 39.7s\n",
      "36:\tlearn: 0.2590111\ttotal: 23.2s\tremaining: 39.4s\n",
      "37:\tlearn: 0.2589173\ttotal: 24s\tremaining: 39.1s\n",
      "38:\tlearn: 0.2588242\ttotal: 24.7s\tremaining: 38.7s\n",
      "39:\tlearn: 0.2587312\ttotal: 25.5s\tremaining: 38.2s\n",
      "40:\tlearn: 0.2586508\ttotal: 26.3s\tremaining: 37.8s\n",
      "41:\tlearn: 0.2585729\ttotal: 27s\tremaining: 37.3s\n",
      "42:\tlearn: 0.2585040\ttotal: 27.8s\tremaining: 36.9s\n",
      "43:\tlearn: 0.2584158\ttotal: 28.7s\tremaining: 36.5s\n",
      "44:\tlearn: 0.2583480\ttotal: 29.5s\tremaining: 36s\n",
      "45:\tlearn: 0.2582656\ttotal: 30.3s\tremaining: 35.6s\n",
      "46:\tlearn: 0.2582133\ttotal: 31.5s\tremaining: 35.6s\n",
      "47:\tlearn: 0.2581513\ttotal: 32.4s\tremaining: 35.1s\n",
      "48:\tlearn: 0.2581040\ttotal: 33.5s\tremaining: 34.9s\n",
      "49:\tlearn: 0.2580652\ttotal: 35.2s\tremaining: 35.2s\n",
      "50:\tlearn: 0.2580072\ttotal: 36.3s\tremaining: 34.9s\n",
      "51:\tlearn: 0.2579070\ttotal: 37s\tremaining: 34.2s\n",
      "52:\tlearn: 0.2578524\ttotal: 37.8s\tremaining: 33.5s\n",
      "53:\tlearn: 0.2578139\ttotal: 38.5s\tremaining: 32.8s\n",
      "54:\tlearn: 0.2577667\ttotal: 39.1s\tremaining: 32s\n",
      "55:\tlearn: 0.2577356\ttotal: 40s\tremaining: 31.4s\n",
      "56:\tlearn: 0.2576879\ttotal: 40.6s\tremaining: 30.6s\n",
      "57:\tlearn: 0.2576464\ttotal: 41.4s\tremaining: 30s\n",
      "58:\tlearn: 0.2575849\ttotal: 42.2s\tremaining: 29.3s\n",
      "59:\tlearn: 0.2575411\ttotal: 43s\tremaining: 28.7s\n",
      "60:\tlearn: 0.2575029\ttotal: 43.7s\tremaining: 27.9s\n",
      "61:\tlearn: 0.2574551\ttotal: 44.5s\tremaining: 27.3s\n",
      "62:\tlearn: 0.2573943\ttotal: 45.1s\tremaining: 26.5s\n",
      "63:\tlearn: 0.2573579\ttotal: 45.9s\tremaining: 25.8s\n",
      "64:\tlearn: 0.2573295\ttotal: 46.8s\tremaining: 25.2s\n",
      "65:\tlearn: 0.2572944\ttotal: 47.5s\tremaining: 24.5s\n",
      "66:\tlearn: 0.2572636\ttotal: 48.1s\tremaining: 23.7s\n",
      "67:\tlearn: 0.2572317\ttotal: 48.7s\tremaining: 22.9s\n",
      "68:\tlearn: 0.2571743\ttotal: 49.3s\tremaining: 22.2s\n",
      "69:\tlearn: 0.2571342\ttotal: 49.9s\tremaining: 21.4s\n",
      "70:\tlearn: 0.2571015\ttotal: 50.6s\tremaining: 20.6s\n",
      "71:\tlearn: 0.2570592\ttotal: 51.1s\tremaining: 19.9s\n",
      "72:\tlearn: 0.2570277\ttotal: 51.7s\tremaining: 19.1s\n",
      "73:\tlearn: 0.2569943\ttotal: 52.4s\tremaining: 18.4s\n",
      "74:\tlearn: 0.2569579\ttotal: 53.1s\tremaining: 17.7s\n",
      "75:\tlearn: 0.2569394\ttotal: 53.9s\tremaining: 17s\n",
      "76:\tlearn: 0.2569149\ttotal: 54.8s\tremaining: 16.4s\n",
      "77:\tlearn: 0.2568827\ttotal: 55.4s\tremaining: 15.6s\n",
      "78:\tlearn: 0.2568606\ttotal: 56.1s\tremaining: 14.9s\n",
      "79:\tlearn: 0.2568355\ttotal: 57s\tremaining: 14.2s\n",
      "80:\tlearn: 0.2567981\ttotal: 57.8s\tremaining: 13.6s\n",
      "81:\tlearn: 0.2567609\ttotal: 58.7s\tremaining: 12.9s\n",
      "82:\tlearn: 0.2567345\ttotal: 59.4s\tremaining: 12.2s\n",
      "83:\tlearn: 0.2567198\ttotal: 1m\tremaining: 11.5s\n",
      "84:\tlearn: 0.2566875\ttotal: 1m 1s\tremaining: 10.8s\n",
      "85:\tlearn: 0.2566502\ttotal: 1m 1s\tremaining: 10.1s\n",
      "86:\tlearn: 0.2566047\ttotal: 1m 2s\tremaining: 9.34s\n",
      "87:\tlearn: 0.2565748\ttotal: 1m 3s\tremaining: 8.63s\n",
      "88:\tlearn: 0.2565425\ttotal: 1m 3s\tremaining: 7.91s\n",
      "89:\tlearn: 0.2565102\ttotal: 1m 4s\tremaining: 7.2s\n",
      "90:\tlearn: 0.2564950\ttotal: 1m 5s\tremaining: 6.47s\n",
      "91:\tlearn: 0.2564812\ttotal: 1m 6s\tremaining: 5.76s\n",
      "92:\tlearn: 0.2564632\ttotal: 1m 7s\tremaining: 5.05s\n",
      "93:\tlearn: 0.2564358\ttotal: 1m 7s\tremaining: 4.33s\n",
      "94:\tlearn: 0.2563985\ttotal: 1m 8s\tremaining: 3.61s\n",
      "95:\tlearn: 0.2563619\ttotal: 1m 9s\tremaining: 2.89s\n",
      "96:\tlearn: 0.2563322\ttotal: 1m 10s\tremaining: 2.17s\n",
      "97:\tlearn: 0.2563040\ttotal: 1m 10s\tremaining: 1.45s\n",
      "98:\tlearn: 0.2562920\ttotal: 1m 11s\tremaining: 723ms\n",
      "99:\tlearn: 0.2562602\ttotal: 1m 12s\tremaining: 0us\n"
     ]
    },
    {
     "data": {
      "text/plain": [
       "<catboost.core._CatBoostBase at 0x1a15e1cd90>"
      ]
     },
     "execution_count": 64,
     "metadata": {},
     "output_type": "execute_result"
    }
   ],
   "source": [
    "cat_model.fit(X, y)"
   ]
  },
  {
   "cell_type": "code",
   "execution_count": 65,
   "metadata": {},
   "outputs": [],
   "source": [
    "test_y_cat = pd.DataFrame(cat_model.predict_proba(new_test_dummies))\n",
    "submission_cat = pd.concat([test.SK_ID_CURR, test_y_cat], axis=1).drop(0, axis = 1)\n",
    "submission_cat.columns = ['SK_ID_CURR', 'Target']\n",
    "submission_cat.to_csv('submission_new_cat.csv', index = False)"
   ]
  },
  {
   "cell_type": "code",
   "execution_count": 69,
   "metadata": {},
   "outputs": [],
   "source": [
    "train_y_cat = pd.DataFrame(cat_model.predict_proba(new_train_dummies.drop('TARGET', axis = 1)))"
   ]
  },
  {
   "cell_type": "code",
   "execution_count": 77,
   "metadata": {},
   "outputs": [],
   "source": [
    "train_cat = pd.concat([train.SK_ID_CURR, train.TARGET, train_y_cat], axis=1).drop(0, axis = 1)"
   ]
  },
  {
   "cell_type": "code",
   "execution_count": 79,
   "metadata": {},
   "outputs": [
    {
     "data": {
      "text/html": [
       "<div>\n",
       "<style scoped>\n",
       "    .dataframe tbody tr th:only-of-type {\n",
       "        vertical-align: middle;\n",
       "    }\n",
       "\n",
       "    .dataframe tbody tr th {\n",
       "        vertical-align: top;\n",
       "    }\n",
       "\n",
       "    .dataframe thead th {\n",
       "        text-align: right;\n",
       "    }\n",
       "</style>\n",
       "<table border=\"1\" class=\"dataframe\">\n",
       "  <thead>\n",
       "    <tr style=\"text-align: right;\">\n",
       "      <th></th>\n",
       "      <th>SK_ID_CURR</th>\n",
       "      <th>TARGET</th>\n",
       "      <th>1</th>\n",
       "    </tr>\n",
       "  </thead>\n",
       "  <tbody>\n",
       "    <tr>\n",
       "      <th>306038</th>\n",
       "      <td>454580</td>\n",
       "      <td>1</td>\n",
       "      <td>0.151220</td>\n",
       "    </tr>\n",
       "    <tr>\n",
       "      <th>199227</th>\n",
       "      <td>330974</td>\n",
       "      <td>1</td>\n",
       "      <td>0.149527</td>\n",
       "    </tr>\n",
       "    <tr>\n",
       "      <th>19734</th>\n",
       "      <td>123008</td>\n",
       "      <td>1</td>\n",
       "      <td>0.143187</td>\n",
       "    </tr>\n",
       "    <tr>\n",
       "      <th>45416</th>\n",
       "      <td>152602</td>\n",
       "      <td>1</td>\n",
       "      <td>0.141087</td>\n",
       "    </tr>\n",
       "    <tr>\n",
       "      <th>125659</th>\n",
       "      <td>245714</td>\n",
       "      <td>1</td>\n",
       "      <td>0.140516</td>\n",
       "    </tr>\n",
       "    <tr>\n",
       "      <th>264995</th>\n",
       "      <td>406866</td>\n",
       "      <td>1</td>\n",
       "      <td>0.130767</td>\n",
       "    </tr>\n",
       "    <tr>\n",
       "      <th>80395</th>\n",
       "      <td>193201</td>\n",
       "      <td>1</td>\n",
       "      <td>0.128553</td>\n",
       "    </tr>\n",
       "    <tr>\n",
       "      <th>140969</th>\n",
       "      <td>263441</td>\n",
       "      <td>1</td>\n",
       "      <td>0.127462</td>\n",
       "    </tr>\n",
       "    <tr>\n",
       "      <th>76859</th>\n",
       "      <td>189126</td>\n",
       "      <td>1</td>\n",
       "      <td>0.125978</td>\n",
       "    </tr>\n",
       "    <tr>\n",
       "      <th>291261</th>\n",
       "      <td>437417</td>\n",
       "      <td>1</td>\n",
       "      <td>0.122544</td>\n",
       "    </tr>\n",
       "    <tr>\n",
       "      <th>99400</th>\n",
       "      <td>215405</td>\n",
       "      <td>1</td>\n",
       "      <td>0.121476</td>\n",
       "    </tr>\n",
       "    <tr>\n",
       "      <th>163836</th>\n",
       "      <td>289920</td>\n",
       "      <td>1</td>\n",
       "      <td>0.121213</td>\n",
       "    </tr>\n",
       "    <tr>\n",
       "      <th>220274</th>\n",
       "      <td>355176</td>\n",
       "      <td>1</td>\n",
       "      <td>0.119494</td>\n",
       "    </tr>\n",
       "    <tr>\n",
       "      <th>119560</th>\n",
       "      <td>238647</td>\n",
       "      <td>1</td>\n",
       "      <td>0.118816</td>\n",
       "    </tr>\n",
       "    <tr>\n",
       "      <th>26694</th>\n",
       "      <td>131028</td>\n",
       "      <td>1</td>\n",
       "      <td>0.116819</td>\n",
       "    </tr>\n",
       "    <tr>\n",
       "      <th>79983</th>\n",
       "      <td>192719</td>\n",
       "      <td>1</td>\n",
       "      <td>0.115836</td>\n",
       "    </tr>\n",
       "    <tr>\n",
       "      <th>268224</th>\n",
       "      <td>410803</td>\n",
       "      <td>1</td>\n",
       "      <td>0.114602</td>\n",
       "    </tr>\n",
       "    <tr>\n",
       "      <th>184220</th>\n",
       "      <td>313528</td>\n",
       "      <td>1</td>\n",
       "      <td>0.113868</td>\n",
       "    </tr>\n",
       "    <tr>\n",
       "      <th>207829</th>\n",
       "      <td>340891</td>\n",
       "      <td>1</td>\n",
       "      <td>0.113696</td>\n",
       "    </tr>\n",
       "    <tr>\n",
       "      <th>90161</th>\n",
       "      <td>204676</td>\n",
       "      <td>1</td>\n",
       "      <td>0.113152</td>\n",
       "    </tr>\n",
       "    <tr>\n",
       "      <th>267014</th>\n",
       "      <td>409361</td>\n",
       "      <td>1</td>\n",
       "      <td>0.112950</td>\n",
       "    </tr>\n",
       "    <tr>\n",
       "      <th>231195</th>\n",
       "      <td>367782</td>\n",
       "      <td>1</td>\n",
       "      <td>0.112819</td>\n",
       "    </tr>\n",
       "    <tr>\n",
       "      <th>113050</th>\n",
       "      <td>231117</td>\n",
       "      <td>1</td>\n",
       "      <td>0.111810</td>\n",
       "    </tr>\n",
       "    <tr>\n",
       "      <th>293521</th>\n",
       "      <td>440052</td>\n",
       "      <td>1</td>\n",
       "      <td>0.111441</td>\n",
       "    </tr>\n",
       "    <tr>\n",
       "      <th>69675</th>\n",
       "      <td>180817</td>\n",
       "      <td>1</td>\n",
       "      <td>0.111234</td>\n",
       "    </tr>\n",
       "    <tr>\n",
       "      <th>226021</th>\n",
       "      <td>361787</td>\n",
       "      <td>1</td>\n",
       "      <td>0.110123</td>\n",
       "    </tr>\n",
       "    <tr>\n",
       "      <th>2181</th>\n",
       "      <td>102559</td>\n",
       "      <td>1</td>\n",
       "      <td>0.109854</td>\n",
       "    </tr>\n",
       "    <tr>\n",
       "      <th>264043</th>\n",
       "      <td>405757</td>\n",
       "      <td>1</td>\n",
       "      <td>0.109618</td>\n",
       "    </tr>\n",
       "    <tr>\n",
       "      <th>222540</th>\n",
       "      <td>357776</td>\n",
       "      <td>1</td>\n",
       "      <td>0.109567</td>\n",
       "    </tr>\n",
       "    <tr>\n",
       "      <th>133410</th>\n",
       "      <td>254730</td>\n",
       "      <td>1</td>\n",
       "      <td>0.109147</td>\n",
       "    </tr>\n",
       "    <tr>\n",
       "      <th>...</th>\n",
       "      <td>...</td>\n",
       "      <td>...</td>\n",
       "      <td>...</td>\n",
       "    </tr>\n",
       "    <tr>\n",
       "      <th>138075</th>\n",
       "      <td>260125</td>\n",
       "      <td>0</td>\n",
       "      <td>0.014387</td>\n",
       "    </tr>\n",
       "    <tr>\n",
       "      <th>278752</th>\n",
       "      <td>422933</td>\n",
       "      <td>0</td>\n",
       "      <td>0.014357</td>\n",
       "    </tr>\n",
       "    <tr>\n",
       "      <th>77218</th>\n",
       "      <td>189536</td>\n",
       "      <td>0</td>\n",
       "      <td>0.014316</td>\n",
       "    </tr>\n",
       "    <tr>\n",
       "      <th>116613</th>\n",
       "      <td>235234</td>\n",
       "      <td>0</td>\n",
       "      <td>0.014297</td>\n",
       "    </tr>\n",
       "    <tr>\n",
       "      <th>228567</th>\n",
       "      <td>364741</td>\n",
       "      <td>0</td>\n",
       "      <td>0.014240</td>\n",
       "    </tr>\n",
       "    <tr>\n",
       "      <th>203851</th>\n",
       "      <td>336333</td>\n",
       "      <td>0</td>\n",
       "      <td>0.014172</td>\n",
       "    </tr>\n",
       "    <tr>\n",
       "      <th>27015</th>\n",
       "      <td>131399</td>\n",
       "      <td>0</td>\n",
       "      <td>0.014159</td>\n",
       "    </tr>\n",
       "    <tr>\n",
       "      <th>139056</th>\n",
       "      <td>261237</td>\n",
       "      <td>0</td>\n",
       "      <td>0.014069</td>\n",
       "    </tr>\n",
       "    <tr>\n",
       "      <th>119316</th>\n",
       "      <td>238363</td>\n",
       "      <td>0</td>\n",
       "      <td>0.014021</td>\n",
       "    </tr>\n",
       "    <tr>\n",
       "      <th>303689</th>\n",
       "      <td>451860</td>\n",
       "      <td>0</td>\n",
       "      <td>0.013946</td>\n",
       "    </tr>\n",
       "    <tr>\n",
       "      <th>57583</th>\n",
       "      <td>166731</td>\n",
       "      <td>0</td>\n",
       "      <td>0.013942</td>\n",
       "    </tr>\n",
       "    <tr>\n",
       "      <th>12134</th>\n",
       "      <td>114149</td>\n",
       "      <td>0</td>\n",
       "      <td>0.013935</td>\n",
       "    </tr>\n",
       "    <tr>\n",
       "      <th>262418</th>\n",
       "      <td>403786</td>\n",
       "      <td>0</td>\n",
       "      <td>0.013862</td>\n",
       "    </tr>\n",
       "    <tr>\n",
       "      <th>139382</th>\n",
       "      <td>261610</td>\n",
       "      <td>0</td>\n",
       "      <td>0.013765</td>\n",
       "    </tr>\n",
       "    <tr>\n",
       "      <th>68919</th>\n",
       "      <td>179930</td>\n",
       "      <td>0</td>\n",
       "      <td>0.013576</td>\n",
       "    </tr>\n",
       "    <tr>\n",
       "      <th>116302</th>\n",
       "      <td>234871</td>\n",
       "      <td>0</td>\n",
       "      <td>0.013493</td>\n",
       "    </tr>\n",
       "    <tr>\n",
       "      <th>186907</th>\n",
       "      <td>316674</td>\n",
       "      <td>0</td>\n",
       "      <td>0.013095</td>\n",
       "    </tr>\n",
       "    <tr>\n",
       "      <th>291128</th>\n",
       "      <td>437259</td>\n",
       "      <td>0</td>\n",
       "      <td>0.013073</td>\n",
       "    </tr>\n",
       "    <tr>\n",
       "      <th>213274</th>\n",
       "      <td>347145</td>\n",
       "      <td>0</td>\n",
       "      <td>0.013038</td>\n",
       "    </tr>\n",
       "    <tr>\n",
       "      <th>172251</th>\n",
       "      <td>299614</td>\n",
       "      <td>0</td>\n",
       "      <td>0.012996</td>\n",
       "    </tr>\n",
       "    <tr>\n",
       "      <th>85908</th>\n",
       "      <td>199686</td>\n",
       "      <td>0</td>\n",
       "      <td>0.012874</td>\n",
       "    </tr>\n",
       "    <tr>\n",
       "      <th>13872</th>\n",
       "      <td>116172</td>\n",
       "      <td>0</td>\n",
       "      <td>0.012868</td>\n",
       "    </tr>\n",
       "    <tr>\n",
       "      <th>123364</th>\n",
       "      <td>243060</td>\n",
       "      <td>0</td>\n",
       "      <td>0.012716</td>\n",
       "    </tr>\n",
       "    <tr>\n",
       "      <th>226433</th>\n",
       "      <td>362277</td>\n",
       "      <td>0</td>\n",
       "      <td>0.012709</td>\n",
       "    </tr>\n",
       "    <tr>\n",
       "      <th>211593</th>\n",
       "      <td>345199</td>\n",
       "      <td>0</td>\n",
       "      <td>0.012642</td>\n",
       "    </tr>\n",
       "    <tr>\n",
       "      <th>48739</th>\n",
       "      <td>156444</td>\n",
       "      <td>0</td>\n",
       "      <td>0.012585</td>\n",
       "    </tr>\n",
       "    <tr>\n",
       "      <th>276081</th>\n",
       "      <td>419937</td>\n",
       "      <td>0</td>\n",
       "      <td>0.011837</td>\n",
       "    </tr>\n",
       "    <tr>\n",
       "      <th>206141</th>\n",
       "      <td>338942</td>\n",
       "      <td>0</td>\n",
       "      <td>0.011275</td>\n",
       "    </tr>\n",
       "    <tr>\n",
       "      <th>78731</th>\n",
       "      <td>191268</td>\n",
       "      <td>0</td>\n",
       "      <td>0.011252</td>\n",
       "    </tr>\n",
       "    <tr>\n",
       "      <th>50756</th>\n",
       "      <td>158773</td>\n",
       "      <td>0</td>\n",
       "      <td>0.010613</td>\n",
       "    </tr>\n",
       "  </tbody>\n",
       "</table>\n",
       "<p>307511 rows × 3 columns</p>\n",
       "</div>"
      ],
      "text/plain": [
       "        SK_ID_CURR  TARGET         1\n",
       "306038      454580       1  0.151220\n",
       "199227      330974       1  0.149527\n",
       "19734       123008       1  0.143187\n",
       "45416       152602       1  0.141087\n",
       "125659      245714       1  0.140516\n",
       "264995      406866       1  0.130767\n",
       "80395       193201       1  0.128553\n",
       "140969      263441       1  0.127462\n",
       "76859       189126       1  0.125978\n",
       "291261      437417       1  0.122544\n",
       "99400       215405       1  0.121476\n",
       "163836      289920       1  0.121213\n",
       "220274      355176       1  0.119494\n",
       "119560      238647       1  0.118816\n",
       "26694       131028       1  0.116819\n",
       "79983       192719       1  0.115836\n",
       "268224      410803       1  0.114602\n",
       "184220      313528       1  0.113868\n",
       "207829      340891       1  0.113696\n",
       "90161       204676       1  0.113152\n",
       "267014      409361       1  0.112950\n",
       "231195      367782       1  0.112819\n",
       "113050      231117       1  0.111810\n",
       "293521      440052       1  0.111441\n",
       "69675       180817       1  0.111234\n",
       "226021      361787       1  0.110123\n",
       "2181        102559       1  0.109854\n",
       "264043      405757       1  0.109618\n",
       "222540      357776       1  0.109567\n",
       "133410      254730       1  0.109147\n",
       "...            ...     ...       ...\n",
       "138075      260125       0  0.014387\n",
       "278752      422933       0  0.014357\n",
       "77218       189536       0  0.014316\n",
       "116613      235234       0  0.014297\n",
       "228567      364741       0  0.014240\n",
       "203851      336333       0  0.014172\n",
       "27015       131399       0  0.014159\n",
       "139056      261237       0  0.014069\n",
       "119316      238363       0  0.014021\n",
       "303689      451860       0  0.013946\n",
       "57583       166731       0  0.013942\n",
       "12134       114149       0  0.013935\n",
       "262418      403786       0  0.013862\n",
       "139382      261610       0  0.013765\n",
       "68919       179930       0  0.013576\n",
       "116302      234871       0  0.013493\n",
       "186907      316674       0  0.013095\n",
       "291128      437259       0  0.013073\n",
       "213274      347145       0  0.013038\n",
       "172251      299614       0  0.012996\n",
       "85908       199686       0  0.012874\n",
       "13872       116172       0  0.012868\n",
       "123364      243060       0  0.012716\n",
       "226433      362277       0  0.012709\n",
       "211593      345199       0  0.012642\n",
       "48739       156444       0  0.012585\n",
       "276081      419937       0  0.011837\n",
       "206141      338942       0  0.011275\n",
       "78731       191268       0  0.011252\n",
       "50756       158773       0  0.010613\n",
       "\n",
       "[307511 rows x 3 columns]"
      ]
     },
     "execution_count": 79,
     "metadata": {},
     "output_type": "execute_result"
    }
   ],
   "source": [
    "train_cat.sort_values(['TARGET', 1], ascending = False)"
   ]
  },
  {
   "cell_type": "code",
   "execution_count": 73,
   "metadata": {},
   "outputs": [
    {
     "data": {
      "text/html": [
       "<div>\n",
       "<style scoped>\n",
       "    .dataframe tbody tr th:only-of-type {\n",
       "        vertical-align: middle;\n",
       "    }\n",
       "\n",
       "    .dataframe tbody tr th {\n",
       "        vertical-align: top;\n",
       "    }\n",
       "\n",
       "    .dataframe thead th {\n",
       "        text-align: right;\n",
       "    }\n",
       "</style>\n",
       "<table border=\"1\" class=\"dataframe\">\n",
       "  <thead>\n",
       "    <tr style=\"text-align: right;\">\n",
       "      <th></th>\n",
       "      <th>SK_ID_CURR</th>\n",
       "      <th>1</th>\n",
       "    </tr>\n",
       "  </thead>\n",
       "  <tbody>\n",
       "    <tr>\n",
       "      <th>0</th>\n",
       "      <td>100001</td>\n",
       "      <td>0.031738</td>\n",
       "    </tr>\n",
       "    <tr>\n",
       "      <th>1</th>\n",
       "      <td>100005</td>\n",
       "      <td>0.125166</td>\n",
       "    </tr>\n",
       "    <tr>\n",
       "      <th>2</th>\n",
       "      <td>100013</td>\n",
       "      <td>0.047222</td>\n",
       "    </tr>\n",
       "    <tr>\n",
       "      <th>3</th>\n",
       "      <td>100028</td>\n",
       "      <td>0.061840</td>\n",
       "    </tr>\n",
       "    <tr>\n",
       "      <th>4</th>\n",
       "      <td>100038</td>\n",
       "      <td>0.121475</td>\n",
       "    </tr>\n",
       "    <tr>\n",
       "      <th>5</th>\n",
       "      <td>100042</td>\n",
       "      <td>0.024588</td>\n",
       "    </tr>\n",
       "    <tr>\n",
       "      <th>6</th>\n",
       "      <td>100057</td>\n",
       "      <td>0.059472</td>\n",
       "    </tr>\n",
       "    <tr>\n",
       "      <th>7</th>\n",
       "      <td>100065</td>\n",
       "      <td>0.060096</td>\n",
       "    </tr>\n",
       "    <tr>\n",
       "      <th>8</th>\n",
       "      <td>100066</td>\n",
       "      <td>0.033208</td>\n",
       "    </tr>\n",
       "    <tr>\n",
       "      <th>9</th>\n",
       "      <td>100067</td>\n",
       "      <td>0.045432</td>\n",
       "    </tr>\n",
       "    <tr>\n",
       "      <th>10</th>\n",
       "      <td>100074</td>\n",
       "      <td>0.043614</td>\n",
       "    </tr>\n",
       "    <tr>\n",
       "      <th>11</th>\n",
       "      <td>100090</td>\n",
       "      <td>0.081181</td>\n",
       "    </tr>\n",
       "    <tr>\n",
       "      <th>12</th>\n",
       "      <td>100091</td>\n",
       "      <td>0.120841</td>\n",
       "    </tr>\n",
       "    <tr>\n",
       "      <th>13</th>\n",
       "      <td>100092</td>\n",
       "      <td>0.068865</td>\n",
       "    </tr>\n",
       "    <tr>\n",
       "      <th>14</th>\n",
       "      <td>100106</td>\n",
       "      <td>0.092702</td>\n",
       "    </tr>\n",
       "    <tr>\n",
       "      <th>15</th>\n",
       "      <td>100107</td>\n",
       "      <td>0.084974</td>\n",
       "    </tr>\n",
       "    <tr>\n",
       "      <th>16</th>\n",
       "      <td>100109</td>\n",
       "      <td>0.043536</td>\n",
       "    </tr>\n",
       "    <tr>\n",
       "      <th>17</th>\n",
       "      <td>100117</td>\n",
       "      <td>0.055893</td>\n",
       "    </tr>\n",
       "    <tr>\n",
       "      <th>18</th>\n",
       "      <td>100128</td>\n",
       "      <td>0.080894</td>\n",
       "    </tr>\n",
       "    <tr>\n",
       "      <th>19</th>\n",
       "      <td>100141</td>\n",
       "      <td>0.056907</td>\n",
       "    </tr>\n",
       "    <tr>\n",
       "      <th>20</th>\n",
       "      <td>100150</td>\n",
       "      <td>0.059767</td>\n",
       "    </tr>\n",
       "    <tr>\n",
       "      <th>21</th>\n",
       "      <td>100168</td>\n",
       "      <td>0.019583</td>\n",
       "    </tr>\n",
       "    <tr>\n",
       "      <th>22</th>\n",
       "      <td>100169</td>\n",
       "      <td>0.030155</td>\n",
       "    </tr>\n",
       "    <tr>\n",
       "      <th>23</th>\n",
       "      <td>100170</td>\n",
       "      <td>0.060318</td>\n",
       "    </tr>\n",
       "    <tr>\n",
       "      <th>24</th>\n",
       "      <td>100171</td>\n",
       "      <td>0.061614</td>\n",
       "    </tr>\n",
       "    <tr>\n",
       "      <th>25</th>\n",
       "      <td>100172</td>\n",
       "      <td>0.113158</td>\n",
       "    </tr>\n",
       "    <tr>\n",
       "      <th>26</th>\n",
       "      <td>100184</td>\n",
       "      <td>0.057949</td>\n",
       "    </tr>\n",
       "    <tr>\n",
       "      <th>27</th>\n",
       "      <td>100187</td>\n",
       "      <td>0.060485</td>\n",
       "    </tr>\n",
       "    <tr>\n",
       "      <th>28</th>\n",
       "      <td>100212</td>\n",
       "      <td>0.053123</td>\n",
       "    </tr>\n",
       "    <tr>\n",
       "      <th>29</th>\n",
       "      <td>100222</td>\n",
       "      <td>0.039122</td>\n",
       "    </tr>\n",
       "    <tr>\n",
       "      <th>...</th>\n",
       "      <td>...</td>\n",
       "      <td>...</td>\n",
       "    </tr>\n",
       "    <tr>\n",
       "      <th>48714</th>\n",
       "      <td>455963</td>\n",
       "      <td>0.094106</td>\n",
       "    </tr>\n",
       "    <tr>\n",
       "      <th>48715</th>\n",
       "      <td>455965</td>\n",
       "      <td>0.048263</td>\n",
       "    </tr>\n",
       "    <tr>\n",
       "      <th>48716</th>\n",
       "      <td>456007</td>\n",
       "      <td>0.381146</td>\n",
       "    </tr>\n",
       "    <tr>\n",
       "      <th>48717</th>\n",
       "      <td>456008</td>\n",
       "      <td>0.034577</td>\n",
       "    </tr>\n",
       "    <tr>\n",
       "      <th>48718</th>\n",
       "      <td>456009</td>\n",
       "      <td>0.109961</td>\n",
       "    </tr>\n",
       "    <tr>\n",
       "      <th>48719</th>\n",
       "      <td>456010</td>\n",
       "      <td>0.122243</td>\n",
       "    </tr>\n",
       "    <tr>\n",
       "      <th>48720</th>\n",
       "      <td>456011</td>\n",
       "      <td>0.100576</td>\n",
       "    </tr>\n",
       "    <tr>\n",
       "      <th>48721</th>\n",
       "      <td>456013</td>\n",
       "      <td>0.106158</td>\n",
       "    </tr>\n",
       "    <tr>\n",
       "      <th>48722</th>\n",
       "      <td>456028</td>\n",
       "      <td>0.190415</td>\n",
       "    </tr>\n",
       "    <tr>\n",
       "      <th>48723</th>\n",
       "      <td>456058</td>\n",
       "      <td>0.036417</td>\n",
       "    </tr>\n",
       "    <tr>\n",
       "      <th>48724</th>\n",
       "      <td>456111</td>\n",
       "      <td>0.121146</td>\n",
       "    </tr>\n",
       "    <tr>\n",
       "      <th>48725</th>\n",
       "      <td>456114</td>\n",
       "      <td>0.142944</td>\n",
       "    </tr>\n",
       "    <tr>\n",
       "      <th>48726</th>\n",
       "      <td>456115</td>\n",
       "      <td>0.088734</td>\n",
       "    </tr>\n",
       "    <tr>\n",
       "      <th>48727</th>\n",
       "      <td>456116</td>\n",
       "      <td>0.042139</td>\n",
       "    </tr>\n",
       "    <tr>\n",
       "      <th>48728</th>\n",
       "      <td>456119</td>\n",
       "      <td>0.034341</td>\n",
       "    </tr>\n",
       "    <tr>\n",
       "      <th>48729</th>\n",
       "      <td>456120</td>\n",
       "      <td>0.080845</td>\n",
       "    </tr>\n",
       "    <tr>\n",
       "      <th>48730</th>\n",
       "      <td>456122</td>\n",
       "      <td>0.102592</td>\n",
       "    </tr>\n",
       "    <tr>\n",
       "      <th>48731</th>\n",
       "      <td>456123</td>\n",
       "      <td>0.043695</td>\n",
       "    </tr>\n",
       "    <tr>\n",
       "      <th>48732</th>\n",
       "      <td>456166</td>\n",
       "      <td>0.132972</td>\n",
       "    </tr>\n",
       "    <tr>\n",
       "      <th>48733</th>\n",
       "      <td>456167</td>\n",
       "      <td>0.059120</td>\n",
       "    </tr>\n",
       "    <tr>\n",
       "      <th>48734</th>\n",
       "      <td>456168</td>\n",
       "      <td>0.111026</td>\n",
       "    </tr>\n",
       "    <tr>\n",
       "      <th>48735</th>\n",
       "      <td>456169</td>\n",
       "      <td>0.034143</td>\n",
       "    </tr>\n",
       "    <tr>\n",
       "      <th>48736</th>\n",
       "      <td>456170</td>\n",
       "      <td>0.039189</td>\n",
       "    </tr>\n",
       "    <tr>\n",
       "      <th>48737</th>\n",
       "      <td>456189</td>\n",
       "      <td>0.046155</td>\n",
       "    </tr>\n",
       "    <tr>\n",
       "      <th>48738</th>\n",
       "      <td>456202</td>\n",
       "      <td>0.056431</td>\n",
       "    </tr>\n",
       "    <tr>\n",
       "      <th>48739</th>\n",
       "      <td>456221</td>\n",
       "      <td>0.041617</td>\n",
       "    </tr>\n",
       "    <tr>\n",
       "      <th>48740</th>\n",
       "      <td>456222</td>\n",
       "      <td>0.079815</td>\n",
       "    </tr>\n",
       "    <tr>\n",
       "      <th>48741</th>\n",
       "      <td>456223</td>\n",
       "      <td>0.040856</td>\n",
       "    </tr>\n",
       "    <tr>\n",
       "      <th>48742</th>\n",
       "      <td>456224</td>\n",
       "      <td>0.100215</td>\n",
       "    </tr>\n",
       "    <tr>\n",
       "      <th>48743</th>\n",
       "      <td>456250</td>\n",
       "      <td>0.109192</td>\n",
       "    </tr>\n",
       "  </tbody>\n",
       "</table>\n",
       "<p>48744 rows × 2 columns</p>\n",
       "</div>"
      ],
      "text/plain": [
       "       SK_ID_CURR         1\n",
       "0          100001  0.031738\n",
       "1          100005  0.125166\n",
       "2          100013  0.047222\n",
       "3          100028  0.061840\n",
       "4          100038  0.121475\n",
       "5          100042  0.024588\n",
       "6          100057  0.059472\n",
       "7          100065  0.060096\n",
       "8          100066  0.033208\n",
       "9          100067  0.045432\n",
       "10         100074  0.043614\n",
       "11         100090  0.081181\n",
       "12         100091  0.120841\n",
       "13         100092  0.068865\n",
       "14         100106  0.092702\n",
       "15         100107  0.084974\n",
       "16         100109  0.043536\n",
       "17         100117  0.055893\n",
       "18         100128  0.080894\n",
       "19         100141  0.056907\n",
       "20         100150  0.059767\n",
       "21         100168  0.019583\n",
       "22         100169  0.030155\n",
       "23         100170  0.060318\n",
       "24         100171  0.061614\n",
       "25         100172  0.113158\n",
       "26         100184  0.057949\n",
       "27         100187  0.060485\n",
       "28         100212  0.053123\n",
       "29         100222  0.039122\n",
       "...           ...       ...\n",
       "48714      455963  0.094106\n",
       "48715      455965  0.048263\n",
       "48716      456007  0.381146\n",
       "48717      456008  0.034577\n",
       "48718      456009  0.109961\n",
       "48719      456010  0.122243\n",
       "48720      456011  0.100576\n",
       "48721      456013  0.106158\n",
       "48722      456028  0.190415\n",
       "48723      456058  0.036417\n",
       "48724      456111  0.121146\n",
       "48725      456114  0.142944\n",
       "48726      456115  0.088734\n",
       "48727      456116  0.042139\n",
       "48728      456119  0.034341\n",
       "48729      456120  0.080845\n",
       "48730      456122  0.102592\n",
       "48731      456123  0.043695\n",
       "48732      456166  0.132972\n",
       "48733      456167  0.059120\n",
       "48734      456168  0.111026\n",
       "48735      456169  0.034143\n",
       "48736      456170  0.039189\n",
       "48737      456189  0.046155\n",
       "48738      456202  0.056431\n",
       "48739      456221  0.041617\n",
       "48740      456222  0.079815\n",
       "48741      456223  0.040856\n",
       "48742      456224  0.100215\n",
       "48743      456250  0.109192\n",
       "\n",
       "[48744 rows x 2 columns]"
      ]
     },
     "execution_count": 73,
     "metadata": {},
     "output_type": "execute_result"
    }
   ],
   "source": [
    "train_cat"
   ]
  },
  {
   "cell_type": "code",
   "execution_count": null,
   "metadata": {},
   "outputs": [],
   "source": [
    "train_subset = train[['SK_ID_CURR', 'TARGET', 'AMT_INCOME_TOTAL', 'AMT_CREDIT', 'AMT_ANNUITY']]"
   ]
  },
  {
   "cell_type": "code",
   "execution_count": null,
   "metadata": {},
   "outputs": [],
   "source": [
    "annuity_avg = np.mean(train_subset.AMT_ANNUITY)"
   ]
  },
  {
   "cell_type": "code",
   "execution_count": null,
   "metadata": {},
   "outputs": [],
   "source": [
    "train_subset.AMT_ANNUITY = train_subset.AMT_ANNUITY.fillna(annuity_avg)"
   ]
  },
  {
   "cell_type": "code",
   "execution_count": null,
   "metadata": {},
   "outputs": [],
   "source": [
    "X, y = train_subset.drop(['SK_ID_CURR','TARGET'], axis = 1), train_subset.TARGET"
   ]
  },
  {
   "cell_type": "code",
   "execution_count": null,
   "metadata": {},
   "outputs": [],
   "source": [
    "model = RandomForestClassifier()"
   ]
  },
  {
   "cell_type": "code",
   "execution_count": null,
   "metadata": {},
   "outputs": [],
   "source": [
    "model"
   ]
  },
  {
   "cell_type": "code",
   "execution_count": null,
   "metadata": {},
   "outputs": [],
   "source": [
    "model.fit(X, y)"
   ]
  },
  {
   "cell_type": "code",
   "execution_count": null,
   "metadata": {},
   "outputs": [],
   "source": [
    "test_subset = test[['SK_ID_CURR', 'AMT_INCOME_TOTAL', 'AMT_CREDIT', 'AMT_ANNUITY']]"
   ]
  },
  {
   "cell_type": "code",
   "execution_count": null,
   "metadata": {},
   "outputs": [],
   "source": [
    "test_subset.AMT_ANNUITY = test_subset.AMT_ANNUITY.fillna(np.mean(test_subset.AMT_ANNUITY))"
   ]
  },
  {
   "cell_type": "code",
   "execution_count": null,
   "metadata": {},
   "outputs": [],
   "source": [
    "test_X = test_subset.drop('SK_ID_CURR', axis = 1)"
   ]
  },
  {
   "cell_type": "code",
   "execution_count": null,
   "metadata": {},
   "outputs": [],
   "source": [
    "test_y = pd.DataFrame(model.predict_proba(test_X))"
   ]
  },
  {
   "cell_type": "code",
   "execution_count": null,
   "metadata": {},
   "outputs": [],
   "source": [
    "submission_df = pd.concat([test.SK_ID_CURR, test_y], axis=1).drop(0, axis = 1)"
   ]
  },
  {
   "cell_type": "code",
   "execution_count": null,
   "metadata": {},
   "outputs": [],
   "source": [
    "submission_df.columns = ['SK_ID_CURR', 'Target']"
   ]
  },
  {
   "cell_type": "code",
   "execution_count": null,
   "metadata": {},
   "outputs": [],
   "source": [
    "#submission_df.to_csv('first_submission.csv', index = False)"
   ]
  },
  {
   "cell_type": "code",
   "execution_count": null,
   "metadata": {},
   "outputs": [],
   "source": [
    "############################## All Numeric Non-Null Columns"
   ]
  },
  {
   "cell_type": "code",
   "execution_count": null,
   "metadata": {},
   "outputs": [],
   "source": [
    "numeric_train = train.select_dtypes(exclude='object')"
   ]
  },
  {
   "cell_type": "code",
   "execution_count": null,
   "metadata": {},
   "outputs": [],
   "source": [
    "numeric_train_subset = numeric_train.dropna(axis = 1)"
   ]
  },
  {
   "cell_type": "code",
   "execution_count": null,
   "metadata": {},
   "outputs": [],
   "source": [
    "X, y = numeric_train_subset.drop(['SK_ID_CURR','TARGET'], axis = 1), numeric_train_subset.TARGET"
   ]
  },
  {
   "cell_type": "code",
   "execution_count": null,
   "metadata": {},
   "outputs": [],
   "source": [
    "model.fit(X, y)"
   ]
  },
  {
   "cell_type": "code",
   "execution_count": null,
   "metadata": {},
   "outputs": [],
   "source": [
    "test_X2 = test[X.columns]"
   ]
  },
  {
   "cell_type": "code",
   "execution_count": null,
   "metadata": {},
   "outputs": [],
   "source": [
    "test_y2 = pd.DataFrame(model.predict_proba(test_X2))"
   ]
  },
  {
   "cell_type": "code",
   "execution_count": null,
   "metadata": {},
   "outputs": [],
   "source": [
    "submission_df2 = pd.concat([test.SK_ID_CURR, test_y2], axis=1).drop(0, axis = 1)"
   ]
  },
  {
   "cell_type": "code",
   "execution_count": null,
   "metadata": {},
   "outputs": [],
   "source": [
    "submission_df2.columns = ['SK_ID_CURR', 'Target']"
   ]
  },
  {
   "cell_type": "code",
   "execution_count": null,
   "metadata": {},
   "outputs": [],
   "source": [
    "#submission_df2.to_csv('2nd_submission.csv', index = False)"
   ]
  },
  {
   "cell_type": "code",
   "execution_count": null,
   "metadata": {},
   "outputs": [],
   "source": [
    "##### catboost"
   ]
  },
  {
   "cell_type": "code",
   "execution_count": null,
   "metadata": {},
   "outputs": [],
   "source": [
    "from catboost import CatBoostClassifier"
   ]
  },
  {
   "cell_type": "code",
   "execution_count": null,
   "metadata": {},
   "outputs": [],
   "source": [
    "cat_model = CatBoostClassifier(iterations=10,\n",
    "    learning_rate=0.1)"
   ]
  },
  {
   "cell_type": "code",
   "execution_count": null,
   "metadata": {},
   "outputs": [],
   "source": [
    "cat_model.fit(X, y)"
   ]
  },
  {
   "cell_type": "code",
   "execution_count": null,
   "metadata": {},
   "outputs": [],
   "source": [
    "test_y_cat = pd.DataFrame(cat_model.predict_proba(test_X2))\n",
    "submission_cat = pd.concat([test.SK_ID_CURR, test_y_cat], axis=1).drop(0, axis = 1)\n",
    "submission_cat.columns = ['SK_ID_CURR', 'Target']\n",
    "#submission_cat.to_csv('submission_cat.csv', index = False)"
   ]
  },
  {
   "cell_type": "code",
   "execution_count": null,
   "metadata": {},
   "outputs": [],
   "source": [
    "##### EDA"
   ]
  },
  {
   "cell_type": "code",
   "execution_count": null,
   "metadata": {},
   "outputs": [],
   "source": [
    "import matplotlib.pyplot as plt"
   ]
  },
  {
   "cell_type": "code",
   "execution_count": null,
   "metadata": {},
   "outputs": [],
   "source": [
    "train_subset = train_subset.loc[train_subset.AMT_INCOME_TOTAL <= 100000000]"
   ]
  },
  {
   "cell_type": "code",
   "execution_count": null,
   "metadata": {},
   "outputs": [],
   "source": [
    "numeric_train.groupby('TARGET').median()"
   ]
  },
  {
   "cell_type": "code",
   "execution_count": null,
   "metadata": {},
   "outputs": [],
   "source": [
    "numeric_train.FLAG_DOCUMENT_4.value_counts()"
   ]
  },
  {
   "cell_type": "code",
   "execution_count": null,
   "metadata": {},
   "outputs": [],
   "source": [
    "from sklearn.metrics import confusion_matrix"
   ]
  },
  {
   "cell_type": "code",
   "execution_count": null,
   "metadata": {},
   "outputs": [],
   "source": [
    "confusion_matrix(numeric_train.FLAG_DOCUMENT_4, numeric_train.TARGET)"
   ]
  },
  {
   "cell_type": "code",
   "execution_count": null,
   "metadata": {},
   "outputs": [],
   "source": [
    "numeric_train.FLAG_DOCUMENT_4.value_counts()"
   ]
  },
  {
   "cell_type": "code",
   "execution_count": null,
   "metadata": {},
   "outputs": [],
   "source": [
    "numeric_train.TARGET.value_counts()"
   ]
  },
  {
   "cell_type": "code",
   "execution_count": null,
   "metadata": {},
   "outputs": [],
   "source": [
    "##### Exploring Bureau Data"
   ]
  },
  {
   "cell_type": "code",
   "execution_count": null,
   "metadata": {},
   "outputs": [],
   "source": [
    "bureau_data.head()"
   ]
  },
  {
   "cell_type": "code",
   "execution_count": null,
   "metadata": {},
   "outputs": [],
   "source": [
    "bureau_data_grouped = bureau_data.groupby('SK_ID_CURR', as_index=False).agg({'SK_ID_BUREAU': 'count', 'AMT_CREDIT_MAX_OVERDUE':sum,\\\n",
    "                                                      'AMT_CREDIT_SUM_OVERDUE': sum})"
   ]
  },
  {
   "cell_type": "code",
   "execution_count": null,
   "metadata": {},
   "outputs": [],
   "source": [
    "# Joining Bureau Grouped Data with Train Data\n",
    "\n",
    "merged_data = train.merge(bureau_data_grouped, how = 'left', left_on = 'SK_ID_CURR', right_on = 'SK_ID_CURR')"
   ]
  },
  {
   "cell_type": "code",
   "execution_count": null,
   "metadata": {},
   "outputs": [],
   "source": [
    "merged_data = merged_data[['SK_ID_CURR','TARGET','NAME_CONTRACT_TYPE','CODE_GENDER','FLAG_OWN_CAR','FLAG_OWN_REALTY','CNT_CHILDREN','AMT_INCOME_TOTAL','AMT_CREDIT','AMT_ANNUITY','AMT_GOODS_PRICE','NAME_TYPE_SUITE',\\\n",
    "            'NAME_INCOME_TYPE','NAME_EDUCATION_TYPE','NAME_FAMILY_STATUS','NAME_HOUSING_TYPE','REGION_POPULATION_RELATIVE','DAYS_BIRTH','DAYS_EMPLOYED','DAYS_REGISTRATION','DAYS_ID_PUBLISH',\\\n",
    "            'OWN_CAR_AGE','FLAG_MOBIL','FLAG_EMP_PHONE','FLAG_WORK_PHONE','FLAG_CONT_MOBILE','FLAG_PHONE','FLAG_EMAIL','CNT_FAM_MEMBERS','REGION_RATING_CLIENT','REGION_RATING_CLIENT_W_CITY',\\\n",
    "            'WEEKDAY_APPR_PROCESS_START','EMERGENCYSTATE_MODE','FLAG_DOCUMENT_2','FLAG_DOCUMENT_3','FLAG_DOCUMENT_4','FLAG_DOCUMENT_5','FLAG_DOCUMENT_6','FLAG_DOCUMENT_7','FLAG_DOCUMENT_8',\\\n",
    "            'FLAG_DOCUMENT_9','FLAG_DOCUMENT_10','FLAG_DOCUMENT_11','FLAG_DOCUMENT_12','FLAG_DOCUMENT_13','FLAG_DOCUMENT_14','FLAG_DOCUMENT_15','FLAG_DOCUMENT_16','FLAG_DOCUMENT_17','FLAG_DOCUMENT_18',\\\n",
    "            'FLAG_DOCUMENT_21','FLAG_DOCUMENT_20','FLAG_DOCUMENT_21','AMT_CREDIT_MAX_OVERDUE','AMT_CREDIT_SUM_OVERDUE']]\n"
   ]
  },
  {
   "cell_type": "code",
   "execution_count": null,
   "metadata": {},
   "outputs": [],
   "source": [
    "len(merged_data.columns)"
   ]
  },
  {
   "cell_type": "code",
   "execution_count": null,
   "metadata": {},
   "outputs": [],
   "source": [
    "merged_data_dummies = pd.get_dummies(merged_data)"
   ]
  },
  {
   "cell_type": "code",
   "execution_count": null,
   "metadata": {},
   "outputs": [],
   "source": [
    "def fill_missing_avg(df, col):\n",
    "    df[col] = df[col].fillna(np.mean(df[col]))"
   ]
  },
  {
   "cell_type": "code",
   "execution_count": null,
   "metadata": {},
   "outputs": [],
   "source": [
    "fill_missing_avg(merged_data_dummies, 'AMT_ANNUITY')\n",
    "fill_missing_avg(merged_data_dummies, 'AMT_GOODS_PRICE')\n",
    "fill_missing_avg(merged_data_dummies, 'OWN_CAR_AGE')\n",
    "fill_missing_avg(merged_data_dummies, 'CNT_FAM_MEMBERS')\n",
    "fill_missing_avg(merged_data_dummies, 'AMT_CREDIT_MAX_OVERDUE')\n",
    "fill_missing_avg(merged_data_dummies, 'AMT_CREDIT_MAX_OVERDUE')\n",
    "fill_missing_avg(merged_data_dummies, 'AMT_CREDIT_SUM_OVERDUE')"
   ]
  },
  {
   "cell_type": "code",
   "execution_count": null,
   "metadata": {},
   "outputs": [],
   "source": [
    "X, y = merged_data_dummies.drop(['SK_ID_CURR','TARGET','CODE_GENDER_XNA','NAME_FAMILY_STATUS_Unknown', 'NAME_INCOME_TYPE_Maternity leave'], axis = 1), merged_data_dummies.TARGET"
   ]
  },
  {
   "cell_type": "code",
   "execution_count": null,
   "metadata": {},
   "outputs": [],
   "source": [
    "cat_model.fit(X, y)"
   ]
  },
  {
   "cell_type": "code",
   "execution_count": null,
   "metadata": {},
   "outputs": [],
   "source": [
    "merged_test = test.merge(bureau_data_grouped, how = 'left', left_on = 'SK_ID_CURR', right_on = 'SK_ID_CURR')"
   ]
  },
  {
   "cell_type": "code",
   "execution_count": null,
   "metadata": {},
   "outputs": [],
   "source": [
    "merged_test = merged_test[['SK_ID_CURR','NAME_CONTRACT_TYPE','CODE_GENDER','FLAG_OWN_CAR','FLAG_OWN_REALTY','CNT_CHILDREN','AMT_INCOME_TOTAL','AMT_CREDIT','AMT_ANNUITY','AMT_GOODS_PRICE','NAME_TYPE_SUITE',\\\n",
    "            'NAME_INCOME_TYPE','NAME_EDUCATION_TYPE','NAME_FAMILY_STATUS','NAME_HOUSING_TYPE','REGION_POPULATION_RELATIVE','DAYS_BIRTH','DAYS_EMPLOYED','DAYS_REGISTRATION','DAYS_ID_PUBLISH',\\\n",
    "            'OWN_CAR_AGE','FLAG_MOBIL','FLAG_EMP_PHONE','FLAG_WORK_PHONE','FLAG_CONT_MOBILE','FLAG_PHONE','FLAG_EMAIL','CNT_FAM_MEMBERS','REGION_RATING_CLIENT','REGION_RATING_CLIENT_W_CITY',\\\n",
    "            'WEEKDAY_APPR_PROCESS_START','EMERGENCYSTATE_MODE','FLAG_DOCUMENT_2','FLAG_DOCUMENT_3','FLAG_DOCUMENT_4','FLAG_DOCUMENT_5','FLAG_DOCUMENT_6','FLAG_DOCUMENT_7','FLAG_DOCUMENT_8',\\\n",
    "            'FLAG_DOCUMENT_9','FLAG_DOCUMENT_10','FLAG_DOCUMENT_11','FLAG_DOCUMENT_12','FLAG_DOCUMENT_13','FLAG_DOCUMENT_14','FLAG_DOCUMENT_15','FLAG_DOCUMENT_16','FLAG_DOCUMENT_17','FLAG_DOCUMENT_18',\\\n",
    "            'FLAG_DOCUMENT_21','FLAG_DOCUMENT_20','FLAG_DOCUMENT_21','AMT_CREDIT_MAX_OVERDUE','AMT_CREDIT_SUM_OVERDUE']]"
   ]
  },
  {
   "cell_type": "code",
   "execution_count": null,
   "metadata": {},
   "outputs": [],
   "source": [
    "merged_test_dummies = pd.get_dummies(merged_test)"
   ]
  },
  {
   "cell_type": "code",
   "execution_count": null,
   "metadata": {},
   "outputs": [],
   "source": [
    "fill_missing_avg(merged_test_dummies, 'AMT_ANNUITY')\n",
    "fill_missing_avg(merged_test_dummies, 'OWN_CAR_AGE')\n",
    "fill_missing_avg(merged_test_dummies, 'AMT_CREDIT_MAX_OVERDUE')\n",
    "fill_missing_avg(merged_test_dummies, 'AMT_CREDIT_SUM_OVERDUE')"
   ]
  },
  {
   "cell_type": "code",
   "execution_count": null,
   "metadata": {},
   "outputs": [],
   "source": [
    "IDs = merged_test_dummies['SK_ID_CURR']"
   ]
  },
  {
   "cell_type": "code",
   "execution_count": null,
   "metadata": {},
   "outputs": [],
   "source": [
    "merged_test_dummies = merged_test_dummies.drop('SK_ID_CURR', axis = 1)"
   ]
  },
  {
   "cell_type": "code",
   "execution_count": null,
   "metadata": {},
   "outputs": [],
   "source": [
    "test_y_cat = pd.DataFrame(cat_model.predict_proba(merged_test_dummies))\n",
    "submission_cat = pd.concat([IDs, test_y_cat], axis=1).drop(0, axis = 1)\n",
    "submission_cat.columns = ['SK_ID_CURR', 'Target']\n",
    "submission_cat.to_csv('submission_cat2.csv', index = False)"
   ]
  },
  {
   "cell_type": "code",
   "execution_count": null,
   "metadata": {},
   "outputs": [],
   "source": [
    "##### Naive Bayes"
   ]
  },
  {
   "cell_type": "code",
   "execution_count": null,
   "metadata": {},
   "outputs": [],
   "source": [
    "from sklearn.naive_bayes import BernoulliNB"
   ]
  },
  {
   "cell_type": "code",
   "execution_count": null,
   "metadata": {},
   "outputs": [],
   "source": [
    "nb_model = BernoulliNB()"
   ]
  },
  {
   "cell_type": "code",
   "execution_count": null,
   "metadata": {},
   "outputs": [],
   "source": [
    "merged_data_dummies['DAYS_BIRTH'] = merged_data_dummies['DAYS_BIRTH'] * -1"
   ]
  },
  {
   "cell_type": "code",
   "execution_count": null,
   "metadata": {},
   "outputs": [],
   "source": [
    "merged_data_dummies['DAYS_REGISTRATION'] = merged_data_dummies['DAYS_REGISTRATION'].apply(lambda x: x * -1 if x < 0 else x)\n",
    "merged_data_dummies['DAYS_EMPLOYED'] = merged_data_dummies['DAYS_EMPLOYED'].apply(lambda x: x * -1 if x < 0 else x)\n",
    "merged_data_dummies['DAYS_ID_PUBLISH'] = merged_data_dummies['DAYS_ID_PUBLISH'].apply(lambda x: x * -1 if x < 0 else x)"
   ]
  },
  {
   "cell_type": "code",
   "execution_count": null,
   "metadata": {},
   "outputs": [],
   "source": [
    "X, y = merged_data_dummies.drop(['SK_ID_CURR','TARGET','CODE_GENDER_XNA','NAME_FAMILY_STATUS_Unknown', 'NAME_INCOME_TYPE_Maternity leave'], axis = 1), merged_data_dummies.TARGET"
   ]
  },
  {
   "cell_type": "code",
   "execution_count": null,
   "metadata": {},
   "outputs": [],
   "source": [
    "nb_model.fit(X, y)"
   ]
  },
  {
   "cell_type": "code",
   "execution_count": null,
   "metadata": {},
   "outputs": [],
   "source": [
    "merged_test_dummies['DAYS_BIRTH'] = merged_test_dummies['DAYS_BIRTH'].apply(lambda x: x * -1 if x < 0 else x)\n",
    "merged_test_dummies['DAYS_REGISTRATION'] = merged_test_dummies['DAYS_REGISTRATION'].apply(lambda x: x * -1 if x < 0 else x)\n",
    "merged_test_dummies['DAYS_EMPLOYED'] = merged_test_dummies['DAYS_EMPLOYED'].apply(lambda x: x * -1 if x < 0 else x)\n",
    "merged_test_dummies['DAYS_ID_PUBLISH'] = merged_test_dummies['DAYS_ID_PUBLISH'].apply(lambda x: x * -1 if x < 0 else x)\n",
    "merged_test_dummies['REGION_RATING_CLIENT_W_CITY'] = merged_test_dummies['REGION_RATING_CLIENT_W_CITY'].apply(lambda x: x * -1 if x < 0 else x)"
   ]
  },
  {
   "cell_type": "code",
   "execution_count": null,
   "metadata": {},
   "outputs": [],
   "source": [
    "test_y_nb = pd.DataFrame(nb_model.predict_proba(merged_test_dummies))\n",
    "submission_nb = pd.concat([IDs, test_y_nb], axis=1).drop(0, axis = 1)\n",
    "submission_nb.columns = ['SK_ID_CURR', 'Target']\n",
    "submission_nb.to_csv('submission_nb1.csv', index = False)"
   ]
  },
  {
   "cell_type": "code",
   "execution_count": null,
   "metadata": {},
   "outputs": [],
   "source": [
    "### Random Forest Classifier"
   ]
  },
  {
   "cell_type": "code",
   "execution_count": null,
   "metadata": {},
   "outputs": [],
   "source": [
    "from sklearn.ensemble import RandomForestClassifier"
   ]
  },
  {
   "cell_type": "code",
   "execution_count": null,
   "metadata": {},
   "outputs": [],
   "source": [
    "rf_model = RandomForestClassifier(n_estimators =25, \n",
    "                                       random_state = 1, \n",
    "                                       criterion='gini')"
   ]
  },
  {
   "cell_type": "code",
   "execution_count": null,
   "metadata": {},
   "outputs": [],
   "source": [
    "rf_model.fit(X, y)"
   ]
  },
  {
   "cell_type": "code",
   "execution_count": null,
   "metadata": {},
   "outputs": [],
   "source": [
    "new_test_dummies = new_test_dummies.drop('SK_ID_CURR', axis = 1)"
   ]
  },
  {
   "cell_type": "code",
   "execution_count": null,
   "metadata": {},
   "outputs": [],
   "source": [
    "test_y_rf = pd.DataFrame(rf_model.predict_proba(new_test_dummies))"
   ]
  },
  {
   "cell_type": "code",
   "execution_count": null,
   "metadata": {},
   "outputs": [],
   "source": [
    "new_test_dummies.columns"
   ]
  },
  {
   "cell_type": "code",
   "execution_count": null,
   "metadata": {},
   "outputs": [],
   "source": [
    "[i for i in X.columns if i not in new_test_dummies.columns]"
   ]
  },
  {
   "cell_type": "code",
   "execution_count": null,
   "metadata": {},
   "outputs": [],
   "source": [
    "new_test_dummies."
   ]
  },
  {
   "cell_type": "code",
   "execution_count": null,
   "metadata": {},
   "outputs": [],
   "source": [
    "new_test_dummies.head()"
   ]
  },
  {
   "cell_type": "code",
   "execution_count": null,
   "metadata": {},
   "outputs": [],
   "source": [
    "\n",
    "submission_rf = pd.concat([IDs, test_y_rf], axis=1).drop(0, axis = 1)\n",
    "submission_rf.columns = ['SK_ID_CURR', 'Target']\n",
    "submission_rf.to_csv('submission_rf2.csv', index = False)"
   ]
  },
  {
   "cell_type": "code",
   "execution_count": null,
   "metadata": {},
   "outputs": [],
   "source": [
    "pd.DataFrame(sorted(zip(rf_model.feature_importances_, X.columns), reverse=True), \\\n",
    "             columns = ['Importance','Metric']).head(15)"
   ]
  },
  {
   "cell_type": "code",
   "execution_count": null,
   "metadata": {},
   "outputs": [],
   "source": [
    "train.info()"
   ]
  },
  {
   "cell_type": "code",
   "execution_count": null,
   "metadata": {},
   "outputs": [],
   "source": []
  }
 ],
 "metadata": {
  "kernelspec": {
   "display_name": "Python 2",
   "language": "python",
   "name": "python2"
  },
  "language_info": {
   "codemirror_mode": {
    "name": "ipython",
    "version": 2
   },
   "file_extension": ".py",
   "mimetype": "text/x-python",
   "name": "python",
   "nbconvert_exporter": "python",
   "pygments_lexer": "ipython2",
   "version": "2.7.13"
  }
 },
 "nbformat": 4,
 "nbformat_minor": 2
}
